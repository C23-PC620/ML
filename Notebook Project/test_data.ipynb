{
 "cells": [
  {
   "attachments": {},
   "cell_type": "markdown",
   "metadata": {},
   "source": [
    "## install dan imports"
   ]
  },
  {
   "cell_type": "code",
   "execution_count": 2,
   "metadata": {},
   "outputs": [
    {
     "name": "stdout",
     "output_type": "stream",
     "text": [
      "Requirement already satisfied: geopy in c:\\users\\hp\\anaconda3\\envs\\teguhpy\\lib\\site-packages (2.3.0)\n",
      "Requirement already satisfied: geographiclib<3,>=1.52 in c:\\users\\hp\\anaconda3\\envs\\teguhpy\\lib\\site-packages (from geopy) (2.0)\n"
     ]
    }
   ],
   "source": [
    "# untuk bekerja dengan data geografis, termasuk geolokasi, perhitungan jarak, dan manipulasi data koordinat geografis\n",
    "!pip install geopy \n",
    "\n",
    "import numpy as np # untuk operasi numerik dan komputasi array multidimensi secara efisien.\n",
    "import pandas as pd # untuk manipulasi dan analisis data \n",
    "import pickle # # untuk serialisasi dan deserialisasi objek Python.\n",
    "import tensorflow as tf # untuk machine learning dan neural network."
   ]
  },
  {
   "attachments": {},
   "cell_type": "markdown",
   "metadata": {},
   "source": [
    "## menyiapkan beberapa komponen untuk testing"
   ]
  },
  {
   "attachments": {},
   "cell_type": "markdown",
   "metadata": {},
   "source": [
    "### menyiapkan the model, scaler dan processed data"
   ]
  },
  {
   "cell_type": "code",
   "execution_count": 3,
   "metadata": {},
   "outputs": [],
   "source": [
    "loaded_model = tf.keras.models.load_model('data_hotel.h5')\n",
    "with open('scaler.pkl', 'rb') as f:\n",
    "    loaded_scaler = pickle.load(f)\n",
    "data_model = pd.read_csv('processed_data_hotel.csv')"
   ]
  },
  {
   "attachments": {},
   "cell_type": "markdown",
   "metadata": {},
   "source": [
    "### menyiapkan fungsi"
   ]
  },
  {
   "cell_type": "code",
   "execution_count": 4,
   "metadata": {},
   "outputs": [],
   "source": [
    "def predict_rating(longitude, latitude):\n",
    "    # Melakukan penskalaan terhadap longitude dan latitude menggunakan skalar yang telah dimuat sebelumnya.\n",
    "    scaled_location = loaded_scaler.transform(np.array([longitude, latitude]).reshape(1, -1))\n",
    "\n",
    "    # Memprediksi rating menggunakan model yang telah dimuat sebelumnya \n",
    "    predicted_rating = loaded_model.predict(scaled_location)\n",
    "\n",
    "    # Mengonversi hasil prediksi rating dari format kategorikal ke rating asli dengan mengambil argumen terbesar dari hasil prediksi dan menambahkan 1.\n",
    "    predicted_rating = np.argmax(predicted_rating, axis=-1) + 1\n",
    "\n",
    "    # Mencari tempat terdekat dengan menghitung jarak Euclidean Kemudian, mencari tempat dengan jarak terdekat menggunakan indeks dengan nilai jarak terkecil (idxmin) dan mengambil beberapa informasi terkait tempat tersebut.\n",
    "    data_model['dist'] = np.sqrt((data_model['longitude'] - longitude)**2 + (data_model['latitude'] - latitude)**2)\n",
    "    nearest_place = data_model.loc[data_model['dist'].idxmin(), ['city', 'name', 'displayName', 'region', 'longitude', 'latitude', 'userRating']]\n",
    "\n",
    "    return predicted_rating, nearest_place\n"
   ]
  },
  {
   "attachments": {},
   "cell_type": "markdown",
   "metadata": {},
   "source": [
    "## sample input"
   ]
  },
  {
   "cell_type": "code",
   "execution_count": 5,
   "metadata": {},
   "outputs": [],
   "source": [
    "longitude = 106.816  # replace with your longitude\n",
    "latitude = -6.2  # replace with your latitude"
   ]
  },
  {
   "attachments": {},
   "cell_type": "markdown",
   "metadata": {},
   "source": [
    "## memanggil fungsi untuk testing"
   ]
  },
  {
   "cell_type": "code",
   "execution_count": 6,
   "metadata": {},
   "outputs": [
    {
     "name": "stderr",
     "output_type": "stream",
     "text": [
      "c:\\Users\\HP\\anaconda3\\envs\\teguhpy\\lib\\site-packages\\sklearn\\base.py:439: UserWarning: X does not have valid feature names, but StandardScaler was fitted with feature names\n",
      "  warnings.warn(\n"
     ]
    },
    {
     "name": "stdout",
     "output_type": "stream",
     "text": [
      "1/1 [==============================] - 0s 299ms/step\n",
      "Predicted Rating:  [4]\n",
      "Nearest place: \n",
      "city                          Jakarta\n",
      "name               Shangri-La Jakarta\n",
      "displayName        Shangri-La Jakarta\n",
      "region         Karet Tengsin, Jakarta\n",
      "longitude                  106.818753\n",
      "latitude                    -6.202312\n",
      "userRating                          4\n",
      "Name: 55, dtype: object\n"
     ]
    }
   ],
   "source": [
    "predicted_rating, nearest_place = predict_rating(longitude, latitude)\n",
    "print(\"Predicted Rating: \", predicted_rating)\n",
    "print(\"Nearest place: \")\n",
    "print(nearest_place)"
   ]
  },
  {
   "cell_type": "code",
   "execution_count": null,
   "metadata": {},
   "outputs": [],
   "source": []
  }
 ],
 "metadata": {
  "kernelspec": {
   "display_name": "base",
   "language": "python",
   "name": "python3"
  },
  "language_info": {
   "codemirror_mode": {
    "name": "ipython",
    "version": 3
   },
   "file_extension": ".py",
   "mimetype": "text/x-python",
   "name": "python",
   "nbconvert_exporter": "python",
   "pygments_lexer": "ipython3",
   "version": "3.10.11"
  },
  "orig_nbformat": 4
 },
 "nbformat": 4,
 "nbformat_minor": 2
}
