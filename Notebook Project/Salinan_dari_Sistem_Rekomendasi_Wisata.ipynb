{
 "cells": [
  {
   "cell_type": "markdown",
   "metadata": {
    "id": "pl_OzIlMljtM"
   },
   "source": [
    "# Sistem Rekomendasi Destinasi Wisata dengan Collaborative Filtering\n",
    "<hr>\n",
    "\n",
    "#### Sumber data: https://www.kaggle.com/aprabowo/indonesia-tourism-destination"
   ]
  },
  {
   "cell_type": "markdown",
   "metadata": {
    "id": "BfabEt9PlW3u"
   },
   "source": [
    "## 1. Mengimpor Library Python yang Dibutuhkan"
   ]
  },
  {
   "cell_type": "code",
   "execution_count": 1,
   "metadata": {
    "execution": {
     "iopub.execute_input": "2021-10-27T02:47:50.289722Z",
     "iopub.status.busy": "2021-10-27T02:47:50.289232Z",
     "iopub.status.idle": "2021-10-27T02:47:57.225664Z",
     "shell.execute_reply": "2021-10-27T02:47:57.224748Z",
     "shell.execute_reply.started": "2021-10-27T02:47:50.289616Z"
    },
    "id": "nIgpP-3ihkU0"
   },
   "outputs": [],
   "source": [
    "# Untuk pengolahan data\n",
    "import pandas as pd\n",
    "import numpy as np\n",
    "from zipfile import ZipFile\n",
    "from pathlib import Path\n",
    "\n",
    "# Untuk visualisasi data\n",
    "import seaborn as sns\n",
    "import matplotlib.pyplot as plt\n",
    "\n",
    "%matplotlib inline\n",
    "sns.set_palette('Set1')\n",
    "sns.set()\n",
    "\n",
    "# Untuk pemodelan\n",
    "import tensorflow as tf\n",
    "from tensorflow import keras\n",
    "from tensorflow.keras import layers\n",
    "\n",
    "# Untuk menghilangkan warnings saat plotting seaborn\n",
    "import warnings\n",
    "warnings.filterwarnings('ignore')\n",
    "\n",
    "# Untuk mengupload file\n",
    "import os"
   ]
  },
  {
   "cell_type": "code",
   "execution_count": 2,
   "metadata": {},
   "outputs": [
    {
     "name": "stdout",
     "output_type": "stream",
     "text": [
      "D:/Dataset Bangkit/archive/package_tourism.csv\n",
      "D:/Dataset Bangkit/archive/tourism_rating.csv\n",
      "D:/Dataset Bangkit/archive/tourism_with_id.csv\n",
      "D:/Dataset Bangkit/archive/user.csv\n"
     ]
    }
   ],
   "source": [
    "for dirname, _, filenames in os.walk('D:/Dataset Bangkit/archive/'): #membuka file\n",
    "    for filename in filenames:\n",
    "        print(os.path.join(dirname, filename))"
   ]
  },
  {
   "cell_type": "markdown",
   "metadata": {
    "id": "YuAzSI5xyBOJ"
   },
   "source": [
    "## 2. Menyiapkan Dataset yang digunakan"
   ]
  },
  {
   "cell_type": "code",
   "execution_count": 3,
   "metadata": {
    "colab": {
     "base_uri": "https://localhost:8080/",
     "height": 399
    },
    "execution": {
     "iopub.execute_input": "2021-10-27T02:47:57.228062Z",
     "iopub.status.busy": "2021-10-27T02:47:57.227763Z",
     "iopub.status.idle": "2021-10-27T02:47:57.241949Z",
     "shell.execute_reply": "2021-10-27T02:47:57.241285Z",
     "shell.execute_reply.started": "2021-10-27T02:47:57.228019Z"
    },
    "id": "u58NPqZhhn-l",
    "outputId": "88ce167b-7755-4970-cd14-cddc495a067c"
   },
   "outputs": [],
   "source": [
    "# Upload semua dataset yang dipakai\n",
    "import pandas as pd\n",
    "rating = pd.read_csv('D:/Dataset Bangkit/archive/tourism_rating.csv')\n",
    "place = pd.read_csv('D:/Dataset Bangkit/archive/tourism_with_id.csv')\n",
    "user = pd.read_csv('D:/Dataset Bangkit/archive/user.csv')"
   ]
  },
  {
   "cell_type": "markdown",
   "metadata": {
    "id": "Ls7Ze-uWnlLM"
   },
   "source": [
    "##### Keterangan:\n",
    "* tourism_with_id.csv - mengandung informasi tempak wisata di 5 kota besar di Indonesia\n",
    "* user.csv - mengandung informasi pengguna untuk membuat rekomendasi fitur berdasar pengguna\n",
    "* tourism_rating.csv - mengandung informasi pengguna, tempat wisata, dan rating untuk membuat sistem rekomendasi berdasar rating\n"
   ]
  },
  {
   "cell_type": "markdown",
   "metadata": {
    "id": "rQvGwWhCx3SZ"
   },
   "source": [
    "## 3. Data Understanding"
   ]
  },
  {
   "cell_type": "markdown",
   "metadata": {
    "id": "VXlIb7w1yZkc"
   },
   "source": [
    "### 3.1 Menyiapkan Data"
   ]
  },
  {
   "cell_type": "code",
   "execution_count": 4,
   "metadata": {
    "id": "XiWx7S-EQMev"
   },
   "outputs": [
    {
     "name": "stdout",
     "output_type": "stream",
     "text": [
      "number of duplicates :  Empty DataFrame\n",
      "Columns: [Place_Id, Place_Name, Description, Category, City, Price, Rating, Time_Minutes, Coordinate, Lat, Long, Unnamed: 11, Unnamed: 12]\n",
      "Index: []\n"
     ]
    }
   ],
   "source": [
    "duplicate_rows_df = place[place.duplicated()]\n",
    "print(\"number of duplicates : \", duplicate_rows_df)"
   ]
  },
  {
   "cell_type": "markdown",
   "metadata": {
    "id": "IhgAOgsTyeaX"
   },
   "source": [
    "### 3.2 Eksplorasi Fitur-fitur pada Data"
   ]
  },
  {
   "cell_type": "markdown",
   "metadata": {
    "id": "Tc6EM20Iywo3"
   },
   "source": [
    "#### 3.2.1. Data place"
   ]
  },
  {
   "cell_type": "code",
   "execution_count": 5,
   "metadata": {
    "execution": {
     "iopub.execute_input": "2021-10-27T02:47:57.303450Z",
     "iopub.status.busy": "2021-10-27T02:47:57.302999Z",
     "iopub.status.idle": "2021-10-27T02:47:57.326257Z",
     "shell.execute_reply": "2021-10-27T02:47:57.325692Z",
     "shell.execute_reply.started": "2021-10-27T02:47:57.303417Z"
    },
    "id": "HnXNiyxt0hb3"
   },
   "outputs": [
    {
     "data": {
      "text/html": [
       "<div>\n",
       "<style scoped>\n",
       "    .dataframe tbody tr th:only-of-type {\n",
       "        vertical-align: middle;\n",
       "    }\n",
       "\n",
       "    .dataframe tbody tr th {\n",
       "        vertical-align: top;\n",
       "    }\n",
       "\n",
       "    .dataframe thead th {\n",
       "        text-align: right;\n",
       "    }\n",
       "</style>\n",
       "<table border=\"1\" class=\"dataframe\">\n",
       "  <thead>\n",
       "    <tr style=\"text-align: right;\">\n",
       "      <th></th>\n",
       "      <th>Place_Id</th>\n",
       "      <th>Place_Name</th>\n",
       "      <th>Description</th>\n",
       "      <th>Category</th>\n",
       "      <th>City</th>\n",
       "      <th>Price</th>\n",
       "      <th>Rating</th>\n",
       "      <th>Time_Minutes</th>\n",
       "      <th>Coordinate</th>\n",
       "      <th>Lat</th>\n",
       "      <th>Long</th>\n",
       "      <th>Unnamed: 11</th>\n",
       "      <th>Unnamed: 12</th>\n",
       "    </tr>\n",
       "  </thead>\n",
       "  <tbody>\n",
       "    <tr>\n",
       "      <th>0</th>\n",
       "      <td>1</td>\n",
       "      <td>Monumen Nasional</td>\n",
       "      <td>Monumen Nasional atau yang populer disingkat d...</td>\n",
       "      <td>Budaya</td>\n",
       "      <td>Jakarta</td>\n",
       "      <td>20000</td>\n",
       "      <td>4.6</td>\n",
       "      <td>15.0</td>\n",
       "      <td>{'lat': -6.1753924, 'lng': 106.8271528}</td>\n",
       "      <td>-6.175392</td>\n",
       "      <td>106.827153</td>\n",
       "      <td>NaN</td>\n",
       "      <td>1</td>\n",
       "    </tr>\n",
       "    <tr>\n",
       "      <th>1</th>\n",
       "      <td>2</td>\n",
       "      <td>Kota Tua</td>\n",
       "      <td>Kota tua di Jakarta, yang juga bernama Kota Tu...</td>\n",
       "      <td>Budaya</td>\n",
       "      <td>Jakarta</td>\n",
       "      <td>0</td>\n",
       "      <td>4.6</td>\n",
       "      <td>90.0</td>\n",
       "      <td>{'lat': -6.137644799999999, 'lng': 106.8171245}</td>\n",
       "      <td>-6.137645</td>\n",
       "      <td>106.817125</td>\n",
       "      <td>NaN</td>\n",
       "      <td>2</td>\n",
       "    </tr>\n",
       "    <tr>\n",
       "      <th>2</th>\n",
       "      <td>3</td>\n",
       "      <td>Dunia Fantasi</td>\n",
       "      <td>Dunia Fantasi atau disebut juga Dufan adalah t...</td>\n",
       "      <td>Taman Hiburan</td>\n",
       "      <td>Jakarta</td>\n",
       "      <td>270000</td>\n",
       "      <td>4.6</td>\n",
       "      <td>360.0</td>\n",
       "      <td>{'lat': -6.125312399999999, 'lng': 106.8335377}</td>\n",
       "      <td>-6.125312</td>\n",
       "      <td>106.833538</td>\n",
       "      <td>NaN</td>\n",
       "      <td>3</td>\n",
       "    </tr>\n",
       "    <tr>\n",
       "      <th>3</th>\n",
       "      <td>4</td>\n",
       "      <td>Taman Mini Indonesia Indah (TMII)</td>\n",
       "      <td>Taman Mini Indonesia Indah merupakan suatu kaw...</td>\n",
       "      <td>Taman Hiburan</td>\n",
       "      <td>Jakarta</td>\n",
       "      <td>10000</td>\n",
       "      <td>4.5</td>\n",
       "      <td>NaN</td>\n",
       "      <td>{'lat': -6.302445899999999, 'lng': 106.8951559}</td>\n",
       "      <td>-6.302446</td>\n",
       "      <td>106.895156</td>\n",
       "      <td>NaN</td>\n",
       "      <td>4</td>\n",
       "    </tr>\n",
       "    <tr>\n",
       "      <th>4</th>\n",
       "      <td>5</td>\n",
       "      <td>Atlantis Water Adventure</td>\n",
       "      <td>Atlantis Water Adventure atau dikenal dengan A...</td>\n",
       "      <td>Taman Hiburan</td>\n",
       "      <td>Jakarta</td>\n",
       "      <td>94000</td>\n",
       "      <td>4.5</td>\n",
       "      <td>60.0</td>\n",
       "      <td>{'lat': -6.12419, 'lng': 106.839134}</td>\n",
       "      <td>-6.124190</td>\n",
       "      <td>106.839134</td>\n",
       "      <td>NaN</td>\n",
       "      <td>5</td>\n",
       "    </tr>\n",
       "  </tbody>\n",
       "</table>\n",
       "</div>"
      ],
      "text/plain": [
       "   Place_Id                         Place_Name  \\\n",
       "0         1                   Monumen Nasional   \n",
       "1         2                           Kota Tua   \n",
       "2         3                      Dunia Fantasi   \n",
       "3         4  Taman Mini Indonesia Indah (TMII)   \n",
       "4         5           Atlantis Water Adventure   \n",
       "\n",
       "                                         Description       Category     City  \\\n",
       "0  Monumen Nasional atau yang populer disingkat d...         Budaya  Jakarta   \n",
       "1  Kota tua di Jakarta, yang juga bernama Kota Tu...         Budaya  Jakarta   \n",
       "2  Dunia Fantasi atau disebut juga Dufan adalah t...  Taman Hiburan  Jakarta   \n",
       "3  Taman Mini Indonesia Indah merupakan suatu kaw...  Taman Hiburan  Jakarta   \n",
       "4  Atlantis Water Adventure atau dikenal dengan A...  Taman Hiburan  Jakarta   \n",
       "\n",
       "    Price  Rating  Time_Minutes  \\\n",
       "0   20000     4.6          15.0   \n",
       "1       0     4.6          90.0   \n",
       "2  270000     4.6         360.0   \n",
       "3   10000     4.5           NaN   \n",
       "4   94000     4.5          60.0   \n",
       "\n",
       "                                        Coordinate       Lat        Long  \\\n",
       "0          {'lat': -6.1753924, 'lng': 106.8271528} -6.175392  106.827153   \n",
       "1  {'lat': -6.137644799999999, 'lng': 106.8171245} -6.137645  106.817125   \n",
       "2  {'lat': -6.125312399999999, 'lng': 106.8335377} -6.125312  106.833538   \n",
       "3  {'lat': -6.302445899999999, 'lng': 106.8951559} -6.302446  106.895156   \n",
       "4             {'lat': -6.12419, 'lng': 106.839134} -6.124190  106.839134   \n",
       "\n",
       "   Unnamed: 11  Unnamed: 12  \n",
       "0          NaN            1  \n",
       "1          NaN            2  \n",
       "2          NaN            3  \n",
       "3          NaN            4  \n",
       "4          NaN            5  "
      ]
     },
     "execution_count": 5,
     "metadata": {},
     "output_type": "execute_result"
    }
   ],
   "source": [
    "# Melihat gambaran data place\n",
    "place.head()"
   ]
  },
  {
   "cell_type": "code",
   "execution_count": 6,
   "metadata": {
    "execution": {
     "iopub.execute_input": "2021-10-27T02:47:57.327674Z",
     "iopub.status.busy": "2021-10-27T02:47:57.327309Z",
     "iopub.status.idle": "2021-10-27T02:47:57.348001Z",
     "shell.execute_reply": "2021-10-27T02:47:57.347307Z",
     "shell.execute_reply.started": "2021-10-27T02:47:57.327644Z"
    },
    "id": "eFZErucJzMKU"
   },
   "outputs": [
    {
     "data": {
      "text/html": [
       "<div>\n",
       "<style scoped>\n",
       "    .dataframe tbody tr th:only-of-type {\n",
       "        vertical-align: middle;\n",
       "    }\n",
       "\n",
       "    .dataframe tbody tr th {\n",
       "        vertical-align: top;\n",
       "    }\n",
       "\n",
       "    .dataframe thead th {\n",
       "        text-align: right;\n",
       "    }\n",
       "</style>\n",
       "<table border=\"1\" class=\"dataframe\">\n",
       "  <thead>\n",
       "    <tr style=\"text-align: right;\">\n",
       "      <th></th>\n",
       "      <th>Place_Id</th>\n",
       "      <th>Place_Name</th>\n",
       "      <th>Description</th>\n",
       "      <th>Category</th>\n",
       "      <th>City</th>\n",
       "      <th>Price</th>\n",
       "      <th>Rating</th>\n",
       "      <th>Time_Minutes</th>\n",
       "      <th>Coordinate</th>\n",
       "      <th>Lat</th>\n",
       "      <th>Long</th>\n",
       "    </tr>\n",
       "  </thead>\n",
       "  <tbody>\n",
       "    <tr>\n",
       "      <th>0</th>\n",
       "      <td>1</td>\n",
       "      <td>Monumen Nasional</td>\n",
       "      <td>Monumen Nasional atau yang populer disingkat d...</td>\n",
       "      <td>Budaya</td>\n",
       "      <td>Jakarta</td>\n",
       "      <td>20000</td>\n",
       "      <td>4.6</td>\n",
       "      <td>15.0</td>\n",
       "      <td>{'lat': -6.1753924, 'lng': 106.8271528}</td>\n",
       "      <td>-6.175392</td>\n",
       "      <td>106.827153</td>\n",
       "    </tr>\n",
       "    <tr>\n",
       "      <th>1</th>\n",
       "      <td>2</td>\n",
       "      <td>Kota Tua</td>\n",
       "      <td>Kota tua di Jakarta, yang juga bernama Kota Tu...</td>\n",
       "      <td>Budaya</td>\n",
       "      <td>Jakarta</td>\n",
       "      <td>0</td>\n",
       "      <td>4.6</td>\n",
       "      <td>90.0</td>\n",
       "      <td>{'lat': -6.137644799999999, 'lng': 106.8171245}</td>\n",
       "      <td>-6.137645</td>\n",
       "      <td>106.817125</td>\n",
       "    </tr>\n",
       "    <tr>\n",
       "      <th>2</th>\n",
       "      <td>3</td>\n",
       "      <td>Dunia Fantasi</td>\n",
       "      <td>Dunia Fantasi atau disebut juga Dufan adalah t...</td>\n",
       "      <td>Taman Hiburan</td>\n",
       "      <td>Jakarta</td>\n",
       "      <td>270000</td>\n",
       "      <td>4.6</td>\n",
       "      <td>360.0</td>\n",
       "      <td>{'lat': -6.125312399999999, 'lng': 106.8335377}</td>\n",
       "      <td>-6.125312</td>\n",
       "      <td>106.833538</td>\n",
       "    </tr>\n",
       "    <tr>\n",
       "      <th>3</th>\n",
       "      <td>4</td>\n",
       "      <td>Taman Mini Indonesia Indah (TMII)</td>\n",
       "      <td>Taman Mini Indonesia Indah merupakan suatu kaw...</td>\n",
       "      <td>Taman Hiburan</td>\n",
       "      <td>Jakarta</td>\n",
       "      <td>10000</td>\n",
       "      <td>4.5</td>\n",
       "      <td>NaN</td>\n",
       "      <td>{'lat': -6.302445899999999, 'lng': 106.8951559}</td>\n",
       "      <td>-6.302446</td>\n",
       "      <td>106.895156</td>\n",
       "    </tr>\n",
       "    <tr>\n",
       "      <th>4</th>\n",
       "      <td>5</td>\n",
       "      <td>Atlantis Water Adventure</td>\n",
       "      <td>Atlantis Water Adventure atau dikenal dengan A...</td>\n",
       "      <td>Taman Hiburan</td>\n",
       "      <td>Jakarta</td>\n",
       "      <td>94000</td>\n",
       "      <td>4.5</td>\n",
       "      <td>60.0</td>\n",
       "      <td>{'lat': -6.12419, 'lng': 106.839134}</td>\n",
       "      <td>-6.124190</td>\n",
       "      <td>106.839134</td>\n",
       "    </tr>\n",
       "  </tbody>\n",
       "</table>\n",
       "</div>"
      ],
      "text/plain": [
       "   Place_Id                         Place_Name  \\\n",
       "0         1                   Monumen Nasional   \n",
       "1         2                           Kota Tua   \n",
       "2         3                      Dunia Fantasi   \n",
       "3         4  Taman Mini Indonesia Indah (TMII)   \n",
       "4         5           Atlantis Water Adventure   \n",
       "\n",
       "                                         Description       Category     City  \\\n",
       "0  Monumen Nasional atau yang populer disingkat d...         Budaya  Jakarta   \n",
       "1  Kota tua di Jakarta, yang juga bernama Kota Tu...         Budaya  Jakarta   \n",
       "2  Dunia Fantasi atau disebut juga Dufan adalah t...  Taman Hiburan  Jakarta   \n",
       "3  Taman Mini Indonesia Indah merupakan suatu kaw...  Taman Hiburan  Jakarta   \n",
       "4  Atlantis Water Adventure atau dikenal dengan A...  Taman Hiburan  Jakarta   \n",
       "\n",
       "    Price  Rating  Time_Minutes  \\\n",
       "0   20000     4.6          15.0   \n",
       "1       0     4.6          90.0   \n",
       "2  270000     4.6         360.0   \n",
       "3   10000     4.5           NaN   \n",
       "4   94000     4.5          60.0   \n",
       "\n",
       "                                        Coordinate       Lat        Long  \n",
       "0          {'lat': -6.1753924, 'lng': 106.8271528} -6.175392  106.827153  \n",
       "1  {'lat': -6.137644799999999, 'lng': 106.8171245} -6.137645  106.817125  \n",
       "2  {'lat': -6.125312399999999, 'lng': 106.8335377} -6.125312  106.833538  \n",
       "3  {'lat': -6.302445899999999, 'lng': 106.8951559} -6.302446  106.895156  \n",
       "4             {'lat': -6.12419, 'lng': 106.839134} -6.124190  106.839134  "
      ]
     },
     "execution_count": 6,
     "metadata": {},
     "output_type": "execute_result"
    }
   ],
   "source": [
    "# Membuang kolom yang tidak dipakai\n",
    "\n",
    "place = place.drop(['Unnamed: 11','Unnamed: 12'],axis=1)\n",
    "place.head()"
   ]
  },
  {
   "cell_type": "code",
   "execution_count": 7,
   "metadata": {
    "id": "n9c85-X3G2sI"
   },
   "outputs": [
    {
     "data": {
      "text/plain": [
       "Yogyakarta    126\n",
       "Bandung       124\n",
       "Jakarta        84\n",
       "Semarang       57\n",
       "Surabaya       46\n",
       "Name: City, dtype: int64"
      ]
     },
     "execution_count": 7,
     "metadata": {},
     "output_type": "execute_result"
    }
   ],
   "source": [
    "# sum over the column axis.\n",
    "place.City.value_counts(ascending = False)"
   ]
  },
  {
   "cell_type": "code",
   "execution_count": 8,
   "metadata": {
    "execution": {
     "iopub.execute_input": "2021-10-27T02:47:57.349623Z",
     "iopub.status.busy": "2021-10-27T02:47:57.348946Z",
     "iopub.status.idle": "2021-10-27T02:47:57.372157Z",
     "shell.execute_reply": "2021-10-27T02:47:57.371300Z",
     "shell.execute_reply.started": "2021-10-27T02:47:57.349573Z"
    },
    "id": "jzw8PQIdEPZ5"
   },
   "outputs": [],
   "source": [
    "# Merubah data agar hanya dari Kota Bandung\n",
    "\n",
    "#place = place[place['City']=='Bandung']\n",
    "#place.head()"
   ]
  },
  {
   "cell_type": "code",
   "execution_count": 9,
   "metadata": {
    "execution": {
     "iopub.execute_input": "2021-10-27T02:47:57.373856Z",
     "iopub.status.busy": "2021-10-27T02:47:57.373432Z",
     "iopub.status.idle": "2021-10-27T02:47:57.391689Z",
     "shell.execute_reply": "2021-10-27T02:47:57.390860Z",
     "shell.execute_reply.started": "2021-10-27T02:47:57.373822Z"
    },
    "id": "VhvGY2QEzghW"
   },
   "outputs": [
    {
     "name": "stdout",
     "output_type": "stream",
     "text": [
      "<class 'pandas.core.frame.DataFrame'>\n",
      "RangeIndex: 437 entries, 0 to 436\n",
      "Data columns (total 11 columns):\n",
      " #   Column        Non-Null Count  Dtype  \n",
      "---  ------        --------------  -----  \n",
      " 0   Place_Id      437 non-null    int64  \n",
      " 1   Place_Name    437 non-null    object \n",
      " 2   Description   437 non-null    object \n",
      " 3   Category      437 non-null    object \n",
      " 4   City          437 non-null    object \n",
      " 5   Price         437 non-null    int64  \n",
      " 6   Rating        437 non-null    float64\n",
      " 7   Time_Minutes  205 non-null    float64\n",
      " 8   Coordinate    437 non-null    object \n",
      " 9   Lat           437 non-null    float64\n",
      " 10  Long          437 non-null    float64\n",
      "dtypes: float64(4), int64(2), object(5)\n",
      "memory usage: 37.7+ KB\n"
     ]
    }
   ],
   "source": [
    "place.info()"
   ]
  },
  {
   "cell_type": "code",
   "execution_count": 10,
   "metadata": {
    "execution": {
     "iopub.execute_input": "2021-10-27T02:47:57.393332Z",
     "iopub.status.busy": "2021-10-27T02:47:57.393086Z",
     "iopub.status.idle": "2021-10-27T02:47:57.398190Z",
     "shell.execute_reply": "2021-10-27T02:47:57.397561Z",
     "shell.execute_reply.started": "2021-10-27T02:47:57.393302Z"
    },
    "id": "uO8SEj_mznSb"
   },
   "outputs": [],
   "source": [
    "# Membuang kolom yang tidak dipakai\n",
    "\n",
    "place = place.drop('Time_Minutes', axis=1)"
   ]
  },
  {
   "cell_type": "markdown",
   "metadata": {
    "id": "MkmQhBc9yrpq"
   },
   "source": [
    "#### 3.2.2. Data rating"
   ]
  },
  {
   "cell_type": "code",
   "execution_count": 11,
   "metadata": {
    "execution": {
     "iopub.execute_input": "2021-10-27T02:47:57.399565Z",
     "iopub.status.busy": "2021-10-27T02:47:57.399150Z",
     "iopub.status.idle": "2021-10-27T02:47:57.414473Z",
     "shell.execute_reply": "2021-10-27T02:47:57.413438Z",
     "shell.execute_reply.started": "2021-10-27T02:47:57.399532Z"
    },
    "id": "6LQMIb7s0cFU"
   },
   "outputs": [
    {
     "data": {
      "text/html": [
       "<div>\n",
       "<style scoped>\n",
       "    .dataframe tbody tr th:only-of-type {\n",
       "        vertical-align: middle;\n",
       "    }\n",
       "\n",
       "    .dataframe tbody tr th {\n",
       "        vertical-align: top;\n",
       "    }\n",
       "\n",
       "    .dataframe thead th {\n",
       "        text-align: right;\n",
       "    }\n",
       "</style>\n",
       "<table border=\"1\" class=\"dataframe\">\n",
       "  <thead>\n",
       "    <tr style=\"text-align: right;\">\n",
       "      <th></th>\n",
       "      <th>User_Id</th>\n",
       "      <th>Place_Id</th>\n",
       "      <th>Place_Ratings</th>\n",
       "    </tr>\n",
       "  </thead>\n",
       "  <tbody>\n",
       "    <tr>\n",
       "      <th>0</th>\n",
       "      <td>1</td>\n",
       "      <td>179</td>\n",
       "      <td>3</td>\n",
       "    </tr>\n",
       "    <tr>\n",
       "      <th>1</th>\n",
       "      <td>1</td>\n",
       "      <td>344</td>\n",
       "      <td>2</td>\n",
       "    </tr>\n",
       "    <tr>\n",
       "      <th>2</th>\n",
       "      <td>1</td>\n",
       "      <td>5</td>\n",
       "      <td>5</td>\n",
       "    </tr>\n",
       "    <tr>\n",
       "      <th>3</th>\n",
       "      <td>1</td>\n",
       "      <td>373</td>\n",
       "      <td>3</td>\n",
       "    </tr>\n",
       "    <tr>\n",
       "      <th>4</th>\n",
       "      <td>1</td>\n",
       "      <td>101</td>\n",
       "      <td>4</td>\n",
       "    </tr>\n",
       "  </tbody>\n",
       "</table>\n",
       "</div>"
      ],
      "text/plain": [
       "   User_Id  Place_Id  Place_Ratings\n",
       "0        1       179              3\n",
       "1        1       344              2\n",
       "2        1         5              5\n",
       "3        1       373              3\n",
       "4        1       101              4"
      ]
     },
     "execution_count": 11,
     "metadata": {},
     "output_type": "execute_result"
    }
   ],
   "source": [
    "# melihat gambaran data rating\n",
    "\n",
    "rating.head()"
   ]
  },
  {
   "cell_type": "code",
   "execution_count": 12,
   "metadata": {
    "execution": {
     "iopub.execute_input": "2021-10-27T02:47:57.418005Z",
     "iopub.status.busy": "2021-10-27T02:47:57.417682Z",
     "iopub.status.idle": "2021-10-27T02:47:57.430243Z",
     "shell.execute_reply": "2021-10-27T02:47:57.429156Z",
     "shell.execute_reply.started": "2021-10-27T02:47:57.417973Z"
    },
    "id": "jyaUT8hhzAil"
   },
   "outputs": [
    {
     "name": "stdout",
     "output_type": "stream",
     "text": [
      "<class 'pandas.core.frame.DataFrame'>\n",
      "RangeIndex: 10000 entries, 0 to 9999\n",
      "Data columns (total 3 columns):\n",
      " #   Column         Non-Null Count  Dtype\n",
      "---  ------         --------------  -----\n",
      " 0   User_Id        10000 non-null  int64\n",
      " 1   Place_Id       10000 non-null  int64\n",
      " 2   Place_Ratings  10000 non-null  int64\n",
      "dtypes: int64(3)\n",
      "memory usage: 234.5 KB\n"
     ]
    }
   ],
   "source": [
    "rating.info()"
   ]
  },
  {
   "cell_type": "code",
   "execution_count": 13,
   "metadata": {
    "execution": {
     "iopub.execute_input": "2021-10-27T02:47:57.432166Z",
     "iopub.status.busy": "2021-10-27T02:47:57.431851Z",
     "iopub.status.idle": "2021-10-27T02:47:57.450842Z",
     "shell.execute_reply": "2021-10-27T02:47:57.449940Z",
     "shell.execute_reply.started": "2021-10-27T02:47:57.432125Z"
    },
    "id": "HpkN9Ggoz7zd"
   },
   "outputs": [
    {
     "data": {
      "text/html": [
       "<div>\n",
       "<style scoped>\n",
       "    .dataframe tbody tr th:only-of-type {\n",
       "        vertical-align: middle;\n",
       "    }\n",
       "\n",
       "    .dataframe tbody tr th {\n",
       "        vertical-align: top;\n",
       "    }\n",
       "\n",
       "    .dataframe thead th {\n",
       "        text-align: right;\n",
       "    }\n",
       "</style>\n",
       "<table border=\"1\" class=\"dataframe\">\n",
       "  <thead>\n",
       "    <tr style=\"text-align: right;\">\n",
       "      <th></th>\n",
       "      <th>User_Id</th>\n",
       "      <th>Place_Id</th>\n",
       "      <th>Place_Ratings</th>\n",
       "    </tr>\n",
       "  </thead>\n",
       "  <tbody>\n",
       "    <tr>\n",
       "      <th>0</th>\n",
       "      <td>36</td>\n",
       "      <td>1</td>\n",
       "      <td>4</td>\n",
       "    </tr>\n",
       "    <tr>\n",
       "      <th>1</th>\n",
       "      <td>38</td>\n",
       "      <td>1</td>\n",
       "      <td>2</td>\n",
       "    </tr>\n",
       "    <tr>\n",
       "      <th>2</th>\n",
       "      <td>64</td>\n",
       "      <td>1</td>\n",
       "      <td>2</td>\n",
       "    </tr>\n",
       "    <tr>\n",
       "      <th>3</th>\n",
       "      <td>74</td>\n",
       "      <td>1</td>\n",
       "      <td>2</td>\n",
       "    </tr>\n",
       "    <tr>\n",
       "      <th>4</th>\n",
       "      <td>86</td>\n",
       "      <td>1</td>\n",
       "      <td>4</td>\n",
       "    </tr>\n",
       "  </tbody>\n",
       "</table>\n",
       "</div>"
      ],
      "text/plain": [
       "   User_Id  Place_Id  Place_Ratings\n",
       "0       36         1              4\n",
       "1       38         1              2\n",
       "2       64         1              2\n",
       "3       74         1              2\n",
       "4       86         1              4"
      ]
     },
     "execution_count": 13,
     "metadata": {},
     "output_type": "execute_result"
    }
   ],
   "source": [
    "# Merubah data rating agar hanya berisi rating pada tempat wisata\n",
    "rating = pd.merge(rating, place[['Place_Id']], how='right', on='Place_Id')\n",
    "rating.head()"
   ]
  },
  {
   "cell_type": "code",
   "execution_count": 14,
   "metadata": {
    "execution": {
     "iopub.execute_input": "2021-10-27T02:47:57.453233Z",
     "iopub.status.busy": "2021-10-27T02:47:57.452746Z",
     "iopub.status.idle": "2021-10-27T02:47:57.459573Z",
     "shell.execute_reply": "2021-10-27T02:47:57.458562Z",
     "shell.execute_reply.started": "2021-10-27T02:47:57.453190Z"
    },
    "id": "bGlaAHg2yyws"
   },
   "outputs": [
    {
     "data": {
      "text/plain": [
       "(10000, 3)"
      ]
     },
     "execution_count": 14,
     "metadata": {},
     "output_type": "execute_result"
    }
   ],
   "source": [
    "# Melihat ukuran dataset rating\n",
    "\n",
    "rating.shape"
   ]
  },
  {
   "cell_type": "markdown",
   "metadata": {
    "id": "CNSsKN17y4Q-"
   },
   "source": [
    "#### 3.2.3. Data user"
   ]
  },
  {
   "cell_type": "code",
   "execution_count": 15,
   "metadata": {
    "execution": {
     "iopub.execute_input": "2021-10-27T02:47:57.461777Z",
     "iopub.status.busy": "2021-10-27T02:47:57.461550Z",
     "iopub.status.idle": "2021-10-27T02:47:57.474513Z",
     "shell.execute_reply": "2021-10-27T02:47:57.473546Z",
     "shell.execute_reply.started": "2021-10-27T02:47:57.461751Z"
    },
    "id": "JpISoTwn06HO"
   },
   "outputs": [
    {
     "data": {
      "text/html": [
       "<div>\n",
       "<style scoped>\n",
       "    .dataframe tbody tr th:only-of-type {\n",
       "        vertical-align: middle;\n",
       "    }\n",
       "\n",
       "    .dataframe tbody tr th {\n",
       "        vertical-align: top;\n",
       "    }\n",
       "\n",
       "    .dataframe thead th {\n",
       "        text-align: right;\n",
       "    }\n",
       "</style>\n",
       "<table border=\"1\" class=\"dataframe\">\n",
       "  <thead>\n",
       "    <tr style=\"text-align: right;\">\n",
       "      <th></th>\n",
       "      <th>User_Id</th>\n",
       "      <th>Location</th>\n",
       "      <th>Age</th>\n",
       "    </tr>\n",
       "  </thead>\n",
       "  <tbody>\n",
       "    <tr>\n",
       "      <th>0</th>\n",
       "      <td>1</td>\n",
       "      <td>Semarang, Jawa Tengah</td>\n",
       "      <td>20</td>\n",
       "    </tr>\n",
       "    <tr>\n",
       "      <th>1</th>\n",
       "      <td>2</td>\n",
       "      <td>Bekasi, Jawa Barat</td>\n",
       "      <td>21</td>\n",
       "    </tr>\n",
       "    <tr>\n",
       "      <th>2</th>\n",
       "      <td>3</td>\n",
       "      <td>Cirebon, Jawa Barat</td>\n",
       "      <td>23</td>\n",
       "    </tr>\n",
       "    <tr>\n",
       "      <th>3</th>\n",
       "      <td>4</td>\n",
       "      <td>Bekasi, Jawa Barat</td>\n",
       "      <td>21</td>\n",
       "    </tr>\n",
       "    <tr>\n",
       "      <th>4</th>\n",
       "      <td>5</td>\n",
       "      <td>Lampung, Sumatera Selatan</td>\n",
       "      <td>20</td>\n",
       "    </tr>\n",
       "  </tbody>\n",
       "</table>\n",
       "</div>"
      ],
      "text/plain": [
       "   User_Id                   Location  Age\n",
       "0        1      Semarang, Jawa Tengah   20\n",
       "1        2         Bekasi, Jawa Barat   21\n",
       "2        3        Cirebon, Jawa Barat   23\n",
       "3        4         Bekasi, Jawa Barat   21\n",
       "4        5  Lampung, Sumatera Selatan   20"
      ]
     },
     "execution_count": 15,
     "metadata": {},
     "output_type": "execute_result"
    }
   ],
   "source": [
    "# Melihat gambaran data user\n",
    "\n",
    "user.head()"
   ]
  },
  {
   "cell_type": "code",
   "execution_count": 16,
   "metadata": {
    "execution": {
     "iopub.execute_input": "2021-10-27T02:47:57.476450Z",
     "iopub.status.busy": "2021-10-27T02:47:57.475978Z",
     "iopub.status.idle": "2021-10-27T02:47:57.500759Z",
     "shell.execute_reply": "2021-10-27T02:47:57.499622Z",
     "shell.execute_reply.started": "2021-10-27T02:47:57.476406Z"
    },
    "id": "fQ_CVdh34EL4"
   },
   "outputs": [
    {
     "data": {
      "text/html": [
       "<div>\n",
       "<style scoped>\n",
       "    .dataframe tbody tr th:only-of-type {\n",
       "        vertical-align: middle;\n",
       "    }\n",
       "\n",
       "    .dataframe tbody tr th {\n",
       "        vertical-align: top;\n",
       "    }\n",
       "\n",
       "    .dataframe thead th {\n",
       "        text-align: right;\n",
       "    }\n",
       "</style>\n",
       "<table border=\"1\" class=\"dataframe\">\n",
       "  <thead>\n",
       "    <tr style=\"text-align: right;\">\n",
       "      <th></th>\n",
       "      <th>User_Id</th>\n",
       "      <th>Location</th>\n",
       "      <th>Age</th>\n",
       "    </tr>\n",
       "  </thead>\n",
       "  <tbody>\n",
       "    <tr>\n",
       "      <th>83</th>\n",
       "      <td>1</td>\n",
       "      <td>Semarang, Jawa Tengah</td>\n",
       "      <td>20</td>\n",
       "    </tr>\n",
       "    <tr>\n",
       "      <th>18</th>\n",
       "      <td>2</td>\n",
       "      <td>Bekasi, Jawa Barat</td>\n",
       "      <td>21</td>\n",
       "    </tr>\n",
       "    <tr>\n",
       "      <th>345</th>\n",
       "      <td>3</td>\n",
       "      <td>Cirebon, Jawa Barat</td>\n",
       "      <td>23</td>\n",
       "    </tr>\n",
       "    <tr>\n",
       "      <th>62</th>\n",
       "      <td>4</td>\n",
       "      <td>Bekasi, Jawa Barat</td>\n",
       "      <td>21</td>\n",
       "    </tr>\n",
       "    <tr>\n",
       "      <th>63</th>\n",
       "      <td>5</td>\n",
       "      <td>Lampung, Sumatera Selatan</td>\n",
       "      <td>20</td>\n",
       "    </tr>\n",
       "  </tbody>\n",
       "</table>\n",
       "</div>"
      ],
      "text/plain": [
       "     User_Id                   Location  Age\n",
       "83         1      Semarang, Jawa Tengah   20\n",
       "18         2         Bekasi, Jawa Barat   21\n",
       "345        3        Cirebon, Jawa Barat   23\n",
       "62         4         Bekasi, Jawa Barat   21\n",
       "63         5  Lampung, Sumatera Selatan   20"
      ]
     },
     "execution_count": 16,
     "metadata": {},
     "output_type": "execute_result"
    }
   ],
   "source": [
    "# Merubah data user agar hanya berisi user yang pernah megunjungi wisata di suatu kota\n",
    "\n",
    "user = pd.merge(user, rating[['User_Id']], how='right', on='User_Id').drop_duplicates().sort_values('User_Id')\n",
    "user.head()"
   ]
  },
  {
   "cell_type": "code",
   "execution_count": 17,
   "metadata": {
    "execution": {
     "iopub.execute_input": "2021-10-27T02:47:57.504887Z",
     "iopub.status.busy": "2021-10-27T02:47:57.504058Z",
     "iopub.status.idle": "2021-10-27T02:47:57.511537Z",
     "shell.execute_reply": "2021-10-27T02:47:57.510675Z",
     "shell.execute_reply.started": "2021-10-27T02:47:57.504850Z"
    },
    "id": "BhoRngVgy_ZO"
   },
   "outputs": [
    {
     "data": {
      "text/plain": [
       "(300, 3)"
      ]
     },
     "execution_count": 17,
     "metadata": {},
     "output_type": "execute_result"
    }
   ],
   "source": [
    "# Melihat dataset user yang pernah memberi rating pada wisata\n",
    "user.shape"
   ]
  },
  {
   "cell_type": "markdown",
   "metadata": {
    "id": "VY-wWvMjt2kh"
   },
   "source": [
    "## 4. Eksplorasi Data"
   ]
  },
  {
   "cell_type": "code",
   "execution_count": 18,
   "metadata": {
    "execution": {
     "iopub.execute_input": "2021-10-27T02:47:57.513112Z",
     "iopub.status.busy": "2021-10-27T02:47:57.512826Z",
     "iopub.status.idle": "2021-10-27T02:47:58.064185Z",
     "shell.execute_reply": "2021-10-27T02:47:58.063238Z",
     "shell.execute_reply.started": "2021-10-27T02:47:57.513084Z"
    },
    "id": "VU0VTqlLMhME"
   },
   "outputs": [],
   "source": [
    "# Membuat dataframe berisi lokasi dengan jumlah rating terbanyak\n",
    "#top_10 = rating['Place_Id'].value_counts().reset_index()[0:10]\n",
    "#top_10 = pd.merge(top_10, place[['Place_Id','Place_Name']], how='left', left_on='index', right_on='Place_Id')\n",
    "\n",
    "# Membuat visualisasi wisata dengan jumlah rating terbanyak\n",
    "#plt.figure(figsize=(8,5))\n",
    "#sns.barplot('Place_Name', data=top_10)\n",
    "#plt.title('Jumlah Tempat Wisata dengan Rating Terbanyak', pad=20)\n",
    "#plt.ylabel('Jumlah Rating')\n",
    "#plt.xlabel('Nama Lokasi')\n",
    "#plt.show()"
   ]
  },
  {
   "cell_type": "code",
   "execution_count": 19,
   "metadata": {
    "execution": {
     "iopub.execute_input": "2021-10-27T02:47:58.065660Z",
     "iopub.status.busy": "2021-10-27T02:47:58.065436Z",
     "iopub.status.idle": "2021-10-27T02:47:58.318334Z",
     "shell.execute_reply": "2021-10-27T02:47:58.317466Z",
     "shell.execute_reply.started": "2021-10-27T02:47:58.065634Z"
    },
    "id": "tPPihnSA6LS8"
   },
   "outputs": [
    {
     "data": {
      "image/png": "[encoded data removed]",
      "text/plain": [
       "<Figure size 640x480 with 1 Axes>"
      ]
     },
     "metadata": {},
     "output_type": "display_data"
    }
   ],
   "source": [
    "# Membuat visualisasi jumlah kategori wisata\n",
    "\n",
    "sns.countplot(y='Category', data=place)\n",
    "plt.title('Perbandingan Jumlah Kategori Wisata', pad=20)\n",
    "plt.show()"
   ]
  },
  {
   "cell_type": "code",
   "execution_count": 20,
   "metadata": {
    "execution": {
     "iopub.execute_input": "2021-10-27T02:47:58.319681Z",
     "iopub.status.busy": "2021-10-27T02:47:58.319440Z",
     "iopub.status.idle": "2021-10-27T02:47:58.534462Z",
     "shell.execute_reply": "2021-10-27T02:47:58.533558Z",
     "shell.execute_reply.started": "2021-10-27T02:47:58.319653Z"
    },
    "id": "Nr0chrAsLl01"
   },
   "outputs": [
    {
     "data": {
      "image/png": "[encoded data removed]",
      "text/plain": [
       "<Figure size 500x300 with 1 Axes>"
      ]
     },
     "metadata": {},
     "output_type": "display_data"
    }
   ],
   "source": [
    "# Membuat visualisasi distribusi usia user\n",
    "\n",
    "plt.figure(figsize=(5,3))\n",
    "sns.boxplot(user['Age']);\n",
    "plt.title('Distribusi Usia User', pad=20)\n",
    "plt.show()"
   ]
  },
  {
   "cell_type": "code",
   "execution_count": 21,
   "metadata": {
    "execution": {
     "iopub.execute_input": "2021-10-27T02:47:58.536645Z",
     "iopub.status.busy": "2021-10-27T02:47:58.536316Z",
     "iopub.status.idle": "2021-10-27T02:47:58.781186Z",
     "shell.execute_reply": "2021-10-27T02:47:58.780263Z",
     "shell.execute_reply.started": "2021-10-27T02:47:58.536602Z"
    },
    "id": "ZSHgC9UqSK3J"
   },
   "outputs": [
    {
     "data": {
      "image/png": "[encoded data removed]",
      "text/plain": [
       "<Figure size 700x300 with 1 Axes>"
      ]
     },
     "metadata": {},
     "output_type": "display_data"
    }
   ],
   "source": [
    "# Membuat visualisasi distribusi harga masuk tempat wisata\n",
    "\n",
    "plt.figure(figsize=(7,3))\n",
    "sns.boxplot(place['Price'])\n",
    "plt.title('Distribusi Harga Masuk Wisata', pad=20)\n",
    "plt.show()"
   ]
  },
  {
   "cell_type": "code",
   "execution_count": 22,
   "metadata": {
    "execution": {
     "iopub.execute_input": "2021-10-27T02:47:58.782713Z",
     "iopub.status.busy": "2021-10-27T02:47:58.782474Z",
     "iopub.status.idle": "2021-10-27T02:47:59.234796Z",
     "shell.execute_reply": "2021-10-27T02:47:59.234133Z",
     "shell.execute_reply.started": "2021-10-27T02:47:58.782684Z"
    },
    "id": "kGobMR32UHps"
   },
   "outputs": [
    {
     "data": {
      "image/png": "[encoded data removed]",
      "text/plain": [
       "<Figure size 800x600 with 1 Axes>"
      ]
     },
     "metadata": {},
     "output_type": "display_data"
    }
   ],
   "source": [
    "# Memfilter asal kota dari user\n",
    "askot = user['Location'].apply(lambda x : x.split(',')[0])\n",
    "\n",
    "# Visualisasi asal kota dari user\n",
    "plt.figure(figsize=(8,6))\n",
    "sns.countplot(y=askot)\n",
    "plt.title('Jumlah Asal Kota dari User')\n",
    "plt.show()"
   ]
  },
  {
   "cell_type": "markdown",
   "metadata": {
    "id": "Af3XQ2miZaRH"
   },
   "source": [
    "## 5. Persiapan Data untuk Pemodelan"
   ]
  },
  {
   "cell_type": "markdown",
   "metadata": {
    "id": "JyAtGmZF2kqK"
   },
   "source": [
    "### 5.1. Membuat Salinan Data rating"
   ]
  },
  {
   "cell_type": "code",
   "execution_count": 23,
   "metadata": {
    "execution": {
     "iopub.execute_input": "2021-10-27T02:47:59.236541Z",
     "iopub.status.busy": "2021-10-27T02:47:59.235827Z",
     "iopub.status.idle": "2021-10-27T02:47:59.246232Z",
     "shell.execute_reply": "2021-10-27T02:47:59.245278Z",
     "shell.execute_reply.started": "2021-10-27T02:47:59.236499Z"
    },
    "id": "n47SDsSXZdck"
   },
   "outputs": [
    {
     "data": {
      "text/html": [
       "<div>\n",
       "<style scoped>\n",
       "    .dataframe tbody tr th:only-of-type {\n",
       "        vertical-align: middle;\n",
       "    }\n",
       "\n",
       "    .dataframe tbody tr th {\n",
       "        vertical-align: top;\n",
       "    }\n",
       "\n",
       "    .dataframe thead th {\n",
       "        text-align: right;\n",
       "    }\n",
       "</style>\n",
       "<table border=\"1\" class=\"dataframe\">\n",
       "  <thead>\n",
       "    <tr style=\"text-align: right;\">\n",
       "      <th></th>\n",
       "      <th>User_Id</th>\n",
       "      <th>Place_Id</th>\n",
       "      <th>Place_Ratings</th>\n",
       "    </tr>\n",
       "  </thead>\n",
       "  <tbody>\n",
       "    <tr>\n",
       "      <th>0</th>\n",
       "      <td>36</td>\n",
       "      <td>1</td>\n",
       "      <td>4</td>\n",
       "    </tr>\n",
       "    <tr>\n",
       "      <th>1</th>\n",
       "      <td>38</td>\n",
       "      <td>1</td>\n",
       "      <td>2</td>\n",
       "    </tr>\n",
       "    <tr>\n",
       "      <th>2</th>\n",
       "      <td>64</td>\n",
       "      <td>1</td>\n",
       "      <td>2</td>\n",
       "    </tr>\n",
       "    <tr>\n",
       "      <th>3</th>\n",
       "      <td>74</td>\n",
       "      <td>1</td>\n",
       "      <td>2</td>\n",
       "    </tr>\n",
       "    <tr>\n",
       "      <th>4</th>\n",
       "      <td>86</td>\n",
       "      <td>1</td>\n",
       "      <td>4</td>\n",
       "    </tr>\n",
       "  </tbody>\n",
       "</table>\n",
       "</div>"
      ],
      "text/plain": [
       "   User_Id  Place_Id  Place_Ratings\n",
       "0       36         1              4\n",
       "1       38         1              2\n",
       "2       64         1              2\n",
       "3       74         1              2\n",
       "4       86         1              4"
      ]
     },
     "execution_count": 23,
     "metadata": {},
     "output_type": "execute_result"
    }
   ],
   "source": [
    "# Membaca dataset untuk dilakukan encoding\n",
    " \n",
    "df = rating.copy()\n",
    "df.head()"
   ]
  },
  {
   "cell_type": "markdown",
   "metadata": {
    "id": "-h8alpCZ3JDS"
   },
   "source": [
    "### 5.2. Melakukan Encoding"
   ]
  },
  {
   "cell_type": "markdown",
   "metadata": {
    "id": "Wrl4fNfv522X"
   },
   "source": [
    "#### 5.2.1. Membuat Fungsi untuk Melakukan Encoding"
   ]
  },
  {
   "cell_type": "code",
   "execution_count": 24,
   "metadata": {
    "execution": {
     "iopub.execute_input": "2021-10-27T02:47:59.247931Z",
     "iopub.status.busy": "2021-10-27T02:47:59.247692Z",
     "iopub.status.idle": "2021-10-27T02:47:59.257812Z",
     "shell.execute_reply": "2021-10-27T02:47:59.257016Z",
     "shell.execute_reply.started": "2021-10-27T02:47:59.247902Z"
    },
    "id": "O1xFj77E3OnN"
   },
   "outputs": [],
   "source": [
    "def dict_encoder(col, data=df):\n",
    "\n",
    "  # Mengubah kolom suatu dataframe menjadi list tanpa nilai yang sama\n",
    "  unique_val = data[col].unique().tolist()\n",
    "\n",
    "  # Melakukan encoding value kolom suatu dataframe ke angka\n",
    "  val_to_val_encoded = {x: i for i, x in enumerate(unique_val)}\n",
    "\n",
    "  # Melakukan proses encoding angka ke value dari kolom suatu dataframe\n",
    "  val_encoded_to_val = {i: x for i, x in enumerate(unique_val)}\n",
    "  return val_to_val_encoded, val_encoded_to_val"
   ]
  },
  {
   "cell_type": "markdown",
   "metadata": {
    "id": "OWac6MRz0nhV"
   },
   "source": [
    "#### 5.2.2. Encoding dan Mapping Kolom User"
   ]
  },
  {
   "cell_type": "code",
   "execution_count": 25,
   "metadata": {
    "execution": {
     "iopub.execute_input": "2021-10-27T02:47:59.259621Z",
     "iopub.status.busy": "2021-10-27T02:47:59.259205Z",
     "iopub.status.idle": "2021-10-27T02:47:59.269938Z",
     "shell.execute_reply": "2021-10-27T02:47:59.268985Z",
     "shell.execute_reply.started": "2021-10-27T02:47:59.259571Z"
    },
    "id": "aUp25qsF4Tkp"
   },
   "outputs": [],
   "source": [
    "# Encoding User_Id\n",
    "user_to_user_encoded, user_encoded_to_user = dict_encoder('User_Id')\n",
    "\n",
    "# Mapping User_Id ke dataframe\n",
    "df['user'] = df['User_Id'].map(user_to_user_encoded)"
   ]
  },
  {
   "cell_type": "markdown",
   "metadata": {
    "id": "Ff1BSl4H5aMx"
   },
   "source": [
    "#### 5.2.3. Encoding dan Mapping Kolom Place"
   ]
  },
  {
   "cell_type": "code",
   "execution_count": 26,
   "metadata": {
    "execution": {
     "iopub.execute_input": "2021-10-27T02:47:59.272532Z",
     "iopub.status.busy": "2021-10-27T02:47:59.271886Z",
     "iopub.status.idle": "2021-10-27T02:47:59.284292Z",
     "shell.execute_reply": "2021-10-27T02:47:59.283510Z",
     "shell.execute_reply.started": "2021-10-27T02:47:59.272451Z"
    },
    "id": "_td4s8-e5hYA"
   },
   "outputs": [],
   "source": [
    "# Encoding Place_Id\n",
    "place_to_place_encoded, place_encoded_to_place = dict_encoder('Place_Id')\n",
    "\n",
    "# Mapping Place_Id ke dataframe place\n",
    "df['place'] = df['Place_Id'].map(place_to_place_encoded)"
   ]
  },
  {
   "cell_type": "markdown",
   "metadata": {
    "id": "JyphV9zl60Bw"
   },
   "source": [
    "### 5.3. Melihat Gambaran Data untuk Pemodelan"
   ]
  },
  {
   "cell_type": "code",
   "execution_count": 27,
   "metadata": {
    "execution": {
     "iopub.execute_input": "2021-10-27T02:47:59.286203Z",
     "iopub.status.busy": "2021-10-27T02:47:59.285323Z",
     "iopub.status.idle": "2021-10-27T02:47:59.296910Z",
     "shell.execute_reply": "2021-10-27T02:47:59.296035Z",
     "shell.execute_reply.started": "2021-10-27T02:47:59.286163Z"
    },
    "id": "aRhkdzsPaNUJ"
   },
   "outputs": [
    {
     "name": "stdout",
     "output_type": "stream",
     "text": [
      "Number of User: 300, Number of Place: 437, Min Rating: 1.0, Max Rating: 5.0\n"
     ]
    }
   ],
   "source": [
    "# Mendapatkan jumlah user dan place\n",
    "num_users, num_place = len(user_to_user_encoded), len(place_to_place_encoded)\n",
    " \n",
    "# Mengubah rating menjadi nilai float\n",
    "df['Place_Ratings'] = df['Place_Ratings'].values.astype(np.float32)\n",
    " \n",
    "# Mendapatkan nilai minimum dan maksimum rating\n",
    "min_rating, max_rating = min(df['Place_Ratings']), max(df['Place_Ratings'])\n",
    " \n",
    "print(f'Number of User: {num_users}, Number of Place: {num_place}, Min Rating: {min_rating}, Max Rating: {max_rating}')"
   ]
  },
  {
   "cell_type": "code",
   "execution_count": 28,
   "metadata": {
    "execution": {
     "iopub.execute_input": "2021-10-27T02:47:59.298997Z",
     "iopub.status.busy": "2021-10-27T02:47:59.298320Z",
     "iopub.status.idle": "2021-10-27T02:47:59.315306Z",
     "shell.execute_reply": "2021-10-27T02:47:59.314429Z",
     "shell.execute_reply.started": "2021-10-27T02:47:59.298949Z"
    },
    "id": "dLJWzgRyZ-qZ"
   },
   "outputs": [
    {
     "data": {
      "text/html": [
       "<div>\n",
       "<style scoped>\n",
       "    .dataframe tbody tr th:only-of-type {\n",
       "        vertical-align: middle;\n",
       "    }\n",
       "\n",
       "    .dataframe tbody tr th {\n",
       "        vertical-align: top;\n",
       "    }\n",
       "\n",
       "    .dataframe thead th {\n",
       "        text-align: right;\n",
       "    }\n",
       "</style>\n",
       "<table border=\"1\" class=\"dataframe\">\n",
       "  <thead>\n",
       "    <tr style=\"text-align: right;\">\n",
       "      <th></th>\n",
       "      <th>User_Id</th>\n",
       "      <th>Place_Id</th>\n",
       "      <th>Place_Ratings</th>\n",
       "      <th>user</th>\n",
       "      <th>place</th>\n",
       "    </tr>\n",
       "  </thead>\n",
       "  <tbody>\n",
       "    <tr>\n",
       "      <th>6252</th>\n",
       "      <td>203</td>\n",
       "      <td>274</td>\n",
       "      <td>2.0</td>\n",
       "      <td>36</td>\n",
       "      <td>273</td>\n",
       "    </tr>\n",
       "    <tr>\n",
       "      <th>4684</th>\n",
       "      <td>126</td>\n",
       "      <td>206</td>\n",
       "      <td>5.0</td>\n",
       "      <td>112</td>\n",
       "      <td>205</td>\n",
       "    </tr>\n",
       "  </tbody>\n",
       "</table>\n",
       "</div>"
      ],
      "text/plain": [
       "      User_Id  Place_Id  Place_Ratings  user  place\n",
       "6252      203       274            2.0    36    273\n",
       "4684      126       206            5.0   112    205"
      ]
     },
     "execution_count": 28,
     "metadata": {},
     "output_type": "execute_result"
    }
   ],
   "source": [
    "# Mengacak dataset\n",
    "df = df.sample(frac=1, random_state=42)\n",
    "df.head(2)"
   ]
  },
  {
   "cell_type": "markdown",
   "metadata": {
    "id": "w84bLhXK1ZmR"
   },
   "source": [
    "## 6. Pemodelan Machine Learning dengan RecommenderNet"
   ]
  },
  {
   "cell_type": "markdown",
   "metadata": {
    "id": "fFHmau_V1nym"
   },
   "source": [
    "### 6.1. Membagi data train dan test"
   ]
  },
  {
   "cell_type": "code",
   "execution_count": 29,
   "metadata": {
    "execution": {
     "iopub.execute_input": "2021-10-27T02:47:59.316732Z",
     "iopub.status.busy": "2021-10-27T02:47:59.316464Z",
     "iopub.status.idle": "2021-10-27T02:47:59.327092Z",
     "shell.execute_reply": "2021-10-27T02:47:59.326242Z",
     "shell.execute_reply.started": "2021-10-27T02:47:59.316702Z"
    },
    "id": "5ke4UQfBZ_SX"
   },
   "outputs": [],
   "source": [
    "# Membuat variabel x untuk mencocokkan data user dan place menjadi satu value\n",
    "x = df[['user', 'place']].values\n",
    " \n",
    "# Membuat variabel y untuk membuat rating dari hasil \n",
    "y = df['Place_Ratings'].apply(lambda x: (x - min_rating) / (max_rating - min_rating)).values\n",
    " \n",
    "# Membagi menjadi 80% data train dan 20% data validasi\n",
    "train_indices = int(0.8 * df.shape[0])\n",
    "x_train, x_val, y_train, y_val = (\n",
    "    x[:train_indices],\n",
    "    x[train_indices:],\n",
    "    y[:train_indices],\n",
    "    y[train_indices:]\n",
    ")"
   ]
  },
  {
   "cell_type": "markdown",
   "metadata": {
    "id": "SElD8TDB1744"
   },
   "source": [
    "### 6.2. Menyiapkan Model"
   ]
  },
  {
   "cell_type": "markdown",
   "metadata": {
    "id": "63cJPBop8uN1"
   },
   "source": [
    "#### 6.2.1. Inisialisasi Fungsi"
   ]
  },
  {
   "cell_type": "code",
   "execution_count": 30,
   "metadata": {
    "execution": {
     "iopub.execute_input": "2021-10-27T02:47:59.332048Z",
     "iopub.status.busy": "2021-10-27T02:47:59.331791Z",
     "iopub.status.idle": "2021-10-27T02:47:59.342759Z",
     "shell.execute_reply": "2021-10-27T02:47:59.341803Z",
     "shell.execute_reply.started": "2021-10-27T02:47:59.332022Z"
    },
    "id": "CuYEmQa3avO8"
   },
   "outputs": [],
   "source": [
    "class RecommenderNet(tf.keras.Model):\n",
    " \n",
    "  # Insialisasi fungsi\n",
    "  def __init__(self, num_users, num_places, embedding_size, **kwargs):\n",
    "    super(RecommenderNet, self).__init__(**kwargs)\n",
    "    self.num_users = num_users\n",
    "    self.num_places = num_places\n",
    "    self.embedding_size = embedding_size\n",
    "    self.user_embedding = layers.Embedding( # layer embedding user\n",
    "        num_users,\n",
    "        embedding_size,\n",
    "        embeddings_initializer = 'he_normal',\n",
    "        embeddings_regularizer = keras.regularizers.l2(1e-6)\n",
    "    )\n",
    "    self.user_bias = layers.Embedding(num_users, 1) # layer embedding user bias\n",
    "    self.places_embedding = layers.Embedding( # layer embeddings places\n",
    "        num_places,\n",
    "        embedding_size,\n",
    "        embeddings_initializer = 'he_normal',\n",
    "        embeddings_regularizer = keras.regularizers.l2(1e-6)\n",
    "    )\n",
    "    self.places_bias = layers.Embedding(num_places, 1) # layer embedding places bias\n",
    " \n",
    "  def call(self, inputs):\n",
    "    user_vector = self.user_embedding(inputs[:,0]) # memanggil layer embedding 1\n",
    "    user_bias = self.user_bias(inputs[:, 0]) # memanggil layer embedding 2\n",
    "    places_vector = self.places_embedding(inputs[:, 1]) # memanggil layer embedding 3\n",
    "    places_bias = self.places_bias(inputs[:, 1]) # memanggil layer embedding 4\n",
    " \n",
    "    dot_user_places = tf.tensordot(user_vector, places_vector, 2) \n",
    " \n",
    "    x = dot_user_places + user_bias + places_bias\n",
    "    \n",
    "    return tf.nn.sigmoid(x) # activation sigmoid"
   ]
  },
  {
   "cell_type": "markdown",
   "metadata": {
    "id": "Mi9E6U3V9HLU"
   },
   "source": [
    "#### 6.2.2. Inisialisasi Model"
   ]
  },
  {
   "cell_type": "code",
   "execution_count": 31,
   "metadata": {
    "execution": {
     "iopub.execute_input": "2021-10-27T02:47:59.344792Z",
     "iopub.status.busy": "2021-10-27T02:47:59.344419Z",
     "iopub.status.idle": "2021-10-27T02:47:59.441879Z",
     "shell.execute_reply": "2021-10-27T02:47:59.441011Z",
     "shell.execute_reply.started": "2021-10-27T02:47:59.344761Z"
    },
    "id": "Vuj1NPJoa0Gt"
   },
   "outputs": [],
   "source": [
    "model = RecommenderNet(num_users, num_place, 50) # inisialisasi model\n",
    " \n",
    "# model compile\n",
    "model.compile(\n",
    "    loss = tf.keras.losses.BinaryCrossentropy(),\n",
    "    optimizer = keras.optimizers.Adam(learning_rate=0.0004),\n",
    "    metrics=[tf.keras.metrics.RootMeanSquaredError()]\n",
    ")"
   ]
  },
  {
   "cell_type": "markdown",
   "metadata": {
    "id": "76Kvt1gJ-fuV"
   },
   "source": [
    "#### 6.2.2. Inisialisasi Callbacks"
   ]
  },
  {
   "cell_type": "code",
   "execution_count": 32,
   "metadata": {
    "execution": {
     "iopub.execute_input": "2021-10-27T02:47:59.443216Z",
     "iopub.status.busy": "2021-10-27T02:47:59.442970Z",
     "iopub.status.idle": "2021-10-27T02:47:59.449512Z",
     "shell.execute_reply": "2021-10-27T02:47:59.448376Z",
     "shell.execute_reply.started": "2021-10-27T02:47:59.443177Z"
    },
    "id": "_mkG8hVb-i7R"
   },
   "outputs": [],
   "source": [
    " class myCallback(tf.keras.callbacks.Callback):\n",
    "  def on_epoch_end(self, epoch, logs={}):\n",
    "    if(logs.get('val_root_mean_squared_error')<0.25):\n",
    "      print('Lapor! Metriks validasi sudah sesuai harapan')\n",
    "      self.model.stop_training = True"
   ]
  },
  {
   "cell_type": "markdown",
   "metadata": {
    "id": "kCvTLfOA9Pa5"
   },
   "source": [
    "#### 6.2.3. Proses Training"
   ]
  },
  {
   "cell_type": "code",
   "execution_count": 33,
   "metadata": {
    "execution": {
     "iopub.execute_input": "2021-10-27T02:47:59.452284Z",
     "iopub.status.busy": "2021-10-27T02:47:59.451273Z",
     "iopub.status.idle": "2021-10-27T02:48:17.170723Z",
     "shell.execute_reply": "2021-10-27T02:48:17.169906Z",
     "shell.execute_reply.started": "2021-10-27T02:47:59.452166Z"
    },
    "id": "Fi9h5xfWa3NB"
   },
   "outputs": [
    {
     "name": "stdout",
     "output_type": "stream",
     "text": [
      "Epoch 1/100\n",
      "250/250 [==============================] - 3s 5ms/step - loss: 0.6994 - root_mean_squared_error: 0.3499 - val_loss: 0.7001 - val_root_mean_squared_error: 0.3492\n",
      "Epoch 2/100\n",
      "250/250 [==============================] - 1s 3ms/step - loss: 0.6981 - root_mean_squared_error: 0.3490 - val_loss: 0.6995 - val_root_mean_squared_error: 0.3488\n",
      "Epoch 3/100\n",
      "250/250 [==============================] - 1s 4ms/step - loss: 0.6954 - root_mean_squared_error: 0.3471 - val_loss: 0.6992 - val_root_mean_squared_error: 0.3486\n",
      "Epoch 4/100\n",
      "250/250 [==============================] - 1s 3ms/step - loss: 0.6952 - root_mean_squared_error: 0.3469 - val_loss: 0.6986 - val_root_mean_squared_error: 0.3481\n",
      "Epoch 5/100\n",
      "250/250 [==============================] - 1s 3ms/step - loss: 0.6939 - root_mean_squared_error: 0.3460 - val_loss: 0.6984 - val_root_mean_squared_error: 0.3480\n",
      "Epoch 6/100\n",
      "250/250 [==============================] - 1s 3ms/step - loss: 0.6903 - root_mean_squared_error: 0.3435 - val_loss: 0.6986 - val_root_mean_squared_error: 0.3481\n",
      "Epoch 7/100\n",
      "250/250 [==============================] - 1s 3ms/step - loss: 0.6901 - root_mean_squared_error: 0.3433 - val_loss: 0.6985 - val_root_mean_squared_error: 0.3480\n",
      "Epoch 8/100\n",
      "250/250 [==============================] - 1s 3ms/step - loss: 0.6899 - root_mean_squared_error: 0.3431 - val_loss: 0.6991 - val_root_mean_squared_error: 0.3485\n",
      "Epoch 9/100\n",
      "250/250 [==============================] - 1s 3ms/step - loss: 0.6883 - root_mean_squared_error: 0.3420 - val_loss: 0.6992 - val_root_mean_squared_error: 0.3485\n",
      "Epoch 10/100\n",
      "250/250 [==============================] - 1s 3ms/step - loss: 0.6863 - root_mean_squared_error: 0.3405 - val_loss: 0.6997 - val_root_mean_squared_error: 0.3489\n",
      "Epoch 11/100\n",
      "250/250 [==============================] - 1s 3ms/step - loss: 0.6876 - root_mean_squared_error: 0.3415 - val_loss: 0.6999 - val_root_mean_squared_error: 0.3490\n",
      "Epoch 12/100\n",
      "250/250 [==============================] - 1s 3ms/step - loss: 0.6850 - root_mean_squared_error: 0.3396 - val_loss: 0.6995 - val_root_mean_squared_error: 0.3487\n",
      "Epoch 13/100\n",
      "250/250 [==============================] - 1s 3ms/step - loss: 0.6838 - root_mean_squared_error: 0.3387 - val_loss: 0.6996 - val_root_mean_squared_error: 0.3488\n",
      "Epoch 14/100\n",
      "250/250 [==============================] - 1s 4ms/step - loss: 0.6836 - root_mean_squared_error: 0.3386 - val_loss: 0.6997 - val_root_mean_squared_error: 0.3489\n",
      "Epoch 15/100\n",
      "250/250 [==============================] - 1s 3ms/step - loss: 0.6824 - root_mean_squared_error: 0.3377 - val_loss: 0.6996 - val_root_mean_squared_error: 0.3488\n",
      "Epoch 16/100\n",
      "250/250 [==============================] - 1s 4ms/step - loss: 0.6809 - root_mean_squared_error: 0.3366 - val_loss: 0.6998 - val_root_mean_squared_error: 0.3489\n",
      "Epoch 17/100\n",
      "250/250 [==============================] - 1s 4ms/step - loss: 0.6825 - root_mean_squared_error: 0.3378 - val_loss: 0.6998 - val_root_mean_squared_error: 0.3490\n",
      "Epoch 18/100\n",
      "250/250 [==============================] - 1s 4ms/step - loss: 0.6789 - root_mean_squared_error: 0.3352 - val_loss: 0.6999 - val_root_mean_squared_error: 0.3490\n",
      "Epoch 19/100\n",
      "250/250 [==============================] - 1s 4ms/step - loss: 0.6793 - root_mean_squared_error: 0.3355 - val_loss: 0.6999 - val_root_mean_squared_error: 0.3490\n",
      "Epoch 20/100\n",
      "250/250 [==============================] - 1s 4ms/step - loss: 0.6787 - root_mean_squared_error: 0.3350 - val_loss: 0.7001 - val_root_mean_squared_error: 0.3491\n",
      "Epoch 21/100\n",
      "250/250 [==============================] - 1s 3ms/step - loss: 0.6792 - root_mean_squared_error: 0.3354 - val_loss: 0.6999 - val_root_mean_squared_error: 0.3490\n",
      "Epoch 22/100\n",
      "250/250 [==============================] - 1s 3ms/step - loss: 0.6777 - root_mean_squared_error: 0.3343 - val_loss: 0.6998 - val_root_mean_squared_error: 0.3489\n",
      "Epoch 23/100\n",
      "250/250 [==============================] - 1s 3ms/step - loss: 0.6767 - root_mean_squared_error: 0.3336 - val_loss: 0.6999 - val_root_mean_squared_error: 0.3490\n",
      "Epoch 24/100\n",
      "250/250 [==============================] - 1s 3ms/step - loss: 0.6775 - root_mean_squared_error: 0.3342 - val_loss: 0.7000 - val_root_mean_squared_error: 0.3490\n",
      "Epoch 25/100\n",
      "250/250 [==============================] - 1s 3ms/step - loss: 0.6758 - root_mean_squared_error: 0.3329 - val_loss: 0.6998 - val_root_mean_squared_error: 0.3489\n",
      "Epoch 26/100\n",
      "250/250 [==============================] - 1s 3ms/step - loss: 0.6764 - root_mean_squared_error: 0.3333 - val_loss: 0.6998 - val_root_mean_squared_error: 0.3489\n",
      "Epoch 27/100\n",
      "250/250 [==============================] - 1s 3ms/step - loss: 0.6748 - root_mean_squared_error: 0.3322 - val_loss: 0.6997 - val_root_mean_squared_error: 0.3488\n",
      "Epoch 28/100\n",
      "250/250 [==============================] - 1s 3ms/step - loss: 0.6740 - root_mean_squared_error: 0.3316 - val_loss: 0.6997 - val_root_mean_squared_error: 0.3488\n",
      "Epoch 29/100\n",
      "250/250 [==============================] - 1s 3ms/step - loss: 0.6737 - root_mean_squared_error: 0.3313 - val_loss: 0.6998 - val_root_mean_squared_error: 0.3489\n",
      "Epoch 30/100\n",
      "250/250 [==============================] - 1s 3ms/step - loss: 0.6741 - root_mean_squared_error: 0.3316 - val_loss: 0.6998 - val_root_mean_squared_error: 0.3489\n",
      "Epoch 31/100\n",
      "250/250 [==============================] - 1s 3ms/step - loss: 0.6737 - root_mean_squared_error: 0.3313 - val_loss: 0.6999 - val_root_mean_squared_error: 0.3490\n",
      "Epoch 32/100\n",
      "250/250 [==============================] - 1s 3ms/step - loss: 0.6722 - root_mean_squared_error: 0.3302 - val_loss: 0.6996 - val_root_mean_squared_error: 0.3488\n",
      "Epoch 33/100\n",
      "250/250 [==============================] - 1s 3ms/step - loss: 0.6714 - root_mean_squared_error: 0.3297 - val_loss: 0.6998 - val_root_mean_squared_error: 0.3489\n",
      "Epoch 34/100\n",
      "250/250 [==============================] - 1s 4ms/step - loss: 0.6720 - root_mean_squared_error: 0.3302 - val_loss: 0.6997 - val_root_mean_squared_error: 0.3488\n",
      "Epoch 35/100\n",
      "250/250 [==============================] - 1s 4ms/step - loss: 0.6698 - root_mean_squared_error: 0.3285 - val_loss: 0.7001 - val_root_mean_squared_error: 0.3491\n",
      "Epoch 36/100\n",
      "250/250 [==============================] - 1s 3ms/step - loss: 0.6705 - root_mean_squared_error: 0.3290 - val_loss: 0.7004 - val_root_mean_squared_error: 0.3493\n",
      "Epoch 37/100\n",
      "250/250 [==============================] - 1s 3ms/step - loss: 0.6714 - root_mean_squared_error: 0.3297 - val_loss: 0.7010 - val_root_mean_squared_error: 0.3497\n",
      "Epoch 38/100\n",
      "250/250 [==============================] - 1s 4ms/step - loss: 0.6702 - root_mean_squared_error: 0.3288 - val_loss: 0.7010 - val_root_mean_squared_error: 0.3497\n",
      "Epoch 39/100\n",
      "250/250 [==============================] - 1s 4ms/step - loss: 0.6693 - root_mean_squared_error: 0.3281 - val_loss: 0.7013 - val_root_mean_squared_error: 0.3499\n",
      "Epoch 40/100\n",
      "250/250 [==============================] - 1s 3ms/step - loss: 0.6698 - root_mean_squared_error: 0.3285 - val_loss: 0.7018 - val_root_mean_squared_error: 0.3503\n",
      "Epoch 41/100\n",
      "250/250 [==============================] - 1s 3ms/step - loss: 0.6700 - root_mean_squared_error: 0.3287 - val_loss: 0.7021 - val_root_mean_squared_error: 0.3505\n",
      "Epoch 42/100\n",
      "250/250 [==============================] - 1s 3ms/step - loss: 0.6690 - root_mean_squared_error: 0.3279 - val_loss: 0.7029 - val_root_mean_squared_error: 0.3510\n",
      "Epoch 43/100\n",
      "250/250 [==============================] - 1s 4ms/step - loss: 0.6703 - root_mean_squared_error: 0.3289 - val_loss: 0.7031 - val_root_mean_squared_error: 0.3511\n",
      "Epoch 44/100\n",
      "250/250 [==============================] - 1s 4ms/step - loss: 0.6686 - root_mean_squared_error: 0.3277 - val_loss: 0.7033 - val_root_mean_squared_error: 0.3513\n",
      "Epoch 45/100\n",
      "250/250 [==============================] - 1s 3ms/step - loss: 0.6689 - root_mean_squared_error: 0.3278 - val_loss: 0.7041 - val_root_mean_squared_error: 0.3518\n",
      "Epoch 46/100\n",
      "250/250 [==============================] - 1s 3ms/step - loss: 0.6691 - root_mean_squared_error: 0.3280 - val_loss: 0.7047 - val_root_mean_squared_error: 0.3522\n",
      "Epoch 47/100\n",
      "250/250 [==============================] - 1s 3ms/step - loss: 0.6675 - root_mean_squared_error: 0.3269 - val_loss: 0.7051 - val_root_mean_squared_error: 0.3525\n",
      "Epoch 48/100\n",
      "250/250 [==============================] - 1s 3ms/step - loss: 0.6679 - root_mean_squared_error: 0.3272 - val_loss: 0.7057 - val_root_mean_squared_error: 0.3528\n",
      "Epoch 49/100\n",
      "250/250 [==============================] - 1s 3ms/step - loss: 0.6675 - root_mean_squared_error: 0.3269 - val_loss: 0.7058 - val_root_mean_squared_error: 0.3529\n",
      "Epoch 50/100\n",
      "250/250 [==============================] - 1s 3ms/step - loss: 0.6682 - root_mean_squared_error: 0.3274 - val_loss: 0.7060 - val_root_mean_squared_error: 0.3530\n",
      "Epoch 51/100\n",
      "250/250 [==============================] - 1s 3ms/step - loss: 0.6661 - root_mean_squared_error: 0.3258 - val_loss: 0.7062 - val_root_mean_squared_error: 0.3532\n",
      "Epoch 52/100\n",
      "250/250 [==============================] - 1s 3ms/step - loss: 0.6674 - root_mean_squared_error: 0.3268 - val_loss: 0.7060 - val_root_mean_squared_error: 0.3531\n",
      "Epoch 53/100\n",
      "250/250 [==============================] - 1s 3ms/step - loss: 0.6673 - root_mean_squared_error: 0.3268 - val_loss: 0.7062 - val_root_mean_squared_error: 0.3532\n",
      "Epoch 54/100\n",
      "250/250 [==============================] - 1s 4ms/step - loss: 0.6675 - root_mean_squared_error: 0.3268 - val_loss: 0.7068 - val_root_mean_squared_error: 0.3536\n",
      "Epoch 55/100\n",
      "250/250 [==============================] - 1s 4ms/step - loss: 0.6658 - root_mean_squared_error: 0.3256 - val_loss: 0.7066 - val_root_mean_squared_error: 0.3534\n",
      "Epoch 56/100\n",
      "250/250 [==============================] - 1s 3ms/step - loss: 0.6665 - root_mean_squared_error: 0.3261 - val_loss: 0.7065 - val_root_mean_squared_error: 0.3534\n",
      "Epoch 57/100\n",
      "250/250 [==============================] - 1s 3ms/step - loss: 0.6657 - root_mean_squared_error: 0.3255 - val_loss: 0.7067 - val_root_mean_squared_error: 0.3535\n",
      "Epoch 58/100\n",
      "250/250 [==============================] - 1s 4ms/step - loss: 0.6659 - root_mean_squared_error: 0.3257 - val_loss: 0.7067 - val_root_mean_squared_error: 0.3534\n",
      "Epoch 59/100\n",
      "250/250 [==============================] - 1s 4ms/step - loss: 0.6658 - root_mean_squared_error: 0.3256 - val_loss: 0.7071 - val_root_mean_squared_error: 0.3537\n",
      "Epoch 60/100\n",
      "250/250 [==============================] - 1s 3ms/step - loss: 0.6658 - root_mean_squared_error: 0.3256 - val_loss: 0.7078 - val_root_mean_squared_error: 0.3542\n",
      "Epoch 61/100\n",
      "250/250 [==============================] - 1s 3ms/step - loss: 0.6665 - root_mean_squared_error: 0.3262 - val_loss: 0.7074 - val_root_mean_squared_error: 0.3539\n",
      "Epoch 62/100\n",
      "250/250 [==============================] - 1s 3ms/step - loss: 0.6657 - root_mean_squared_error: 0.3256 - val_loss: 0.7074 - val_root_mean_squared_error: 0.3539\n",
      "Epoch 63/100\n",
      "250/250 [==============================] - 1s 3ms/step - loss: 0.6659 - root_mean_squared_error: 0.3258 - val_loss: 0.7078 - val_root_mean_squared_error: 0.3542\n",
      "Epoch 64/100\n",
      "250/250 [==============================] - 1s 3ms/step - loss: 0.6642 - root_mean_squared_error: 0.3244 - val_loss: 0.7080 - val_root_mean_squared_error: 0.3543\n",
      "Epoch 65/100\n",
      "250/250 [==============================] - 1s 3ms/step - loss: 0.6657 - root_mean_squared_error: 0.3256 - val_loss: 0.7080 - val_root_mean_squared_error: 0.3543\n",
      "Epoch 66/100\n",
      "250/250 [==============================] - 1s 3ms/step - loss: 0.6649 - root_mean_squared_error: 0.3250 - val_loss: 0.7085 - val_root_mean_squared_error: 0.3546\n",
      "Epoch 67/100\n",
      "250/250 [==============================] - 1s 3ms/step - loss: 0.6665 - root_mean_squared_error: 0.3261 - val_loss: 0.7089 - val_root_mean_squared_error: 0.3549\n",
      "Epoch 68/100\n",
      "250/250 [==============================] - 1s 3ms/step - loss: 0.6647 - root_mean_squared_error: 0.3249 - val_loss: 0.7094 - val_root_mean_squared_error: 0.3552\n",
      "Epoch 69/100\n",
      "250/250 [==============================] - 1s 3ms/step - loss: 0.6646 - root_mean_squared_error: 0.3247 - val_loss: 0.7098 - val_root_mean_squared_error: 0.3555\n",
      "Epoch 70/100\n",
      "250/250 [==============================] - 1s 2ms/step - loss: 0.6633 - root_mean_squared_error: 0.3238 - val_loss: 0.7101 - val_root_mean_squared_error: 0.3557\n",
      "Epoch 71/100\n",
      "250/250 [==============================] - 1s 3ms/step - loss: 0.6644 - root_mean_squared_error: 0.3246 - val_loss: 0.7103 - val_root_mean_squared_error: 0.3558\n",
      "Epoch 72/100\n",
      "250/250 [==============================] - 1s 3ms/step - loss: 0.6653 - root_mean_squared_error: 0.3252 - val_loss: 0.7104 - val_root_mean_squared_error: 0.3559\n",
      "Epoch 73/100\n",
      "250/250 [==============================] - 1s 3ms/step - loss: 0.6634 - root_mean_squared_error: 0.3239 - val_loss: 0.7106 - val_root_mean_squared_error: 0.3560\n",
      "Epoch 74/100\n",
      "250/250 [==============================] - 1s 3ms/step - loss: 0.6652 - root_mean_squared_error: 0.3252 - val_loss: 0.7106 - val_root_mean_squared_error: 0.3560\n",
      "Epoch 75/100\n",
      "250/250 [==============================] - 1s 3ms/step - loss: 0.6647 - root_mean_squared_error: 0.3249 - val_loss: 0.7111 - val_root_mean_squared_error: 0.3563\n",
      "Epoch 76/100\n",
      "250/250 [==============================] - 1s 3ms/step - loss: 0.6638 - root_mean_squared_error: 0.3241 - val_loss: 0.7112 - val_root_mean_squared_error: 0.3563\n",
      "Epoch 77/100\n",
      "250/250 [==============================] - 1s 3ms/step - loss: 0.6645 - root_mean_squared_error: 0.3247 - val_loss: 0.7116 - val_root_mean_squared_error: 0.3567\n",
      "Epoch 78/100\n",
      "250/250 [==============================] - 1s 3ms/step - loss: 0.6649 - root_mean_squared_error: 0.3250 - val_loss: 0.7114 - val_root_mean_squared_error: 0.3565\n",
      "Epoch 79/100\n",
      "250/250 [==============================] - 1s 3ms/step - loss: 0.6624 - root_mean_squared_error: 0.3231 - val_loss: 0.7118 - val_root_mean_squared_error: 0.3567\n",
      "Epoch 80/100\n",
      "250/250 [==============================] - 1s 3ms/step - loss: 0.6644 - root_mean_squared_error: 0.3246 - val_loss: 0.7125 - val_root_mean_squared_error: 0.3572\n",
      "Epoch 81/100\n",
      "250/250 [==============================] - 1s 4ms/step - loss: 0.6638 - root_mean_squared_error: 0.3242 - val_loss: 0.7129 - val_root_mean_squared_error: 0.3574\n",
      "Epoch 82/100\n",
      "250/250 [==============================] - 1s 3ms/step - loss: 0.6640 - root_mean_squared_error: 0.3244 - val_loss: 0.7127 - val_root_mean_squared_error: 0.3573\n",
      "Epoch 83/100\n",
      "250/250 [==============================] - 1s 3ms/step - loss: 0.6638 - root_mean_squared_error: 0.3242 - val_loss: 0.7123 - val_root_mean_squared_error: 0.3571\n",
      "Epoch 84/100\n",
      "250/250 [==============================] - 1s 3ms/step - loss: 0.6640 - root_mean_squared_error: 0.3244 - val_loss: 0.7125 - val_root_mean_squared_error: 0.3572\n",
      "Epoch 85/100\n",
      "250/250 [==============================] - 1s 3ms/step - loss: 0.6643 - root_mean_squared_error: 0.3246 - val_loss: 0.7125 - val_root_mean_squared_error: 0.3571\n",
      "Epoch 86/100\n",
      "250/250 [==============================] - 1s 3ms/step - loss: 0.6632 - root_mean_squared_error: 0.3238 - val_loss: 0.7128 - val_root_mean_squared_error: 0.3573\n",
      "Epoch 87/100\n",
      "250/250 [==============================] - 1s 3ms/step - loss: 0.6634 - root_mean_squared_error: 0.3239 - val_loss: 0.7124 - val_root_mean_squared_error: 0.3571\n",
      "Epoch 88/100\n",
      "250/250 [==============================] - 1s 3ms/step - loss: 0.6630 - root_mean_squared_error: 0.3236 - val_loss: 0.7127 - val_root_mean_squared_error: 0.3573\n",
      "Epoch 89/100\n",
      "250/250 [==============================] - 1s 3ms/step - loss: 0.6641 - root_mean_squared_error: 0.3244 - val_loss: 0.7128 - val_root_mean_squared_error: 0.3573\n",
      "Epoch 90/100\n",
      "250/250 [==============================] - 1s 3ms/step - loss: 0.6633 - root_mean_squared_error: 0.3238 - val_loss: 0.7133 - val_root_mean_squared_error: 0.3577\n",
      "Epoch 91/100\n",
      "250/250 [==============================] - 1s 3ms/step - loss: 0.6626 - root_mean_squared_error: 0.3233 - val_loss: 0.7135 - val_root_mean_squared_error: 0.3578\n",
      "Epoch 92/100\n",
      "250/250 [==============================] - 1s 3ms/step - loss: 0.6630 - root_mean_squared_error: 0.3236 - val_loss: 0.7136 - val_root_mean_squared_error: 0.3579\n",
      "Epoch 93/100\n",
      "250/250 [==============================] - 1s 3ms/step - loss: 0.6630 - root_mean_squared_error: 0.3236 - val_loss: 0.7138 - val_root_mean_squared_error: 0.3580\n",
      "Epoch 94/100\n",
      "250/250 [==============================] - 1s 3ms/step - loss: 0.6638 - root_mean_squared_error: 0.3242 - val_loss: 0.7135 - val_root_mean_squared_error: 0.3578\n",
      "Epoch 95/100\n",
      "250/250 [==============================] - 1s 3ms/step - loss: 0.6624 - root_mean_squared_error: 0.3231 - val_loss: 0.7137 - val_root_mean_squared_error: 0.3579\n",
      "Epoch 96/100\n",
      "250/250 [==============================] - 1s 4ms/step - loss: 0.6624 - root_mean_squared_error: 0.3231 - val_loss: 0.7139 - val_root_mean_squared_error: 0.3580\n",
      "Epoch 97/100\n",
      "250/250 [==============================] - 1s 3ms/step - loss: 0.6635 - root_mean_squared_error: 0.3240 - val_loss: 0.7139 - val_root_mean_squared_error: 0.3580\n",
      "Epoch 98/100\n",
      "250/250 [==============================] - 1s 3ms/step - loss: 0.6631 - root_mean_squared_error: 0.3237 - val_loss: 0.7139 - val_root_mean_squared_error: 0.3580\n",
      "Epoch 99/100\n",
      "250/250 [==============================] - 1s 3ms/step - loss: 0.6631 - root_mean_squared_error: 0.3237 - val_loss: 0.7140 - val_root_mean_squared_error: 0.3581\n",
      "Epoch 100/100\n",
      "250/250 [==============================] - 1s 3ms/step - loss: 0.6620 - root_mean_squared_error: 0.3229 - val_loss: 0.7140 - val_root_mean_squared_error: 0.3581\n"
     ]
    }
   ],
   "source": [
    "# Memulai training\n",
    " \n",
    "history = model.fit(\n",
    "    x = x_train,\n",
    "    y = y_train,\n",
    "    epochs = 100,\n",
    "    validation_data = (x_val, y_val),\n",
    "    callbacks = [myCallback()],\n",
    ")"
   ]
  },
  {
   "cell_type": "code",
   "execution_count": 34,
   "metadata": {
    "execution": {
     "iopub.execute_input": "2021-10-27T02:48:17.172649Z",
     "iopub.status.busy": "2021-10-27T02:48:17.172389Z",
     "iopub.status.idle": "2021-10-27T02:48:17.457773Z",
     "shell.execute_reply": "2021-10-27T02:48:17.456920Z",
     "shell.execute_reply.started": "2021-10-27T02:48:17.172618Z"
    },
    "id": "LSIBifava531"
   },
   "outputs": [
    {
     "data": {
      "image/png": "[encoded data removed]",
      "text/plain": [
       "<Figure size 640x480 with 1 Axes>"
      ]
     },
     "metadata": {},
     "output_type": "display_data"
    }
   ],
   "source": [
    "# Menampilkan plot loss dan validation\n",
    "\n",
    "plt.plot(history.history['root_mean_squared_error'])\n",
    "plt.plot(history.history['val_root_mean_squared_error'])\n",
    "plt.title('model_metrics')\n",
    "plt.ylabel('root_mean_squared_error')\n",
    "plt.xlabel('epoch')\n",
    "plt.ylim(ymin=0, ymax=0.4)\n",
    "plt.legend(['train', 'test'], loc='center left')\n",
    "plt.show()"
   ]
  },
  {
   "cell_type": "markdown",
   "metadata": {},
   "source": [
    "### Convert Model"
   ]
  },
  {
   "cell_type": "code",
   "execution_count": 45,
   "metadata": {},
   "outputs": [
    {
     "name": "stderr",
     "output_type": "stream",
     "text": [
      "WARNING:absl:Found untraced functions such as _update_step_xla while saving (showing 1 of 1). These functions will not be directly callable after loading.\n"
     ]
    },
    {
     "name": "stdout",
     "output_type": "stream",
     "text": [
      "INFO:tensorflow:Assets written to: destinasi_wisata_model\\assets\n"
     ]
    },
    {
     "name": "stderr",
     "output_type": "stream",
     "text": [
      "INFO:tensorflow:Assets written to: destinasi_wisata_model\\assets\n"
     ]
    }
   ],
   "source": [
    "#model .pb\n",
    "model.save('destinasi_wisata_model', save_format='tf')"
   ]
  },
  {
   "cell_type": "code",
   "execution_count": 48,
   "metadata": {},
   "outputs": [],
   "source": [
    "model.save_weights('destinasi_wisata_model.h5')"
   ]
  },
  {
   "cell_type": "code",
   "execution_count": 41,
   "metadata": {},
   "outputs": [
    {
     "data": {
      "text/plain": [
       "['wisata_model.pkl']"
      ]
     },
     "execution_count": 41,
     "metadata": {},
     "output_type": "execute_result"
    }
   ],
   "source": [
    "#model .pkl\n",
    "import joblib\n",
    "joblib.dump(model, 'wisata_model.pkl')"
   ]
  },
  {
   "cell_type": "code",
   "execution_count": 48,
   "metadata": {},
   "outputs": [],
   "source": [
    "# serialize model to JSON\n",
    "model_json = model.to_json()\n",
    "with open(\"wisata_model.json\", \"w\") as json_file:\n",
    "    json_file.write(model_json)"
   ]
  },
  {
   "cell_type": "code",
   "execution_count": 40,
   "metadata": {},
   "outputs": [],
   "source": [
    "df.to_csv('save_data_wisata.csv', index=False)"
   ]
  },
  {
   "cell_type": "code",
   "execution_count": 42,
   "metadata": {},
   "outputs": [],
   "source": [
    "place.to_csv('data_wisata.csv', index=False)"
   ]
  },
  {
   "cell_type": "markdown",
   "metadata": {},
   "source": [
    "### Load Model"
   ]
  },
  {
   "cell_type": "code",
   "execution_count": 43,
   "metadata": {},
   "outputs": [
    {
     "name": "stdout",
     "output_type": "stream",
     "text": [
      "Model .h5 Berhasil Di Load\n",
      "Model .pkl Berhasil Di Load\n"
     ]
    }
   ],
   "source": [
    "#load .h5\n",
    "model.load_weights(\"wisata_model.h5\")\n",
    "print(\"Model .h5 Berhasil Di Load\")\n",
    "\n",
    "#load .pkl\n",
    "model = joblib.load('wisata_model.pkl')\n",
    "print(\"Model .pkl Berhasil Di Load\")"
   ]
  },
  {
   "cell_type": "markdown",
   "metadata": {
    "id": "slW4RqK5AvYD"
   },
   "source": [
    "## 7. Memprediksi Top 7 Rekomendasi"
   ]
  },
  {
   "cell_type": "markdown",
   "metadata": {
    "id": "JXYjisJCDYht"
   },
   "source": [
    "#### 7.1 Menyiapkan DataFrame untuk Menampilkan Hasil Rekomendasi"
   ]
  },
  {
   "cell_type": "code",
   "execution_count": 51,
   "metadata": {
    "execution": {
     "iopub.execute_input": "2021-10-27T02:48:17.459478Z",
     "iopub.status.busy": "2021-10-27T02:48:17.459224Z",
     "iopub.status.idle": "2021-10-27T02:48:17.466194Z",
     "shell.execute_reply": "2021-10-27T02:48:17.465428Z",
     "shell.execute_reply.started": "2021-10-27T02:48:17.459448Z"
    },
    "id": "QVJb3B5HbeBR"
   },
   "outputs": [
    {
     "data": {
      "text/html": [
       "<div>\n",
       "<style scoped>\n",
       "    .dataframe tbody tr th:only-of-type {\n",
       "        vertical-align: middle;\n",
       "    }\n",
       "\n",
       "    .dataframe tbody tr th {\n",
       "        vertical-align: top;\n",
       "    }\n",
       "\n",
       "    .dataframe thead th {\n",
       "        text-align: right;\n",
       "    }\n",
       "</style>\n",
       "<table border=\"1\" class=\"dataframe\">\n",
       "  <thead>\n",
       "    <tr style=\"text-align: right;\">\n",
       "      <th></th>\n",
       "      <th>id</th>\n",
       "      <th>place_name</th>\n",
       "      <th>category</th>\n",
       "      <th>rating</th>\n",
       "      <th>price</th>\n",
       "    </tr>\n",
       "  </thead>\n",
       "  <tbody>\n",
       "    <tr>\n",
       "      <th>0</th>\n",
       "      <td>1</td>\n",
       "      <td>Monumen Nasional</td>\n",
       "      <td>Budaya</td>\n",
       "      <td>4.6</td>\n",
       "      <td>20000</td>\n",
       "    </tr>\n",
       "    <tr>\n",
       "      <th>1</th>\n",
       "      <td>2</td>\n",
       "      <td>Kota Tua</td>\n",
       "      <td>Budaya</td>\n",
       "      <td>4.6</td>\n",
       "      <td>0</td>\n",
       "    </tr>\n",
       "    <tr>\n",
       "      <th>2</th>\n",
       "      <td>3</td>\n",
       "      <td>Dunia Fantasi</td>\n",
       "      <td>Taman Hiburan</td>\n",
       "      <td>4.6</td>\n",
       "      <td>270000</td>\n",
       "    </tr>\n",
       "    <tr>\n",
       "      <th>3</th>\n",
       "      <td>4</td>\n",
       "      <td>Taman Mini Indonesia Indah (TMII)</td>\n",
       "      <td>Taman Hiburan</td>\n",
       "      <td>4.5</td>\n",
       "      <td>10000</td>\n",
       "    </tr>\n",
       "    <tr>\n",
       "      <th>4</th>\n",
       "      <td>5</td>\n",
       "      <td>Atlantis Water Adventure</td>\n",
       "      <td>Taman Hiburan</td>\n",
       "      <td>4.5</td>\n",
       "      <td>94000</td>\n",
       "    </tr>\n",
       "    <tr>\n",
       "      <th>5</th>\n",
       "      <td>6</td>\n",
       "      <td>Taman Impian Jaya Ancol</td>\n",
       "      <td>Taman Hiburan</td>\n",
       "      <td>4.5</td>\n",
       "      <td>25000</td>\n",
       "    </tr>\n",
       "    <tr>\n",
       "      <th>6</th>\n",
       "      <td>7</td>\n",
       "      <td>Kebun Binatang Ragunan</td>\n",
       "      <td>Cagar Alam</td>\n",
       "      <td>4.5</td>\n",
       "      <td>4000</td>\n",
       "    </tr>\n",
       "    <tr>\n",
       "      <th>7</th>\n",
       "      <td>8</td>\n",
       "      <td>Ocean Ecopark</td>\n",
       "      <td>Taman Hiburan</td>\n",
       "      <td>4.0</td>\n",
       "      <td>180000</td>\n",
       "    </tr>\n",
       "    <tr>\n",
       "      <th>8</th>\n",
       "      <td>9</td>\n",
       "      <td>Pelabuhan Marina</td>\n",
       "      <td>Bahari</td>\n",
       "      <td>4.4</td>\n",
       "      <td>175000</td>\n",
       "    </tr>\n",
       "    <tr>\n",
       "      <th>9</th>\n",
       "      <td>10</td>\n",
       "      <td>Pulau Tidung</td>\n",
       "      <td>Bahari</td>\n",
       "      <td>4.5</td>\n",
       "      <td>150000</td>\n",
       "    </tr>\n",
       "    <tr>\n",
       "      <th>10</th>\n",
       "      <td>11</td>\n",
       "      <td>Pulau Bidadari</td>\n",
       "      <td>Bahari</td>\n",
       "      <td>4.6</td>\n",
       "      <td>5000</td>\n",
       "    </tr>\n",
       "    <tr>\n",
       "      <th>11</th>\n",
       "      <td>12</td>\n",
       "      <td>Pulau Pari</td>\n",
       "      <td>Bahari</td>\n",
       "      <td>4.0</td>\n",
       "      <td>150000</td>\n",
       "    </tr>\n",
       "    <tr>\n",
       "      <th>12</th>\n",
       "      <td>13</td>\n",
       "      <td>Pulau Pramuka</td>\n",
       "      <td>Bahari</td>\n",
       "      <td>4.2</td>\n",
       "      <td>5000</td>\n",
       "    </tr>\n",
       "    <tr>\n",
       "      <th>13</th>\n",
       "      <td>14</td>\n",
       "      <td>Pulau Pelangi</td>\n",
       "      <td>Bahari</td>\n",
       "      <td>4.8</td>\n",
       "      <td>900000</td>\n",
       "    </tr>\n",
       "    <tr>\n",
       "      <th>14</th>\n",
       "      <td>15</td>\n",
       "      <td>Pasar Seni</td>\n",
       "      <td>Pusat Perbelanjaan</td>\n",
       "      <td>4.4</td>\n",
       "      <td>0</td>\n",
       "    </tr>\n",
       "    <tr>\n",
       "      <th>15</th>\n",
       "      <td>16</td>\n",
       "      <td>Jembatan Kota Intan</td>\n",
       "      <td>Budaya</td>\n",
       "      <td>4.3</td>\n",
       "      <td>0</td>\n",
       "    </tr>\n",
       "    <tr>\n",
       "      <th>16</th>\n",
       "      <td>17</td>\n",
       "      <td>Museum Fatahillah</td>\n",
       "      <td>Budaya</td>\n",
       "      <td>4.4</td>\n",
       "      <td>5000</td>\n",
       "    </tr>\n",
       "    <tr>\n",
       "      <th>17</th>\n",
       "      <td>18</td>\n",
       "      <td>Museum Bank Indonesia</td>\n",
       "      <td>Budaya</td>\n",
       "      <td>4.7</td>\n",
       "      <td>2000</td>\n",
       "    </tr>\n",
       "    <tr>\n",
       "      <th>18</th>\n",
       "      <td>19</td>\n",
       "      <td>Kidzania</td>\n",
       "      <td>Taman Hiburan</td>\n",
       "      <td>4.6</td>\n",
       "      <td>185000</td>\n",
       "    </tr>\n",
       "    <tr>\n",
       "      <th>19</th>\n",
       "      <td>20</td>\n",
       "      <td>Museum Taman Prasasti</td>\n",
       "      <td>Budaya</td>\n",
       "      <td>4.5</td>\n",
       "      <td>2000</td>\n",
       "    </tr>\n",
       "  </tbody>\n",
       "</table>\n",
       "</div>"
      ],
      "text/plain": [
       "    id                         place_name            category  rating   price\n",
       "0    1                   Monumen Nasional              Budaya     4.6   20000\n",
       "1    2                           Kota Tua              Budaya     4.6       0\n",
       "2    3                      Dunia Fantasi       Taman Hiburan     4.6  270000\n",
       "3    4  Taman Mini Indonesia Indah (TMII)       Taman Hiburan     4.5   10000\n",
       "4    5           Atlantis Water Adventure       Taman Hiburan     4.5   94000\n",
       "5    6            Taman Impian Jaya Ancol       Taman Hiburan     4.5   25000\n",
       "6    7             Kebun Binatang Ragunan          Cagar Alam     4.5    4000\n",
       "7    8                      Ocean Ecopark       Taman Hiburan     4.0  180000\n",
       "8    9                   Pelabuhan Marina              Bahari     4.4  175000\n",
       "9   10                       Pulau Tidung              Bahari     4.5  150000\n",
       "10  11                     Pulau Bidadari              Bahari     4.6    5000\n",
       "11  12                         Pulau Pari              Bahari     4.0  150000\n",
       "12  13                      Pulau Pramuka              Bahari     4.2    5000\n",
       "13  14                      Pulau Pelangi              Bahari     4.8  900000\n",
       "14  15                         Pasar Seni  Pusat Perbelanjaan     4.4       0\n",
       "15  16                Jembatan Kota Intan              Budaya     4.3       0\n",
       "16  17                  Museum Fatahillah              Budaya     4.4    5000\n",
       "17  18              Museum Bank Indonesia              Budaya     4.7    2000\n",
       "18  19                           Kidzania       Taman Hiburan     4.6  185000\n",
       "19  20              Museum Taman Prasasti              Budaya     4.5    2000"
      ]
     },
     "execution_count": 51,
     "metadata": {},
     "output_type": "execute_result"
    }
   ],
   "source": [
    "# Menyiapkan dataframe\n",
    "place_df = place[['Place_Id','Place_Name','Category','Rating','Price']]\n",
    "place_df.columns = ['id','place_name','category','rating','price']\n",
    "place_df[:20]\n",
    "#df = rating.copy()"
   ]
  },
  {
   "cell_type": "markdown",
   "metadata": {
    "id": "Ll1D8D8qDp0J"
   },
   "source": [
    "#### 7.2. Menyiapkan contoh User untuk Menampilkan Rekomendasi"
   ]
  },
  {
   "cell_type": "markdown",
   "metadata": {
    "id": "M10zuXK4EdLt"
   },
   "source": [
    "#### 7.2.1 Mencari User"
   ]
  },
  {
   "cell_type": "code",
   "execution_count": 52,
   "metadata": {
    "execution": {
     "iopub.execute_input": "2021-10-27T02:48:17.467824Z",
     "iopub.status.busy": "2021-10-27T02:48:17.467605Z",
     "iopub.status.idle": "2021-10-27T02:48:17.479455Z",
     "shell.execute_reply": "2021-10-27T02:48:17.478385Z",
     "shell.execute_reply.started": "2021-10-27T02:48:17.467797Z"
    },
    "id": "Ixzzpaj6B4E-"
   },
   "outputs": [],
   "source": [
    "# Mengambil sample user\n",
    "user_id = df.User_Id.sample(1).iloc[0]\n",
    "place_visited_by_user = df[df.User_Id == user_id]"
   ]
  },
  {
   "cell_type": "markdown",
   "metadata": {
    "id": "XLHxGm9lElbP"
   },
   "source": [
    "#### 7.2.2. Mencari Lokasi yang belum Dikunjungi User"
   ]
  },
  {
   "cell_type": "code",
   "execution_count": 53,
   "metadata": {
    "execution": {
     "iopub.execute_input": "2021-10-27T02:48:17.481038Z",
     "iopub.status.busy": "2021-10-27T02:48:17.480769Z",
     "iopub.status.idle": "2021-10-27T02:48:17.495192Z",
     "shell.execute_reply": "2021-10-27T02:48:17.494545Z",
     "shell.execute_reply.started": "2021-10-27T02:48:17.481001Z"
    },
    "id": "V4cGTjABBVVI"
   },
   "outputs": [],
   "source": [
    "# Membuat data lokasi yang belum dikunjungi user\n",
    "place_not_visited = place_df[~place_df['id'].isin(place_visited_by_user.Place_Id.values)]['id'] \n",
    "place_not_visited = list(\n",
    "    set(place_not_visited)\n",
    "    .intersection(set(place_to_place_encoded.keys()))\n",
    ")\n",
    " \n",
    "place_not_visited = [[place_to_place_encoded.get(x)] for x in place_not_visited]\n",
    "user_encoder = user_to_user_encoded.get(user_id)\n",
    "user_place_array = np.hstack(\n",
    "    ([[user_encoder]] * len(place_not_visited), place_not_visited)\n",
    ")"
   ]
  },
  {
   "cell_type": "markdown",
   "metadata": {
    "id": "RZXkdz27Euik"
   },
   "source": [
    "### 7.3. Menampilkan Hasil Rekomendasi untuk User"
   ]
  },
  {
   "cell_type": "code",
   "execution_count": 54,
   "metadata": {
    "execution": {
     "iopub.execute_input": "2021-10-27T02:48:17.498700Z",
     "iopub.status.busy": "2021-10-27T02:48:17.498107Z",
     "iopub.status.idle": "2021-10-27T02:48:17.719402Z",
     "shell.execute_reply": "2021-10-27T02:48:17.717688Z",
     "shell.execute_reply.started": "2021-10-27T02:48:17.498653Z"
    },
    "id": "dVGN5F7JcAi8"
   },
   "outputs": [
    {
     "name": "stdout",
     "output_type": "stream",
     "text": [
      "13/13 [==============================] - 0s 2ms/step\n",
      "Daftar rekomendasi untuk: User 4\n",
      "============================================= \n",
      "\n",
      "------------------------------------------------------------\n",
      "Tempat dengan rating wisata paling tinggi dari user\n",
      "------------------------------------------------------------\n",
      "Pulau Pelangi : Bahari\n",
      "The Escape Hunt : Taman Hiburan\n",
      "Taman Film : Budaya\n",
      "Observatorium Bosscha : Cagar Alam\n",
      "Pura Giri Natha : Budaya\n",
      "\n",
      "------------------------------------------------------------\n",
      "Top 7 place recommendation\n",
      "------------------------------------------------------------\n",
      "1 . Waterboom PIK (Pantai Indah Kapuk) \n",
      "     Taman Hiburan , Harga Tiket Masuk  300000 , Rating Wisata  4.4 \n",
      "\n",
      "2 . Puncak Gunung Api Purba - Nglanggeran \n",
      "     Cagar Alam , Harga Tiket Masuk  10000 , Rating Wisata  4.7 \n",
      "\n",
      "3 . Pantai Baron \n",
      "     Bahari , Harga Tiket Masuk  10000 , Rating Wisata  4.4 \n",
      "\n",
      "4 . Upside Down World Bandung \n",
      "     Taman Hiburan , Harga Tiket Masuk  100000 , Rating Wisata  4.0 \n",
      "\n",
      "5 . Teras Cikapundung BBWS \n",
      "     Taman Hiburan , Harga Tiket Masuk  0 , Rating Wisata  4.3 \n",
      "\n",
      "6 . Curug Batu Templek \n",
      "     Cagar Alam , Harga Tiket Masuk  5000 , Rating Wisata  4.1 \n",
      "\n",
      "7 . Puspa Iptek Sundial \n",
      "     Taman Hiburan , Harga Tiket Masuk  25000 , Rating Wisata  4.4 \n",
      "\n",
      "=============================================\n"
     ]
    }
   ],
   "source": [
    "# Mengambil top 7 recommendation\n",
    "ratings = model.predict(user_place_array).flatten()\n",
    "top_ratings_indices = ratings.argsort()[-7:][::-1]\n",
    "recommended_place_ids = [\n",
    "    place_encoded_to_place.get(place_not_visited[x][0]) for x in top_ratings_indices\n",
    "]\n",
    " \n",
    "print('Daftar rekomendasi untuk: {}'.format('User ' + str(user_id)))\n",
    "print('===' * 15,'\\n')\n",
    "print('----' * 15)\n",
    "print('Tempat dengan rating wisata paling tinggi dari user')\n",
    "print('----' * 15)\n",
    " \n",
    "top_place_user = (\n",
    "    place_visited_by_user.sort_values(\n",
    "        by = 'Place_Ratings',\n",
    "        ascending=False\n",
    "    )\n",
    "    .head(5)\n",
    "    .Place_Id.values\n",
    ")\n",
    " \n",
    "place_df_rows = place_df[place_df['id'].isin(top_place_user)]\n",
    "for row in place_df_rows.itertuples():\n",
    "    print(row.place_name, ':', row.category)\n",
    "\n",
    "print('')\n",
    "print('----' * 15)\n",
    "print('Top 7 place recommendation')\n",
    "print('----' * 15)\n",
    " \n",
    "recommended_place = place_df[place_df['id'].isin(recommended_place_ids)]\n",
    "for row, i in zip(recommended_place.itertuples(), range(1,8)):\n",
    "    print(i,'.', row.place_name, '\\n    ', row.category, ',', 'Harga Tiket Masuk ', row.price, ',', 'Rating Wisata ', row.rating,'\\n')\n",
    "\n",
    "print('==='*15)"
   ]
  },
  {
   "cell_type": "code",
   "execution_count": 55,
   "metadata": {},
   "outputs": [],
   "source": [
    "# Convert the model to TensorFlow Lite format\n",
    "#converter = tf.lite.TFLiteConverter.from_keras_model(model)\n",
    "#tflite_model = converter.convert()\n",
    "\n",
    "# Save the model to a file\n",
    "#with open('my_model.tflite', 'wb') as f:\n",
    "#    f.write(tflite_model)\n",
    "\n",
    "# Import the model into your Android app\n",
    "#import tensorflow_lite as tflite\n",
    "\n",
    "# Create a TensorFlow Lite interpreter\n",
    "#interpreter = tflite.Interpreter(model_path='my_model.tflite')\n",
    "\n",
    "# Perform inference\n",
    "#interpreter.allocate_tensors()\n",
    "\n",
    "# Get the input and output tensors\n",
    "#input_tensor = interpreter.get_input_tensor(0)\n",
    "#output_tensor = interpreter.get_output_tensor(0)\n",
    "\n",
    "# Set the input data\n",
    "#input_data = np.array([1, 2, 3], dtype=np.float32)\n",
    "\n",
    "# Run inference\n",
    "#interpreter.invoke()\n",
    "\n",
    "# Get the output data\n",
    "#output_data = output_tensor.read_value()\n",
    "\n",
    "# Print the output data\n",
    "#print(output_data)"
   ]
  },
  {
   "cell_type": "code",
   "execution_count": 1,
   "metadata": {},
   "outputs": [],
   "source": [
    "#from keras.models import model_from_json\n",
    "\n",
    "# load json and create model\n",
    "#json_file = open('wisata_model.json', 'r')\n",
    "#loaded_model_json = json_file.read()\n",
    "#json_file.close()\n",
    "#loaded_model = model_from_json(loaded_model_json)"
   ]
  }
 ],
 "metadata": {
  "colab": {
   "provenance": []
  },
  "kernelspec": {
   "display_name": "Python 3 (ipykernel)",
   "language": "python",
   "name": "python3"
  },
  "language_info": {
   "codemirror_mode": {
    "name": "ipython",
    "version": 3
   },
   "file_extension": ".py",
   "mimetype": "text/x-python",
   "name": "python",
   "nbconvert_exporter": "python",
   "pygments_lexer": "ipython3",
   "version": "3.10.9"
  }
 },
 "nbformat": 4,
 "nbformat_minor": 4
}
