{
  "cells": [
    {
      "cell_type": "code",
      "execution_count": 186,
      "metadata": {
        "id": "kkp5M0Jy-19p"
      },
      "outputs": [],
      "source": [
        "# Data processing\n",
        "import pandas as pd\n",
        "import numpy as np\n",
        "from zipfile import ZipFile\n",
        "from pathlib import Path\n",
        "\n",
        "# Data visualization\n",
        "import seaborn as sns\n",
        "import matplotlib.pyplot as plt\n",
        "\n",
        "%matplotlib inline\n",
        "sns.set_palette('Set1')\n",
        "sns.set()\n",
        "\n",
        "# Modeling\n",
        "import tensorflow as tf\n",
        "from tensorflow import keras\n",
        "from tensorflow.keras import layers\n",
        "from tensorflow.keras.layers import Input, Embedding, Flatten, Dot, Dense, Concatenate\n",
        "from tensorflow.keras.models import Model\n",
        "\n",
        "# Removing seaborn plotting warnings\n",
        "import warnings\n",
        "warnings.filterwarnings('ignore')\n",
        "\n",
        "# Uploading files\n",
        "import os"
      ]
    },
    {
      "cell_type": "code",
      "execution_count": 187,
      "metadata": {
        "id": "JBadd7Ep-19t"
      },
      "outputs": [],
      "source": [
        "# Upload all required datasets\n",
        "import pandas as pd\n",
        "rating = pd.read_csv('tourism_rating.csv')\n",
        "place = pd.read_csv('tourism_with_id.csv')\n",
        "user = pd.read_csv('user.csv')"
      ]
    },
    {
      "cell_type": "code",
      "source": [
        "def column_encoder(column, data=encoded_df):\n",
        "  unique_values = data[column].unique().tolist()\n",
        "  value_to_encoded = {x: i for i, x in enumerate(unique_values)}\n",
        "  encoded_to_value = {i: x for i, x in enumerate(unique_values)}\n",
        "  return value_to_encoded, encoded_to_value"
      ],
      "metadata": {
        "id": "3CV--glSABIP"
      },
      "execution_count": 188,
      "outputs": []
    },
    {
      "cell_type": "code",
      "execution_count": 189,
      "metadata": {
        "id": "w9DdLY2R-19u"
      },
      "outputs": [],
      "source": [
        "# Dropping unused columns in place dataset\n",
        "place = place.drop(['Unnamed: 11', 'Unnamed: 12', 'Time_Minutes'], axis=1)\n",
        "place.head()\n",
        "\n",
        "# Encoding Place_Id\n",
        "place_to_encoded, encoded_to_place = column_encoder('Place_Id')\n",
        "\n",
        "# Mapping Place_Id to the dataframe\n",
        "rating['place'] = rating['Place_Id'].map(place_to_encoded)"
      ]
    },
    {
      "cell_type": "code",
      "execution_count": 190,
      "metadata": {
        "colab": {
          "base_uri": "https://localhost:8080/",
          "height": 206
        },
        "id": "HmTpvwxy-19u",
        "outputId": "558d3fcb-bb79-4527-bf6e-42d3da1f882c"
      },
      "outputs": [
        {
          "output_type": "execute_result",
          "data": {
            "text/plain": [
              "   User_Id  Place_Id  Place_Ratings  place\n",
              "0       36         1              4      0\n",
              "1       38         1              2      0\n",
              "2       64         1              2      0\n",
              "3       74         1              2      0\n",
              "4       86         1              4      0"
            ],
            "text/html": [
              "\n",
              "  <div id=\"df-d0d7cbf3-ce74-4eb5-b040-9df0895612d3\">\n",
              "    <div class=\"colab-df-container\">\n",
              "      <div>\n",
              "<style scoped>\n",
              "    .dataframe tbody tr th:only-of-type {\n",
              "        vertical-align: middle;\n",
              "    }\n",
              "\n",
              "    .dataframe tbody tr th {\n",
              "        vertical-align: top;\n",
              "    }\n",
              "\n",
              "    .dataframe thead th {\n",
              "        text-align: right;\n",
              "    }\n",
              "</style>\n",
              "<table border=\"1\" class=\"dataframe\">\n",
              "  <thead>\n",
              "    <tr style=\"text-align: right;\">\n",
              "      <th></th>\n",
              "      <th>User_Id</th>\n",
              "      <th>Place_Id</th>\n",
              "      <th>Place_Ratings</th>\n",
              "      <th>place</th>\n",
              "    </tr>\n",
              "  </thead>\n",
              "  <tbody>\n",
              "    <tr>\n",
              "      <th>0</th>\n",
              "      <td>36</td>\n",
              "      <td>1</td>\n",
              "      <td>4</td>\n",
              "      <td>0</td>\n",
              "    </tr>\n",
              "    <tr>\n",
              "      <th>1</th>\n",
              "      <td>38</td>\n",
              "      <td>1</td>\n",
              "      <td>2</td>\n",
              "      <td>0</td>\n",
              "    </tr>\n",
              "    <tr>\n",
              "      <th>2</th>\n",
              "      <td>64</td>\n",
              "      <td>1</td>\n",
              "      <td>2</td>\n",
              "      <td>0</td>\n",
              "    </tr>\n",
              "    <tr>\n",
              "      <th>3</th>\n",
              "      <td>74</td>\n",
              "      <td>1</td>\n",
              "      <td>2</td>\n",
              "      <td>0</td>\n",
              "    </tr>\n",
              "    <tr>\n",
              "      <th>4</th>\n",
              "      <td>86</td>\n",
              "      <td>1</td>\n",
              "      <td>4</td>\n",
              "      <td>0</td>\n",
              "    </tr>\n",
              "  </tbody>\n",
              "</table>\n",
              "</div>\n",
              "      <button class=\"colab-df-convert\" onclick=\"convertToInteractive('df-d0d7cbf3-ce74-4eb5-b040-9df0895612d3')\"\n",
              "              title=\"Convert this dataframe to an interactive table.\"\n",
              "              style=\"display:none;\">\n",
              "        \n",
              "  <svg xmlns=\"http://www.w3.org/2000/svg\" height=\"24px\"viewBox=\"0 0 24 24\"\n",
              "       width=\"24px\">\n",
              "    <path d=\"M0 0h24v24H0V0z\" fill=\"none\"/>\n",
              "    <path d=\"M18.56 5.44l.94 2.06.94-2.06 2.06-.94-2.06-.94-.94-2.06-.94 2.06-2.06.94zm-11 1L8.5 8.5l.94-2.06 2.06-.94-2.06-.94L8.5 2.5l-.94 2.06-2.06.94zm10 10l.94 2.06.94-2.06 2.06-.94-2.06-.94-.94-2.06-.94 2.06-2.06.94z\"/><path d=\"M17.41 7.96l-1.37-1.37c-.4-.4-.92-.59-1.43-.59-.52 0-1.04.2-1.43.59L10.3 9.45l-7.72 7.72c-.78.78-.78 2.05 0 2.83L4 21.41c.39.39.9.59 1.41.59.51 0 1.02-.2 1.41-.59l7.78-7.78 2.81-2.81c.8-.78.8-2.07 0-2.86zM5.41 20L4 18.59l7.72-7.72 1.47 1.35L5.41 20z\"/>\n",
              "  </svg>\n",
              "      </button>\n",
              "      \n",
              "  <style>\n",
              "    .colab-df-container {\n",
              "      display:flex;\n",
              "      flex-wrap:wrap;\n",
              "      gap: 12px;\n",
              "    }\n",
              "\n",
              "    .colab-df-convert {\n",
              "      background-color: #E8F0FE;\n",
              "      border: none;\n",
              "      border-radius: 50%;\n",
              "      cursor: pointer;\n",
              "      display: none;\n",
              "      fill: #1967D2;\n",
              "      height: 32px;\n",
              "      padding: 0 0 0 0;\n",
              "      width: 32px;\n",
              "    }\n",
              "\n",
              "    .colab-df-convert:hover {\n",
              "      background-color: #E2EBFA;\n",
              "      box-shadow: 0px 1px 2px rgba(60, 64, 67, 0.3), 0px 1px 3px 1px rgba(60, 64, 67, 0.15);\n",
              "      fill: #174EA6;\n",
              "    }\n",
              "\n",
              "    [theme=dark] .colab-df-convert {\n",
              "      background-color: #3B4455;\n",
              "      fill: #D2E3FC;\n",
              "    }\n",
              "\n",
              "    [theme=dark] .colab-df-convert:hover {\n",
              "      background-color: #434B5C;\n",
              "      box-shadow: 0px 1px 3px 1px rgba(0, 0, 0, 0.15);\n",
              "      filter: drop-shadow(0px 1px 2px rgba(0, 0, 0, 0.3));\n",
              "      fill: #FFFFFF;\n",
              "    }\n",
              "  </style>\n",
              "\n",
              "      <script>\n",
              "        const buttonEl =\n",
              "          document.querySelector('#df-d0d7cbf3-ce74-4eb5-b040-9df0895612d3 button.colab-df-convert');\n",
              "        buttonEl.style.display =\n",
              "          google.colab.kernel.accessAllowed ? 'block' : 'none';\n",
              "\n",
              "        async function convertToInteractive(key) {\n",
              "          const element = document.querySelector('#df-d0d7cbf3-ce74-4eb5-b040-9df0895612d3');\n",
              "          const dataTable =\n",
              "            await google.colab.kernel.invokeFunction('convertToInteractive',\n",
              "                                                     [key], {});\n",
              "          if (!dataTable) return;\n",
              "\n",
              "          const docLinkHtml = 'Like what you see? Visit the ' +\n",
              "            '<a target=\"_blank\" href=https://colab.research.google.com/notebooks/data_table.ipynb>data table notebook</a>'\n",
              "            + ' to learn more about interactive tables.';\n",
              "          element.innerHTML = '';\n",
              "          dataTable['output_type'] = 'display_data';\n",
              "          await google.colab.output.renderOutput(dataTable, element);\n",
              "          const docLink = document.createElement('div');\n",
              "          docLink.innerHTML = docLinkHtml;\n",
              "          element.appendChild(docLink);\n",
              "        }\n",
              "      </script>\n",
              "    </div>\n",
              "  </div>\n",
              "  "
            ]
          },
          "metadata": {},
          "execution_count": 190
        }
      ],
      "source": [
        "# Filtering rating data to only contain rating for places in Bandung\n",
        "rating = pd.merge(rating, places[['Place_Id']], how='right', on='Place_Id')\n",
        "rating.head()"
      ]
    },
    {
      "cell_type": "code",
      "execution_count": 191,
      "metadata": {
        "id": "mrxjJTfw-19v"
      },
      "outputs": [],
      "source": [
        "# Filtering user data to only contain user who visited places in Bandung\n",
        "user = pd.merge(user, rating[['User_Id']], how='right', on='User_Id').drop_duplicates().sort_values('User_Id')\n",
        "\n",
        "# Encoding User_Id\n",
        "user_to_encoded, encoded_to_user = column_encoder('User_Id')\n",
        "\n",
        "# Mapping User_Id to the dataframe\n",
        "rating['user'] = rating['User_Id'].map(user_to_encoded)"
      ]
    },
    {
      "cell_type": "code",
      "source": [
        "encoded_df = rating.copy()\n",
        "encoded_df.head()"
      ],
      "metadata": {
        "colab": {
          "base_uri": "https://localhost:8080/",
          "height": 206
        },
        "id": "hsejy-DZAUsa",
        "outputId": "c0c2de8c-c7ab-4af3-acf5-48d17ff60a4f"
      },
      "execution_count": 192,
      "outputs": [
        {
          "output_type": "execute_result",
          "data": {
            "text/plain": [
              "   User_Id  Place_Id  Place_Ratings  place  user\n",
              "0       36         1              4      0     0\n",
              "1       38         1              2      0     1\n",
              "2       64         1              2      0     2\n",
              "3       74         1              2      0     3\n",
              "4       86         1              4      0     4"
            ],
            "text/html": [
              "\n",
              "  <div id=\"df-6771247c-3bfe-42f3-98a9-ddae08b1836a\">\n",
              "    <div class=\"colab-df-container\">\n",
              "      <div>\n",
              "<style scoped>\n",
              "    .dataframe tbody tr th:only-of-type {\n",
              "        vertical-align: middle;\n",
              "    }\n",
              "\n",
              "    .dataframe tbody tr th {\n",
              "        vertical-align: top;\n",
              "    }\n",
              "\n",
              "    .dataframe thead th {\n",
              "        text-align: right;\n",
              "    }\n",
              "</style>\n",
              "<table border=\"1\" class=\"dataframe\">\n",
              "  <thead>\n",
              "    <tr style=\"text-align: right;\">\n",
              "      <th></th>\n",
              "      <th>User_Id</th>\n",
              "      <th>Place_Id</th>\n",
              "      <th>Place_Ratings</th>\n",
              "      <th>place</th>\n",
              "      <th>user</th>\n",
              "    </tr>\n",
              "  </thead>\n",
              "  <tbody>\n",
              "    <tr>\n",
              "      <th>0</th>\n",
              "      <td>36</td>\n",
              "      <td>1</td>\n",
              "      <td>4</td>\n",
              "      <td>0</td>\n",
              "      <td>0</td>\n",
              "    </tr>\n",
              "    <tr>\n",
              "      <th>1</th>\n",
              "      <td>38</td>\n",
              "      <td>1</td>\n",
              "      <td>2</td>\n",
              "      <td>0</td>\n",
              "      <td>1</td>\n",
              "    </tr>\n",
              "    <tr>\n",
              "      <th>2</th>\n",
              "      <td>64</td>\n",
              "      <td>1</td>\n",
              "      <td>2</td>\n",
              "      <td>0</td>\n",
              "      <td>2</td>\n",
              "    </tr>\n",
              "    <tr>\n",
              "      <th>3</th>\n",
              "      <td>74</td>\n",
              "      <td>1</td>\n",
              "      <td>2</td>\n",
              "      <td>0</td>\n",
              "      <td>3</td>\n",
              "    </tr>\n",
              "    <tr>\n",
              "      <th>4</th>\n",
              "      <td>86</td>\n",
              "      <td>1</td>\n",
              "      <td>4</td>\n",
              "      <td>0</td>\n",
              "      <td>4</td>\n",
              "    </tr>\n",
              "  </tbody>\n",
              "</table>\n",
              "</div>\n",
              "      <button class=\"colab-df-convert\" onclick=\"convertToInteractive('df-6771247c-3bfe-42f3-98a9-ddae08b1836a')\"\n",
              "              title=\"Convert this dataframe to an interactive table.\"\n",
              "              style=\"display:none;\">\n",
              "        \n",
              "  <svg xmlns=\"http://www.w3.org/2000/svg\" height=\"24px\"viewBox=\"0 0 24 24\"\n",
              "       width=\"24px\">\n",
              "    <path d=\"M0 0h24v24H0V0z\" fill=\"none\"/>\n",
              "    <path d=\"M18.56 5.44l.94 2.06.94-2.06 2.06-.94-2.06-.94-.94-2.06-.94 2.06-2.06.94zm-11 1L8.5 8.5l.94-2.06 2.06-.94-2.06-.94L8.5 2.5l-.94 2.06-2.06.94zm10 10l.94 2.06.94-2.06 2.06-.94-2.06-.94-.94-2.06-.94 2.06-2.06.94z\"/><path d=\"M17.41 7.96l-1.37-1.37c-.4-.4-.92-.59-1.43-.59-.52 0-1.04.2-1.43.59L10.3 9.45l-7.72 7.72c-.78.78-.78 2.05 0 2.83L4 21.41c.39.39.9.59 1.41.59.51 0 1.02-.2 1.41-.59l7.78-7.78 2.81-2.81c.8-.78.8-2.07 0-2.86zM5.41 20L4 18.59l7.72-7.72 1.47 1.35L5.41 20z\"/>\n",
              "  </svg>\n",
              "      </button>\n",
              "      \n",
              "  <style>\n",
              "    .colab-df-container {\n",
              "      display:flex;\n",
              "      flex-wrap:wrap;\n",
              "      gap: 12px;\n",
              "    }\n",
              "\n",
              "    .colab-df-convert {\n",
              "      background-color: #E8F0FE;\n",
              "      border: none;\n",
              "      border-radius: 50%;\n",
              "      cursor: pointer;\n",
              "      display: none;\n",
              "      fill: #1967D2;\n",
              "      height: 32px;\n",
              "      padding: 0 0 0 0;\n",
              "      width: 32px;\n",
              "    }\n",
              "\n",
              "    .colab-df-convert:hover {\n",
              "      background-color: #E2EBFA;\n",
              "      box-shadow: 0px 1px 2px rgba(60, 64, 67, 0.3), 0px 1px 3px 1px rgba(60, 64, 67, 0.15);\n",
              "      fill: #174EA6;\n",
              "    }\n",
              "\n",
              "    [theme=dark] .colab-df-convert {\n",
              "      background-color: #3B4455;\n",
              "      fill: #D2E3FC;\n",
              "    }\n",
              "\n",
              "    [theme=dark] .colab-df-convert:hover {\n",
              "      background-color: #434B5C;\n",
              "      box-shadow: 0px 1px 3px 1px rgba(0, 0, 0, 0.15);\n",
              "      filter: drop-shadow(0px 1px 2px rgba(0, 0, 0, 0.3));\n",
              "      fill: #FFFFFF;\n",
              "    }\n",
              "  </style>\n",
              "\n",
              "      <script>\n",
              "        const buttonEl =\n",
              "          document.querySelector('#df-6771247c-3bfe-42f3-98a9-ddae08b1836a button.colab-df-convert');\n",
              "        buttonEl.style.display =\n",
              "          google.colab.kernel.accessAllowed ? 'block' : 'none';\n",
              "\n",
              "        async function convertToInteractive(key) {\n",
              "          const element = document.querySelector('#df-6771247c-3bfe-42f3-98a9-ddae08b1836a');\n",
              "          const dataTable =\n",
              "            await google.colab.kernel.invokeFunction('convertToInteractive',\n",
              "                                                     [key], {});\n",
              "          if (!dataTable) return;\n",
              "\n",
              "          const docLinkHtml = 'Like what you see? Visit the ' +\n",
              "            '<a target=\"_blank\" href=https://colab.research.google.com/notebooks/data_table.ipynb>data table notebook</a>'\n",
              "            + ' to learn more about interactive tables.';\n",
              "          element.innerHTML = '';\n",
              "          dataTable['output_type'] = 'display_data';\n",
              "          await google.colab.output.renderOutput(dataTable, element);\n",
              "          const docLink = document.createElement('div');\n",
              "          docLink.innerHTML = docLinkHtml;\n",
              "          element.appendChild(docLink);\n",
              "        }\n",
              "      </script>\n",
              "    </div>\n",
              "  </div>\n",
              "  "
            ]
          },
          "metadata": {},
          "execution_count": 192
        }
      ]
    },
    {
      "cell_type": "code",
      "execution_count": 193,
      "metadata": {
        "colab": {
          "base_uri": "https://localhost:8080/"
        },
        "id": "XHdCNiQ_-19w",
        "outputId": "8ddf7821-c957-476c-f374-d5018949982b"
      },
      "outputs": [
        {
          "output_type": "stream",
          "name": "stdout",
          "text": [
            "Number of Users: 300, Number of Places: 437, Min Rating: 1.0, Max Rating: 5.0\n"
          ]
        }
      ],
      "source": [
        "# Getting the number of users and places\n",
        "num_users, num_places = len(user_to_encoded), len(place_to_encoded)\n",
        "\n",
        "# Converting rating to float values\n",
        "rating['Place_Ratings'] = rating['Place_Ratings'].values.astype(np.float32)\n",
        "\n",
        "# Getting the minimum and maximum rating values\n",
        "min_rating, max_rating = min(rating['Place_Ratings']), max(rating['Place_Ratings'])\n",
        "\n",
        "print(f'Number of Users: {num_users}, Number of Places: {num_places}, Min Rating: {min_rating}, Max Rating: {max_rating}')"
      ]
    },
    {
      "cell_type": "code",
      "execution_count": 194,
      "metadata": {
        "colab": {
          "base_uri": "https://localhost:8080/",
          "height": 206
        },
        "id": "1p49yLFq-19x",
        "outputId": "650cb0ec-6e31-4418-a8b0-335271067dbb"
      },
      "outputs": [
        {
          "output_type": "execute_result",
          "data": {
            "text/plain": [
              "      User_Id  Place_Id  Place_Ratings  place  user\n",
              "6252      203       274            2.0    273    36\n",
              "4684      126       206            5.0    205   112\n",
              "1731        7        77            5.0     76   169\n",
              "4742      198       208            5.0    207   166\n",
              "4521      280       199            5.0    198    51"
            ],
            "text/html": [
              "\n",
              "  <div id=\"df-85c73758-2782-4f8d-ae7e-a2503dadb2ad\">\n",
              "    <div class=\"colab-df-container\">\n",
              "      <div>\n",
              "<style scoped>\n",
              "    .dataframe tbody tr th:only-of-type {\n",
              "        vertical-align: middle;\n",
              "    }\n",
              "\n",
              "    .dataframe tbody tr th {\n",
              "        vertical-align: top;\n",
              "    }\n",
              "\n",
              "    .dataframe thead th {\n",
              "        text-align: right;\n",
              "    }\n",
              "</style>\n",
              "<table border=\"1\" class=\"dataframe\">\n",
              "  <thead>\n",
              "    <tr style=\"text-align: right;\">\n",
              "      <th></th>\n",
              "      <th>User_Id</th>\n",
              "      <th>Place_Id</th>\n",
              "      <th>Place_Ratings</th>\n",
              "      <th>place</th>\n",
              "      <th>user</th>\n",
              "    </tr>\n",
              "  </thead>\n",
              "  <tbody>\n",
              "    <tr>\n",
              "      <th>6252</th>\n",
              "      <td>203</td>\n",
              "      <td>274</td>\n",
              "      <td>2.0</td>\n",
              "      <td>273</td>\n",
              "      <td>36</td>\n",
              "    </tr>\n",
              "    <tr>\n",
              "      <th>4684</th>\n",
              "      <td>126</td>\n",
              "      <td>206</td>\n",
              "      <td>5.0</td>\n",
              "      <td>205</td>\n",
              "      <td>112</td>\n",
              "    </tr>\n",
              "    <tr>\n",
              "      <th>1731</th>\n",
              "      <td>7</td>\n",
              "      <td>77</td>\n",
              "      <td>5.0</td>\n",
              "      <td>76</td>\n",
              "      <td>169</td>\n",
              "    </tr>\n",
              "    <tr>\n",
              "      <th>4742</th>\n",
              "      <td>198</td>\n",
              "      <td>208</td>\n",
              "      <td>5.0</td>\n",
              "      <td>207</td>\n",
              "      <td>166</td>\n",
              "    </tr>\n",
              "    <tr>\n",
              "      <th>4521</th>\n",
              "      <td>280</td>\n",
              "      <td>199</td>\n",
              "      <td>5.0</td>\n",
              "      <td>198</td>\n",
              "      <td>51</td>\n",
              "    </tr>\n",
              "  </tbody>\n",
              "</table>\n",
              "</div>\n",
              "      <button class=\"colab-df-convert\" onclick=\"convertToInteractive('df-85c73758-2782-4f8d-ae7e-a2503dadb2ad')\"\n",
              "              title=\"Convert this dataframe to an interactive table.\"\n",
              "              style=\"display:none;\">\n",
              "        \n",
              "  <svg xmlns=\"http://www.w3.org/2000/svg\" height=\"24px\"viewBox=\"0 0 24 24\"\n",
              "       width=\"24px\">\n",
              "    <path d=\"M0 0h24v24H0V0z\" fill=\"none\"/>\n",
              "    <path d=\"M18.56 5.44l.94 2.06.94-2.06 2.06-.94-2.06-.94-.94-2.06-.94 2.06-2.06.94zm-11 1L8.5 8.5l.94-2.06 2.06-.94-2.06-.94L8.5 2.5l-.94 2.06-2.06.94zm10 10l.94 2.06.94-2.06 2.06-.94-2.06-.94-.94-2.06-.94 2.06-2.06.94z\"/><path d=\"M17.41 7.96l-1.37-1.37c-.4-.4-.92-.59-1.43-.59-.52 0-1.04.2-1.43.59L10.3 9.45l-7.72 7.72c-.78.78-.78 2.05 0 2.83L4 21.41c.39.39.9.59 1.41.59.51 0 1.02-.2 1.41-.59l7.78-7.78 2.81-2.81c.8-.78.8-2.07 0-2.86zM5.41 20L4 18.59l7.72-7.72 1.47 1.35L5.41 20z\"/>\n",
              "  </svg>\n",
              "      </button>\n",
              "      \n",
              "  <style>\n",
              "    .colab-df-container {\n",
              "      display:flex;\n",
              "      flex-wrap:wrap;\n",
              "      gap: 12px;\n",
              "    }\n",
              "\n",
              "    .colab-df-convert {\n",
              "      background-color: #E8F0FE;\n",
              "      border: none;\n",
              "      border-radius: 50%;\n",
              "      cursor: pointer;\n",
              "      display: none;\n",
              "      fill: #1967D2;\n",
              "      height: 32px;\n",
              "      padding: 0 0 0 0;\n",
              "      width: 32px;\n",
              "    }\n",
              "\n",
              "    .colab-df-convert:hover {\n",
              "      background-color: #E2EBFA;\n",
              "      box-shadow: 0px 1px 2px rgba(60, 64, 67, 0.3), 0px 1px 3px 1px rgba(60, 64, 67, 0.15);\n",
              "      fill: #174EA6;\n",
              "    }\n",
              "\n",
              "    [theme=dark] .colab-df-convert {\n",
              "      background-color: #3B4455;\n",
              "      fill: #D2E3FC;\n",
              "    }\n",
              "\n",
              "    [theme=dark] .colab-df-convert:hover {\n",
              "      background-color: #434B5C;\n",
              "      box-shadow: 0px 1px 3px 1px rgba(0, 0, 0, 0.15);\n",
              "      filter: drop-shadow(0px 1px 2px rgba(0, 0, 0, 0.3));\n",
              "      fill: #FFFFFF;\n",
              "    }\n",
              "  </style>\n",
              "\n",
              "      <script>\n",
              "        const buttonEl =\n",
              "          document.querySelector('#df-85c73758-2782-4f8d-ae7e-a2503dadb2ad button.colab-df-convert');\n",
              "        buttonEl.style.display =\n",
              "          google.colab.kernel.accessAllowed ? 'block' : 'none';\n",
              "\n",
              "        async function convertToInteractive(key) {\n",
              "          const element = document.querySelector('#df-85c73758-2782-4f8d-ae7e-a2503dadb2ad');\n",
              "          const dataTable =\n",
              "            await google.colab.kernel.invokeFunction('convertToInteractive',\n",
              "                                                     [key], {});\n",
              "          if (!dataTable) return;\n",
              "\n",
              "          const docLinkHtml = 'Like what you see? Visit the ' +\n",
              "            '<a target=\"_blank\" href=https://colab.research.google.com/notebooks/data_table.ipynb>data table notebook</a>'\n",
              "            + ' to learn more about interactive tables.';\n",
              "          element.innerHTML = '';\n",
              "          dataTable['output_type'] = 'display_data';\n",
              "          await google.colab.output.renderOutput(dataTable, element);\n",
              "          const docLink = document.createElement('div');\n",
              "          docLink.innerHTML = docLinkHtml;\n",
              "          element.appendChild(docLink);\n",
              "        }\n",
              "      </script>\n",
              "    </div>\n",
              "  </div>\n",
              "  "
            ]
          },
          "metadata": {},
          "execution_count": 194
        }
      ],
      "source": [
        "# Shuffling the dataset\n",
        "rating = rating.sample(frac=1, random_state=42)\n",
        "rating.head()"
      ]
    },
    {
      "cell_type": "code",
      "execution_count": 195,
      "metadata": {
        "id": "L_rv_n6e-19x"
      },
      "outputs": [],
      "source": [
        "# Combining user and place data into a single input variable\n",
        "x = rating[['user', 'place']].values\n",
        "\n",
        "# Scaling the rating to a range of 0 to 1\n",
        "y = rating['Place_Ratings'].apply(lambda x: (x - min_rating) / (max_rating - min_rating)).values\n",
        "\n",
        "# Splitting the data into 80% train and 20% validation\n",
        "train_indices = int(0.8 * rating.shape[0])\n",
        "x_train, x_val, y_train, y_val = (\n",
        "    x[:train_indices],\n",
        "    x[train_indices:],\n",
        "    y[:train_indices],\n",
        "    y[train_indices:]\n",
        ")"
      ]
    },
    {
      "cell_type": "code",
      "execution_count": 196,
      "metadata": {
        "id": "qEQ4OG_q-19y"
      },
      "outputs": [],
      "source": [
        "class RecommenderNet(tf.keras.Model):\n",
        "\n",
        "  # Insialisasi fungsi\n",
        "  def __init__(self, num_users, num_places, embedding_size, **kwargs):\n",
        "    super(RecommenderNet, self).__init__(**kwargs)\n",
        "    self.num_users = num_users\n",
        "    self.num_places = num_places\n",
        "    self.embedding_size = embedding_size\n",
        "    self.user_embedding = layers.Embedding( # layer embedding user\n",
        "        num_users,\n",
        "        embedding_size,\n",
        "        embeddings_initializer = 'he_normal',\n",
        "        embeddings_regularizer = keras.regularizers.l2(1e-6)\n",
        "    )\n",
        "    self.user_bias = layers.Embedding(num_users, 1) # layer embedding user bias\n",
        "    self.places_embedding = layers.Embedding( # layer embeddings places\n",
        "        num_places,\n",
        "        embedding_size,\n",
        "        embeddings_initializer = 'he_normal',\n",
        "        embeddings_regularizer = keras.regularizers.l2(1e-6)\n",
        "    )\n",
        "    self.places_bias = layers.Embedding(num_places, 1) # layer embedding places bias\n",
        "\n",
        "  def call(self, inputs):\n",
        "    user_vector = self.user_embedding(inputs[:,0]) # memanggil layer embedding 1\n",
        "    user_bias = self.user_bias(inputs[:, 0]) # memanggil layer embedding 2\n",
        "    places_vector = self.places_embedding(inputs[:, 1]) # memanggil layer embedding 3\n",
        "    places_bias = self.places_bias(inputs[:, 1]) # memanggil layer embedding 4\n",
        "\n",
        "    dot_user_places = tf.tensordot(user_vector, places_vector, 2)\n",
        "\n",
        "    x = dot_user_places + user_bias + places_bias\n",
        "\n",
        "    return tf.nn.sigmoid(x) # activation sigmoid"
      ]
    },
    {
      "cell_type": "code",
      "execution_count": 197,
      "metadata": {
        "id": "GPeBG_qE-19z"
      },
      "outputs": [],
      "source": [
        "# Create an instance of your custom model\n",
        "model = RecommenderNet(num_users, num_places, 50)\n",
        "\n",
        "model.compile(\n",
        "    loss=tf.keras.losses.BinaryCrossentropy(),\n",
        "    optimizer=keras.optimizers.Adam(learning_rate=0.0004),\n",
        "    metrics=[tf.keras.metrics.RootMeanSquaredError()])"
      ]
    },
    {
      "cell_type": "code",
      "execution_count": 198,
      "metadata": {
        "id": "ZyrNh-PB-19z"
      },
      "outputs": [],
      "source": [
        "class MyCallback(tf.keras.callbacks.Callback):\n",
        "    def on_epoch_end(self, epoch, logs={}):\n",
        "        if logs.get('val_root_mean_squared_error') < 0.25:\n",
        "            print('Congratulations! Validation metrics meet the expectation.')\n",
        "            self.model.stop_training = True"
      ]
    },
    {
      "cell_type": "code",
      "execution_count": 199,
      "metadata": {
        "colab": {
          "base_uri": "https://localhost:8080/"
        },
        "id": "8hW1SiCv-19z",
        "outputId": "6de58772-712a-4959-e36f-abed73e1a46f"
      },
      "outputs": [
        {
          "output_type": "stream",
          "name": "stdout",
          "text": [
            "Epoch 1/100\n",
            "250/250 [==============================] - 2s 4ms/step - loss: 0.6999 - root_mean_squared_error: 0.3503 - val_loss: 0.7022 - val_root_mean_squared_error: 0.3506\n",
            "Epoch 2/100\n",
            "250/250 [==============================] - 1s 3ms/step - loss: 0.6980 - root_mean_squared_error: 0.3489 - val_loss: 0.7020 - val_root_mean_squared_error: 0.3505\n",
            "Epoch 3/100\n",
            "250/250 [==============================] - 1s 3ms/step - loss: 0.6972 - root_mean_squared_error: 0.3484 - val_loss: 0.7018 - val_root_mean_squared_error: 0.3503\n",
            "Epoch 4/100\n",
            "250/250 [==============================] - 1s 3ms/step - loss: 0.6949 - root_mean_squared_error: 0.3467 - val_loss: 0.7011 - val_root_mean_squared_error: 0.3499\n",
            "Epoch 5/100\n",
            "250/250 [==============================] - 1s 3ms/step - loss: 0.6932 - root_mean_squared_error: 0.3455 - val_loss: 0.7006 - val_root_mean_squared_error: 0.3496\n",
            "Epoch 6/100\n",
            "250/250 [==============================] - 1s 4ms/step - loss: 0.6928 - root_mean_squared_error: 0.3452 - val_loss: 0.7007 - val_root_mean_squared_error: 0.3496\n",
            "Epoch 7/100\n",
            "250/250 [==============================] - 1s 4ms/step - loss: 0.6903 - root_mean_squared_error: 0.3434 - val_loss: 0.7004 - val_root_mean_squared_error: 0.3494\n",
            "Epoch 8/100\n",
            "250/250 [==============================] - 1s 4ms/step - loss: 0.6897 - root_mean_squared_error: 0.3430 - val_loss: 0.7003 - val_root_mean_squared_error: 0.3493\n",
            "Epoch 9/100\n",
            "250/250 [==============================] - 1s 3ms/step - loss: 0.6877 - root_mean_squared_error: 0.3416 - val_loss: 0.7000 - val_root_mean_squared_error: 0.3491\n",
            "Epoch 10/100\n",
            "250/250 [==============================] - 1s 5ms/step - loss: 0.6873 - root_mean_squared_error: 0.3412 - val_loss: 0.6999 - val_root_mean_squared_error: 0.3490\n",
            "Epoch 11/100\n",
            "250/250 [==============================] - 1s 6ms/step - loss: 0.6864 - root_mean_squared_error: 0.3406 - val_loss: 0.6998 - val_root_mean_squared_error: 0.3490\n",
            "Epoch 12/100\n",
            "250/250 [==============================] - 2s 6ms/step - loss: 0.6853 - root_mean_squared_error: 0.3398 - val_loss: 0.6997 - val_root_mean_squared_error: 0.3489\n",
            "Epoch 13/100\n",
            "250/250 [==============================] - 1s 2ms/step - loss: 0.6856 - root_mean_squared_error: 0.3400 - val_loss: 0.7002 - val_root_mean_squared_error: 0.3492\n",
            "Epoch 14/100\n",
            "250/250 [==============================] - 1s 3ms/step - loss: 0.6835 - root_mean_squared_error: 0.3385 - val_loss: 0.7003 - val_root_mean_squared_error: 0.3493\n",
            "Epoch 15/100\n",
            "250/250 [==============================] - 1s 3ms/step - loss: 0.6822 - root_mean_squared_error: 0.3376 - val_loss: 0.7005 - val_root_mean_squared_error: 0.3495\n",
            "Epoch 16/100\n",
            "250/250 [==============================] - 1s 3ms/step - loss: 0.6818 - root_mean_squared_error: 0.3373 - val_loss: 0.7006 - val_root_mean_squared_error: 0.3495\n",
            "Epoch 17/100\n",
            "250/250 [==============================] - 1s 2ms/step - loss: 0.6815 - root_mean_squared_error: 0.3370 - val_loss: 0.7005 - val_root_mean_squared_error: 0.3495\n",
            "Epoch 18/100\n",
            "250/250 [==============================] - 1s 3ms/step - loss: 0.6806 - root_mean_squared_error: 0.3364 - val_loss: 0.7006 - val_root_mean_squared_error: 0.3495\n",
            "Epoch 19/100\n",
            "250/250 [==============================] - 1s 3ms/step - loss: 0.6792 - root_mean_squared_error: 0.3354 - val_loss: 0.7007 - val_root_mean_squared_error: 0.3496\n",
            "Epoch 20/100\n",
            "250/250 [==============================] - 1s 4ms/step - loss: 0.6794 - root_mean_squared_error: 0.3355 - val_loss: 0.7007 - val_root_mean_squared_error: 0.3496\n",
            "Epoch 21/100\n",
            "250/250 [==============================] - 1s 4ms/step - loss: 0.6782 - root_mean_squared_error: 0.3347 - val_loss: 0.7007 - val_root_mean_squared_error: 0.3496\n",
            "Epoch 22/100\n",
            "250/250 [==============================] - 1s 4ms/step - loss: 0.6774 - root_mean_squared_error: 0.3341 - val_loss: 0.7012 - val_root_mean_squared_error: 0.3499\n",
            "Epoch 23/100\n",
            "250/250 [==============================] - 1s 3ms/step - loss: 0.6768 - root_mean_squared_error: 0.3337 - val_loss: 0.7018 - val_root_mean_squared_error: 0.3504\n",
            "Epoch 24/100\n",
            "250/250 [==============================] - 1s 2ms/step - loss: 0.6759 - root_mean_squared_error: 0.3330 - val_loss: 0.7019 - val_root_mean_squared_error: 0.3504\n",
            "Epoch 25/100\n",
            "250/250 [==============================] - 1s 3ms/step - loss: 0.6752 - root_mean_squared_error: 0.3324 - val_loss: 0.7023 - val_root_mean_squared_error: 0.3507\n",
            "Epoch 26/100\n",
            "250/250 [==============================] - 1s 3ms/step - loss: 0.6752 - root_mean_squared_error: 0.3324 - val_loss: 0.7023 - val_root_mean_squared_error: 0.3507\n",
            "Epoch 27/100\n",
            "250/250 [==============================] - 1s 3ms/step - loss: 0.6734 - root_mean_squared_error: 0.3312 - val_loss: 0.7030 - val_root_mean_squared_error: 0.3512\n",
            "Epoch 28/100\n",
            "250/250 [==============================] - 1s 3ms/step - loss: 0.6757 - root_mean_squared_error: 0.3328 - val_loss: 0.7034 - val_root_mean_squared_error: 0.3515\n",
            "Epoch 29/100\n",
            "250/250 [==============================] - 1s 3ms/step - loss: 0.6731 - root_mean_squared_error: 0.3310 - val_loss: 0.7041 - val_root_mean_squared_error: 0.3519\n",
            "Epoch 30/100\n",
            "250/250 [==============================] - 1s 3ms/step - loss: 0.6736 - root_mean_squared_error: 0.3313 - val_loss: 0.7040 - val_root_mean_squared_error: 0.3519\n",
            "Epoch 31/100\n",
            "250/250 [==============================] - 1s 3ms/step - loss: 0.6730 - root_mean_squared_error: 0.3309 - val_loss: 0.7042 - val_root_mean_squared_error: 0.3519\n",
            "Epoch 32/100\n",
            "250/250 [==============================] - 1s 3ms/step - loss: 0.6719 - root_mean_squared_error: 0.3300 - val_loss: 0.7045 - val_root_mean_squared_error: 0.3522\n",
            "Epoch 33/100\n",
            "250/250 [==============================] - 1s 2ms/step - loss: 0.6723 - root_mean_squared_error: 0.3303 - val_loss: 0.7044 - val_root_mean_squared_error: 0.3521\n",
            "Epoch 34/100\n",
            "250/250 [==============================] - 1s 3ms/step - loss: 0.6713 - root_mean_squared_error: 0.3296 - val_loss: 0.7052 - val_root_mean_squared_error: 0.3527\n",
            "Epoch 35/100\n",
            "250/250 [==============================] - 1s 3ms/step - loss: 0.6725 - root_mean_squared_error: 0.3306 - val_loss: 0.7048 - val_root_mean_squared_error: 0.3524\n",
            "Epoch 36/100\n",
            "250/250 [==============================] - 1s 2ms/step - loss: 0.6718 - root_mean_squared_error: 0.3299 - val_loss: 0.7054 - val_root_mean_squared_error: 0.3528\n",
            "Epoch 37/100\n",
            "250/250 [==============================] - 1s 3ms/step - loss: 0.6700 - root_mean_squared_error: 0.3287 - val_loss: 0.7060 - val_root_mean_squared_error: 0.3532\n",
            "Epoch 38/100\n",
            "250/250 [==============================] - 1s 4ms/step - loss: 0.6703 - root_mean_squared_error: 0.3289 - val_loss: 0.7062 - val_root_mean_squared_error: 0.3533\n",
            "Epoch 39/100\n",
            "250/250 [==============================] - 1s 4ms/step - loss: 0.6715 - root_mean_squared_error: 0.3298 - val_loss: 0.7067 - val_root_mean_squared_error: 0.3537\n",
            "Epoch 40/100\n",
            "250/250 [==============================] - 2s 6ms/step - loss: 0.6687 - root_mean_squared_error: 0.3277 - val_loss: 0.7069 - val_root_mean_squared_error: 0.3538\n",
            "Epoch 41/100\n",
            "250/250 [==============================] - 1s 6ms/step - loss: 0.6691 - root_mean_squared_error: 0.3280 - val_loss: 0.7069 - val_root_mean_squared_error: 0.3538\n",
            "Epoch 42/100\n",
            "250/250 [==============================] - 1s 5ms/step - loss: 0.6690 - root_mean_squared_error: 0.3279 - val_loss: 0.7071 - val_root_mean_squared_error: 0.3539\n",
            "Epoch 43/100\n",
            "250/250 [==============================] - 1s 3ms/step - loss: 0.6681 - root_mean_squared_error: 0.3272 - val_loss: 0.7073 - val_root_mean_squared_error: 0.3540\n",
            "Epoch 44/100\n",
            "250/250 [==============================] - 1s 3ms/step - loss: 0.6693 - root_mean_squared_error: 0.3282 - val_loss: 0.7077 - val_root_mean_squared_error: 0.3543\n",
            "Epoch 45/100\n",
            "250/250 [==============================] - 1s 2ms/step - loss: 0.6689 - root_mean_squared_error: 0.3279 - val_loss: 0.7075 - val_root_mean_squared_error: 0.3541\n",
            "Epoch 46/100\n",
            "250/250 [==============================] - 1s 3ms/step - loss: 0.6688 - root_mean_squared_error: 0.3278 - val_loss: 0.7074 - val_root_mean_squared_error: 0.3541\n",
            "Epoch 47/100\n",
            "250/250 [==============================] - 1s 3ms/step - loss: 0.6686 - root_mean_squared_error: 0.3276 - val_loss: 0.7075 - val_root_mean_squared_error: 0.3541\n",
            "Epoch 48/100\n",
            "250/250 [==============================] - 1s 3ms/step - loss: 0.6672 - root_mean_squared_error: 0.3266 - val_loss: 0.7074 - val_root_mean_squared_error: 0.3541\n",
            "Epoch 49/100\n",
            "250/250 [==============================] - 1s 3ms/step - loss: 0.6683 - root_mean_squared_error: 0.3275 - val_loss: 0.7080 - val_root_mean_squared_error: 0.3544\n",
            "Epoch 50/100\n",
            "250/250 [==============================] - 1s 3ms/step - loss: 0.6668 - root_mean_squared_error: 0.3263 - val_loss: 0.7080 - val_root_mean_squared_error: 0.3544\n",
            "Epoch 51/100\n",
            "250/250 [==============================] - 1s 3ms/step - loss: 0.6668 - root_mean_squared_error: 0.3263 - val_loss: 0.7079 - val_root_mean_squared_error: 0.3544\n",
            "Epoch 52/100\n",
            "250/250 [==============================] - 1s 3ms/step - loss: 0.6662 - root_mean_squared_error: 0.3259 - val_loss: 0.7080 - val_root_mean_squared_error: 0.3544\n",
            "Epoch 53/100\n",
            "250/250 [==============================] - 1s 4ms/step - loss: 0.6670 - root_mean_squared_error: 0.3265 - val_loss: 0.7084 - val_root_mean_squared_error: 0.3546\n",
            "Epoch 54/100\n",
            "250/250 [==============================] - 1s 4ms/step - loss: 0.6662 - root_mean_squared_error: 0.3259 - val_loss: 0.7085 - val_root_mean_squared_error: 0.3548\n",
            "Epoch 55/100\n",
            "250/250 [==============================] - 1s 3ms/step - loss: 0.6659 - root_mean_squared_error: 0.3257 - val_loss: 0.7085 - val_root_mean_squared_error: 0.3547\n",
            "Epoch 56/100\n",
            "250/250 [==============================] - 1s 4ms/step - loss: 0.6669 - root_mean_squared_error: 0.3265 - val_loss: 0.7084 - val_root_mean_squared_error: 0.3547\n",
            "Epoch 57/100\n",
            "250/250 [==============================] - 1s 4ms/step - loss: 0.6664 - root_mean_squared_error: 0.3261 - val_loss: 0.7084 - val_root_mean_squared_error: 0.3546\n",
            "Epoch 58/100\n",
            "250/250 [==============================] - 1s 5ms/step - loss: 0.6663 - root_mean_squared_error: 0.3259 - val_loss: 0.7084 - val_root_mean_squared_error: 0.3546\n",
            "Epoch 59/100\n",
            "250/250 [==============================] - 1s 3ms/step - loss: 0.6650 - root_mean_squared_error: 0.3250 - val_loss: 0.7080 - val_root_mean_squared_error: 0.3544\n",
            "Epoch 60/100\n",
            "250/250 [==============================] - 1s 3ms/step - loss: 0.6658 - root_mean_squared_error: 0.3256 - val_loss: 0.7081 - val_root_mean_squared_error: 0.3544\n",
            "Epoch 61/100\n",
            "250/250 [==============================] - 1s 3ms/step - loss: 0.6659 - root_mean_squared_error: 0.3257 - val_loss: 0.7083 - val_root_mean_squared_error: 0.3546\n",
            "Epoch 62/100\n",
            "250/250 [==============================] - 1s 3ms/step - loss: 0.6653 - root_mean_squared_error: 0.3253 - val_loss: 0.7085 - val_root_mean_squared_error: 0.3547\n",
            "Epoch 63/100\n",
            "250/250 [==============================] - 1s 3ms/step - loss: 0.6657 - root_mean_squared_error: 0.3255 - val_loss: 0.7087 - val_root_mean_squared_error: 0.3549\n",
            "Epoch 64/100\n",
            "250/250 [==============================] - 1s 3ms/step - loss: 0.6651 - root_mean_squared_error: 0.3251 - val_loss: 0.7088 - val_root_mean_squared_error: 0.3549\n",
            "Epoch 65/100\n",
            "250/250 [==============================] - 1s 3ms/step - loss: 0.6649 - root_mean_squared_error: 0.3250 - val_loss: 0.7090 - val_root_mean_squared_error: 0.3550\n",
            "Epoch 66/100\n",
            "250/250 [==============================] - 1s 3ms/step - loss: 0.6663 - root_mean_squared_error: 0.3260 - val_loss: 0.7093 - val_root_mean_squared_error: 0.3552\n",
            "Epoch 67/100\n",
            "250/250 [==============================] - 1s 3ms/step - loss: 0.6649 - root_mean_squared_error: 0.3250 - val_loss: 0.7094 - val_root_mean_squared_error: 0.3553\n",
            "Epoch 68/100\n",
            "250/250 [==============================] - 1s 4ms/step - loss: 0.6652 - root_mean_squared_error: 0.3252 - val_loss: 0.7096 - val_root_mean_squared_error: 0.3554\n",
            "Epoch 69/100\n",
            "250/250 [==============================] - 1s 4ms/step - loss: 0.6642 - root_mean_squared_error: 0.3245 - val_loss: 0.7101 - val_root_mean_squared_error: 0.3557\n",
            "Epoch 70/100\n",
            "250/250 [==============================] - 1s 4ms/step - loss: 0.6658 - root_mean_squared_error: 0.3257 - val_loss: 0.7102 - val_root_mean_squared_error: 0.3558\n",
            "Epoch 71/100\n",
            "250/250 [==============================] - 1s 3ms/step - loss: 0.6641 - root_mean_squared_error: 0.3243 - val_loss: 0.7106 - val_root_mean_squared_error: 0.3561\n",
            "Epoch 72/100\n",
            "250/250 [==============================] - 1s 3ms/step - loss: 0.6650 - root_mean_squared_error: 0.3251 - val_loss: 0.7105 - val_root_mean_squared_error: 0.3560\n",
            "Epoch 73/100\n",
            "250/250 [==============================] - 1s 3ms/step - loss: 0.6643 - root_mean_squared_error: 0.3246 - val_loss: 0.7105 - val_root_mean_squared_error: 0.3560\n",
            "Epoch 74/100\n",
            "250/250 [==============================] - 1s 3ms/step - loss: 0.6648 - root_mean_squared_error: 0.3249 - val_loss: 0.7103 - val_root_mean_squared_error: 0.3559\n",
            "Epoch 75/100\n",
            "250/250 [==============================] - 1s 3ms/step - loss: 0.6650 - root_mean_squared_error: 0.3251 - val_loss: 0.7105 - val_root_mean_squared_error: 0.3560\n",
            "Epoch 76/100\n",
            "250/250 [==============================] - 1s 3ms/step - loss: 0.6640 - root_mean_squared_error: 0.3243 - val_loss: 0.7107 - val_root_mean_squared_error: 0.3561\n",
            "Epoch 77/100\n",
            "250/250 [==============================] - 1s 3ms/step - loss: 0.6636 - root_mean_squared_error: 0.3241 - val_loss: 0.7111 - val_root_mean_squared_error: 0.3564\n",
            "Epoch 78/100\n",
            "250/250 [==============================] - 1s 3ms/step - loss: 0.6646 - root_mean_squared_error: 0.3248 - val_loss: 0.7116 - val_root_mean_squared_error: 0.3567\n",
            "Epoch 79/100\n",
            "250/250 [==============================] - 1s 3ms/step - loss: 0.6641 - root_mean_squared_error: 0.3244 - val_loss: 0.7119 - val_root_mean_squared_error: 0.3569\n",
            "Epoch 80/100\n",
            "250/250 [==============================] - 1s 3ms/step - loss: 0.6640 - root_mean_squared_error: 0.3244 - val_loss: 0.7123 - val_root_mean_squared_error: 0.3572\n",
            "Epoch 81/100\n",
            "250/250 [==============================] - 1s 3ms/step - loss: 0.6632 - root_mean_squared_error: 0.3237 - val_loss: 0.7122 - val_root_mean_squared_error: 0.3571\n",
            "Epoch 82/100\n",
            "250/250 [==============================] - 1s 3ms/step - loss: 0.6630 - root_mean_squared_error: 0.3236 - val_loss: 0.7123 - val_root_mean_squared_error: 0.3571\n",
            "Epoch 83/100\n",
            "250/250 [==============================] - 1s 3ms/step - loss: 0.6649 - root_mean_squared_error: 0.3250 - val_loss: 0.7122 - val_root_mean_squared_error: 0.3571\n",
            "Epoch 84/100\n",
            "250/250 [==============================] - 1s 3ms/step - loss: 0.6641 - root_mean_squared_error: 0.3244 - val_loss: 0.7121 - val_root_mean_squared_error: 0.3570\n",
            "Epoch 85/100\n",
            "250/250 [==============================] - 1s 3ms/step - loss: 0.6638 - root_mean_squared_error: 0.3241 - val_loss: 0.7126 - val_root_mean_squared_error: 0.3573\n",
            "Epoch 86/100\n",
            "250/250 [==============================] - 1s 4ms/step - loss: 0.6642 - root_mean_squared_error: 0.3245 - val_loss: 0.7126 - val_root_mean_squared_error: 0.3574\n",
            "Epoch 87/100\n",
            "250/250 [==============================] - 1s 4ms/step - loss: 0.6633 - root_mean_squared_error: 0.3238 - val_loss: 0.7124 - val_root_mean_squared_error: 0.3572\n",
            "Epoch 88/100\n",
            "250/250 [==============================] - 1s 3ms/step - loss: 0.6631 - root_mean_squared_error: 0.3237 - val_loss: 0.7130 - val_root_mean_squared_error: 0.3576\n",
            "Epoch 89/100\n",
            "250/250 [==============================] - 1s 3ms/step - loss: 0.6642 - root_mean_squared_error: 0.3245 - val_loss: 0.7129 - val_root_mean_squared_error: 0.3575\n",
            "Epoch 90/100\n",
            "250/250 [==============================] - 1s 3ms/step - loss: 0.6637 - root_mean_squared_error: 0.3241 - val_loss: 0.7127 - val_root_mean_squared_error: 0.3573\n",
            "Epoch 91/100\n",
            "250/250 [==============================] - 1s 3ms/step - loss: 0.6636 - root_mean_squared_error: 0.3241 - val_loss: 0.7122 - val_root_mean_squared_error: 0.3570\n",
            "Epoch 92/100\n",
            "250/250 [==============================] - 1s 2ms/step - loss: 0.6619 - root_mean_squared_error: 0.3227 - val_loss: 0.7126 - val_root_mean_squared_error: 0.3573\n",
            "Epoch 93/100\n",
            "250/250 [==============================] - 1s 3ms/step - loss: 0.6631 - root_mean_squared_error: 0.3237 - val_loss: 0.7125 - val_root_mean_squared_error: 0.3573\n",
            "Epoch 94/100\n",
            "250/250 [==============================] - 1s 3ms/step - loss: 0.6622 - root_mean_squared_error: 0.3231 - val_loss: 0.7125 - val_root_mean_squared_error: 0.3572\n",
            "Epoch 95/100\n",
            "250/250 [==============================] - 1s 2ms/step - loss: 0.6633 - root_mean_squared_error: 0.3239 - val_loss: 0.7122 - val_root_mean_squared_error: 0.3571\n",
            "Epoch 96/100\n",
            "250/250 [==============================] - 1s 3ms/step - loss: 0.6629 - root_mean_squared_error: 0.3236 - val_loss: 0.7123 - val_root_mean_squared_error: 0.3571\n",
            "Epoch 97/100\n",
            "250/250 [==============================] - 1s 3ms/step - loss: 0.6631 - root_mean_squared_error: 0.3237 - val_loss: 0.7126 - val_root_mean_squared_error: 0.3573\n",
            "Epoch 98/100\n",
            "250/250 [==============================] - 1s 3ms/step - loss: 0.6631 - root_mean_squared_error: 0.3237 - val_loss: 0.7131 - val_root_mean_squared_error: 0.3576\n",
            "Epoch 99/100\n",
            "250/250 [==============================] - 1s 3ms/step - loss: 0.6637 - root_mean_squared_error: 0.3240 - val_loss: 0.7134 - val_root_mean_squared_error: 0.3579\n",
            "Epoch 100/100\n",
            "250/250 [==============================] - 1s 3ms/step - loss: 0.6623 - root_mean_squared_error: 0.3231 - val_loss: 0.7139 - val_root_mean_squared_error: 0.3581\n"
          ]
        }
      ],
      "source": [
        "history = model.fit(\n",
        "    x=x_train,\n",
        "    y=y_train,\n",
        "    epochs=100,\n",
        "    validation_data=(x_val, y_val),\n",
        "    callbacks=[MyCallback()]\n",
        ")"
      ]
    },
    {
      "cell_type": "code",
      "execution_count": 200,
      "metadata": {
        "id": "6xXqI8Mu-19z",
        "colab": {
          "base_uri": "https://localhost:8080/",
          "height": 480
        },
        "outputId": "2d4cff56-a671-4ae9-f555-1f9e4d46b097"
      },
      "outputs": [
        {
          "output_type": "display_data",
          "data": {
            "text/plain": [
              "<Figure size 640x480 with 1 Axes>"
            ],
            "image/png": "[encoded data removed]"
          },
          "metadata": {}
        }
      ],
      "source": [
        "# Plotting the loss and validation metrics\n",
        "plt.plot(history.history['root_mean_squared_error'])\n",
        "plt.plot(history.history['val_root_mean_squared_error'])\n",
        "plt.title('Model Metrics')\n",
        "plt.ylabel('Root Mean Squared Error')\n",
        "plt.xlabel('Epoch')\n",
        "plt.ylim(ymin=0, ymax=0.4)\n",
        "plt.legend(['Train', 'Test'], loc='center left')\n",
        "plt.show()"
      ]
    },
    {
      "cell_type": "code",
      "source": [
        "# Saving the Model as .pb (Protocol Buffer) format\n",
        "model.save('destinasi_wisata_model', save_format='tf')"
      ],
      "metadata": {
        "id": "vnMBF859QHv0",
        "colab": {
          "base_uri": "https://localhost:8080/"
        },
        "outputId": "4006a1d9-4e9c-496c-94b5-1777bde5a615"
      },
      "execution_count": 201,
      "outputs": [
        {
          "output_type": "stream",
          "name": "stderr",
          "text": [
            "WARNING:absl:Found untraced functions such as _update_step_xla while saving (showing 1 of 1). These functions will not be directly callable after loading.\n"
          ]
        }
      ]
    },
    {
      "cell_type": "code",
      "source": [
        "# Saving the Model Weights as .h5 file\n",
        "model.save_weights('wisata_model.h5')"
      ],
      "metadata": {
        "id": "wWtnX5fZQPMQ"
      },
      "execution_count": 202,
      "outputs": []
    },
    {
      "cell_type": "code",
      "source": [
        "# Saving the Model as .pkl (Pickle) file\n",
        "import joblib\n",
        "joblib.dump(model, 'wisata_model.pkl')"
      ],
      "metadata": {
        "id": "Sx2dwql-QPBQ",
        "colab": {
          "base_uri": "https://localhost:8080/"
        },
        "outputId": "b0f8a970-636a-4b11-968a-03ca42fef966"
      },
      "execution_count": 203,
      "outputs": [
        {
          "output_type": "execute_result",
          "data": {
            "text/plain": [
              "['wisata_model.pkl']"
            ]
          },
          "metadata": {},
          "execution_count": 203
        }
      ]
    },
    {
      "cell_type": "code",
      "source": [
        "# Serializing the Model to JSON\n",
        "model_json = model.to_json()\n",
        "with open(\"wisata_model.json\", \"w\") as json_file:\n",
        "    json_file.write(model_json)"
      ],
      "metadata": {
        "id": "A0_-9tItQO0W"
      },
      "execution_count": 204,
      "outputs": []
    },
    {
      "cell_type": "code",
      "source": [
        "# Saving DataFrame to CSV\n",
        "df.to_csv('destinasi_wisata.csv', index=False)\n",
        "place.to_csv('data_wisata.csv', index=False)"
      ],
      "metadata": {
        "id": "ElgQU5hxQYHl"
      },
      "execution_count": 212,
      "outputs": []
    },
    {
      "cell_type": "code",
      "source": [
        "# Loading the Model from .h5 file\n",
        "model.load_weights(\"wisata_model.h5\")\n",
        "print(\"Model .h5 Successfully Loaded\")"
      ],
      "metadata": {
        "id": "GMn8-rorQag4",
        "colab": {
          "base_uri": "https://localhost:8080/"
        },
        "outputId": "4f10aa83-961c-4b4e-c42f-fbef4a757e69"
      },
      "execution_count": 206,
      "outputs": [
        {
          "output_type": "stream",
          "name": "stdout",
          "text": [
            "Model .h5 Successfully Loaded\n"
          ]
        }
      ]
    },
    {
      "cell_type": "code",
      "source": [
        "# Loading the Model from .pkl file\n",
        "model = joblib.load('wisata_model.pkl')\n",
        "print(\"Model .pkl Successfully Loaded\")"
      ],
      "metadata": {
        "id": "5_ECUkMsQb6i",
        "colab": {
          "base_uri": "https://localhost:8080/"
        },
        "outputId": "10fcf31b-c6b6-497b-c540-b0f0aac7dd36"
      },
      "execution_count": 207,
      "outputs": [
        {
          "output_type": "stream",
          "name": "stdout",
          "text": [
            "Model .pkl Successfully Loaded\n"
          ]
        }
      ]
    },
    {
      "cell_type": "code",
      "execution_count": 208,
      "metadata": {
        "id": "C3uAX6kO-19z"
      },
      "outputs": [],
      "source": [
        "# Preparing the dataframe\n",
        "place_df = place[['Place_Id', 'Place_Name', 'Category', 'Rating', 'Price']]\n",
        "place_df.columns = ['id', 'place_name', 'category', 'rating', 'price']\n",
        "df = rating.copy()"
      ]
    },
    {
      "cell_type": "code",
      "execution_count": 209,
      "metadata": {
        "id": "fctL-G7m-190"
      },
      "outputs": [],
      "source": [
        "# Selecting a random user\n",
        "user_id = df.User_Id.sample(1).iloc[0]\n",
        "places_visited_by_user = df[df.User_Id == user_id]"
      ]
    },
    {
      "cell_type": "code",
      "execution_count": 210,
      "metadata": {
        "id": "n7Sgg-VE-190"
      },
      "outputs": [],
      "source": [
        "# Creating data for places not visited by the user\n",
        "places_not_visited = place_df[~place_df['id'].isin(places_visited_by_user.Place_Id.values)]['id']\n",
        "places_not_visited = list(\n",
        "    set(places_not_visited)\n",
        "    .intersection(set(place_to_encoded.keys()))\n",
        ")\n",
        "\n",
        "places_not_visited = [[place_to_encoded.get(x)] for x in places_not_visited]\n",
        "user_encoder = user_to_encoded.get(user_id)\n",
        "user_place_array = np.hstack(\n",
        "    ([[user_encoder]] * len(places_not_visited), places_not_visited)\n",
        ")"
      ]
    },
    {
      "cell_type": "code",
      "execution_count": 211,
      "metadata": {
        "id": "KwjTI_VS-190",
        "colab": {
          "base_uri": "https://localhost:8080/"
        },
        "outputId": "4248ab79-8fcb-4d34-bc65-cb231a55ba0b"
      },
      "outputs": [
        {
          "output_type": "stream",
          "name": "stdout",
          "text": [
            "13/13 [==============================] - 0s 2ms/step\n",
            "Recommendations for: User 225\n",
            "============================================= \n",
            "\n",
            "------------------------------------------------------------\n",
            "Places with the highest ratings from the user\n",
            "------------------------------------------------------------\n",
            "Taman Menteng : Taman Hiburan\n",
            "Taman Badak : Taman Hiburan\n",
            "Curug Cimahi : Cagar Alam\n",
            "Jembatan Biru Ambarawa : Taman Hiburan\n",
            "Food Junction Grand Pakuwon : Pusat Perbelanjaan\n",
            "\n",
            "------------------------------------------------------------\n",
            "Top 7 place recommendations\n",
            "------------------------------------------------------------\n",
            "1 . Monumen Nasional \n",
            "     Budaya , Ticket Price  20000 , Rating  4.6 \n",
            "\n",
            "2 . Kampung Cina \n",
            "     Budaya , Ticket Price  15000 , Rating  4.5 \n",
            "\n",
            "3 . Puncak Gunung Api Purba - Nglanggeran \n",
            "     Cagar Alam , Ticket Price  10000 , Rating  4.7 \n",
            "\n",
            "4 . Pantai Baron \n",
            "     Bahari , Ticket Price  10000 , Rating  4.4 \n",
            "\n",
            "5 . Stone Garden Citatah \n",
            "     Taman Hiburan , Ticket Price  30000 , Rating  4.4 \n",
            "\n",
            "6 . Bukit Jamur \n",
            "     Cagar Alam , Ticket Price  0 , Rating  4.2 \n",
            "\n",
            "7 . Taman Hiburan Rakyat \n",
            "     Taman Hiburan , Ticket Price  5000 , Rating  4.2 \n",
            "\n",
            "=============================================\n"
          ]
        }
      ],
      "source": [
        "# Getting top 7 recommendations\n",
        "ratings = model.predict(user_place_array).flatten()\n",
        "top_ratings_indices = ratings.argsort()[-7:][::-1]\n",
        "recommended_place_ids = [\n",
        "    encoded_to_place.get(places_not_visited[x][0]) for x in top_ratings_indices\n",
        "]\n",
        "\n",
        "print('Recommendations for: {}'.format('User ' + str(user_id)))\n",
        "print('===' * 15, '\\n')\n",
        "print('----' * 15)\n",
        "print('Places with the highest ratings from the user')\n",
        "print('----' * 15)\n",
        "\n",
        "top_places_user = (\n",
        "    places_visited_by_user.sort_values(\n",
        "        by='Place_Ratings',\n",
        "        ascending=False\n",
        "    )\n",
        "    .head(5)\n",
        "    .Place_Id.values\n",
        ")\n",
        "\n",
        "place_df_rows = place_df[place_df['id'].isin(top_places_user)]\n",
        "for row in place_df_rows.itertuples():\n",
        "    print(row.place_name, ':', row.category)\n",
        "\n",
        "print('')\n",
        "print('----' * 15)\n",
        "print('Top 7 place recommendations')\n",
        "print('----' * 15)\n",
        "\n",
        "recommended_places = place_df[place_df['id'].isin(recommended_place_ids)]\n",
        "for row, i in zip(recommended_places.itertuples(), range(1, 8)):\n",
        "    print(i, '.', row.place_name, '\\n    ', row.category, ',', 'Ticket Price ', row.price, ',', 'Rating ', row.rating, '\\n')\n",
        "\n",
        "print('===' * 15)"
      ]
    }
  ],
  "metadata": {
    "language_info": {
      "name": "python"
    },
    "orig_nbformat": 4,
    "colab": {
      "provenance": []
    },
    "kernelspec": {
      "name": "python3",
      "display_name": "Python 3"
    }
  },
  "nbformat": 4,
  "nbformat_minor": 0
}