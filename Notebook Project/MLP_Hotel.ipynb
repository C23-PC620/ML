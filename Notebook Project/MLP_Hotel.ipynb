{
 "cells": [
  {
   "attachments": {},
   "cell_type": "markdown",
   "metadata": {},
   "source": [
    "## imports"
   ]
  },
  {
   "cell_type": "code",
   "execution_count": 2,
   "metadata": {},
   "outputs": [
    {
     "name": "stdout",
     "output_type": "stream",
     "text": [
      "Requirement already satisfied: pickle-mixin in c:\\users\\hp\\anaconda3\\envs\\teguhpy\\lib\\site-packages (1.0.2)\n",
      "Note: you may need to restart the kernel to use updated packages.\n"
     ]
    }
   ],
   "source": [
    "# untuk serialisasi dan deserialisasi objek Python.\n",
    "%pip install pickle-mixin \n",
    "import pickle\n",
    "\n",
    "import pandas as pd # untuk manipulasi dan analisis data\n",
    "\n",
    "from sklearn.model_selection import train_test_split # untuk membagi data menjadi set pelatihan dan pengujian.\n",
    "from sklearn.preprocessing import StandardScaler # untuk melakukan penskalaan fitur.\n",
    "\n",
    "import tensorflow as tf # untuk machine learning dan neural network.\n",
    "from tensorflow.keras.models import Sequential # untuk membuat model jaringan saraf secara berurutan.\n",
    "from tensorflow.keras.layers import Dense # untuk menambahkan lapisan-lapisan dense (penuh terhubung) ke dalam model.\n",
    "\n",
    "import matplotlib.pyplot as plt # untuk membuat visualisasi grafik."
   ]
  },
  {
   "attachments": {},
   "cell_type": "markdown",
   "metadata": {},
   "source": [
    "## Load dan preprocess data\n",
    "source:https://www.kaggle.com/datasets/datasciencerikiakbar/new-year-hotel-rooms-availability-from-traveloka"
   ]
  },
  {
   "cell_type": "code",
   "execution_count": 3,
   "metadata": {},
   "outputs": [],
   "source": [
    "df = pd.read_csv('data_hotel_traveloka.csv')"
   ]
  },
  {
   "attachments": {},
   "cell_type": "markdown",
   "metadata": {},
   "source": [
    "### memilih fitur yang relevan"
   ]
  },
  {
   "cell_type": "code",
   "execution_count": 4,
   "metadata": {},
   "outputs": [],
   "source": [
    "data_model = df[['city','name','displayName','region','longitude', 'latitude', 'userRating']]"
   ]
  },
  {
   "attachments": {},
   "cell_type": "markdown",
   "metadata": {},
   "source": [
    "### Rescale kolom ratings menjadi antara 1 dan 5"
   ]
  },
  {
   "cell_type": "code",
   "execution_count": 5,
   "metadata": {},
   "outputs": [
    {
     "name": "stderr",
     "output_type": "stream",
     "text": [
      "C:\\Users\\HP\\AppData\\Local\\Temp\\ipykernel_19204\\1770360470.py:1: SettingWithCopyWarning: \n",
      "A value is trying to be set on a copy of a slice from a DataFrame.\n",
      "Try using .loc[row_indexer,col_indexer] = value instead\n",
      "\n",
      "See the caveats in the documentation: https://pandas.pydata.org/pandas-docs/stable/user_guide/indexing.html#returning-a-view-versus-a-copy\n",
      "  data_model['userRating'] = data_model['userRating'].apply(lambda x: round(x/2) if x <= 10 else 5)\n"
     ]
    }
   ],
   "source": [
    "data_model['userRating'] = data_model['userRating'].apply(lambda x: round(x/2) if x <= 10 else 5)"
   ]
  },
  {
   "attachments": {},
   "cell_type": "markdown",
   "metadata": {},
   "source": [
    "### mengurus data duplicates dan data yang hilang (missing data)"
   ]
  },
  {
   "cell_type": "code",
   "execution_count": 6,
   "metadata": {},
   "outputs": [
    {
     "name": "stderr",
     "output_type": "stream",
     "text": [
      "C:\\Users\\HP\\AppData\\Local\\Temp\\ipykernel_19204\\1146742051.py:1: SettingWithCopyWarning: \n",
      "A value is trying to be set on a copy of a slice from a DataFrame\n",
      "\n",
      "See the caveats in the documentation: https://pandas.pydata.org/pandas-docs/stable/user_guide/indexing.html#returning-a-view-versus-a-copy\n",
      "  data_model.drop_duplicates(inplace=True)\n",
      "C:\\Users\\HP\\AppData\\Local\\Temp\\ipykernel_19204\\1146742051.py:2: SettingWithCopyWarning: \n",
      "A value is trying to be set on a copy of a slice from a DataFrame\n",
      "\n",
      "See the caveats in the documentation: https://pandas.pydata.org/pandas-docs/stable/user_guide/indexing.html#returning-a-view-versus-a-copy\n",
      "  data_model.dropna(inplace=True)\n"
     ]
    }
   ],
   "source": [
    "data_model.drop_duplicates(inplace=True)\n",
    "data_model.dropna(inplace=True)"
   ]
  },
  {
   "attachments": {},
   "cell_type": "markdown",
   "metadata": {},
   "source": [
    "### memisah (Split) data menjadi fitur(input) and target(output)"
   ]
  },
  {
   "cell_type": "code",
   "execution_count": 7,
   "metadata": {},
   "outputs": [],
   "source": [
    "X = data_model[['longitude', 'latitude']]\n",
    "y = data_model['userRating']"
   ]
  },
  {
   "attachments": {},
   "cell_type": "markdown",
   "metadata": {},
   "source": [
    "### konversi y menjadi data kategorikal"
   ]
  },
  {
   "cell_type": "code",
   "execution_count": 8,
   "metadata": {},
   "outputs": [],
   "source": [
    "y = tf.keras.utils.to_categorical(y-1, num_classes=5)"
   ]
  },
  {
   "attachments": {},
   "cell_type": "markdown",
   "metadata": {},
   "source": [
    "### memisah (Split) data menjadi himpunan train, test, and validation (50% train, 20% validation, 30% test)"
   ]
  },
  {
   "cell_type": "code",
   "execution_count": 9,
   "metadata": {},
   "outputs": [],
   "source": [
    "X_train_val, X_test, y_train_val, y_test = train_test_split(X, y, test_size=0.3, random_state=42)\n",
    "X_train, X_val, y_train, y_val = train_test_split(X_train_val, y_train_val, test_size=(0.2/0.7), random_state=42)"
   ]
  },
  {
   "attachments": {},
   "cell_type": "markdown",
   "metadata": {},
   "source": [
    "### penskalaan features"
   ]
  },
  {
   "cell_type": "code",
   "execution_count": 10,
   "metadata": {},
   "outputs": [],
   "source": [
    "scaler = StandardScaler()\n",
    "X_train = scaler.fit_transform(X_train)\n",
    "X_val = scaler.transform(X_val)\n",
    "X_test = scaler.transform(X_test)"
   ]
  },
  {
   "attachments": {},
   "cell_type": "markdown",
   "metadata": {},
   "source": [
    "## permodelan"
   ]
  },
  {
   "attachments": {},
   "cell_type": "markdown",
   "metadata": {},
   "source": [
    "### membangun neural network model"
   ]
  },
  {
   "cell_type": "code",
   "execution_count": 11,
   "metadata": {},
   "outputs": [],
   "source": [
    "model = Sequential()\n",
    "model.add(Dense(32, activation='relu', input_shape=(X_train.shape[1],)))\n",
    "model.add(Dense(16, activation='relu'))\n",
    "model.add(Dense(5, activation='softmax'))  # 5 classes"
   ]
  },
  {
   "attachments": {},
   "cell_type": "markdown",
   "metadata": {},
   "source": [
    "### Compile model"
   ]
  },
  {
   "cell_type": "code",
   "execution_count": 12,
   "metadata": {},
   "outputs": [],
   "source": [
    "model.compile(loss='categorical_crossentropy', optimizer='adam', metrics=['accuracy'])"
   ]
  },
  {
   "attachments": {},
   "cell_type": "markdown",
   "metadata": {},
   "source": [
    "### melatih model"
   ]
  },
  {
   "cell_type": "code",
   "execution_count": 13,
   "metadata": {},
   "outputs": [
    {
     "name": "stdout",
     "output_type": "stream",
     "text": [
      "Epoch 1/100\n",
      "8/8 [==============================] - 2s 90ms/step - loss: 1.6270 - accuracy: 0.0085 - val_loss: 1.5778 - val_accuracy: 0.0000e+00\n",
      "Epoch 2/100\n",
      "8/8 [==============================] - 0s 14ms/step - loss: 1.5562 - accuracy: 0.0812 - val_loss: 1.5148 - val_accuracy: 0.2947\n",
      "Epoch 3/100\n",
      "8/8 [==============================] - 0s 14ms/step - loss: 1.5012 - accuracy: 0.6282 - val_loss: 1.4682 - val_accuracy: 0.9895\n",
      "Epoch 4/100\n",
      "8/8 [==============================] - 0s 21ms/step - loss: 1.4597 - accuracy: 0.9658 - val_loss: 1.4289 - val_accuracy: 0.9895\n",
      "Epoch 5/100\n",
      "8/8 [==============================] - 0s 13ms/step - loss: 1.4226 - accuracy: 0.9658 - val_loss: 1.3878 - val_accuracy: 0.9895\n",
      "Epoch 6/100\n",
      "8/8 [==============================] - 0s 13ms/step - loss: 1.3807 - accuracy: 0.9658 - val_loss: 1.3385 - val_accuracy: 0.9895\n",
      "Epoch 7/100\n",
      "8/8 [==============================] - 0s 12ms/step - loss: 1.3275 - accuracy: 0.9658 - val_loss: 1.2639 - val_accuracy: 0.9895\n",
      "Epoch 8/100\n",
      "8/8 [==============================] - 0s 12ms/step - loss: 1.2496 - accuracy: 0.9658 - val_loss: 1.1760 - val_accuracy: 0.9895\n",
      "Epoch 9/100\n",
      "8/8 [==============================] - 0s 13ms/step - loss: 1.1617 - accuracy: 0.9658 - val_loss: 1.0759 - val_accuracy: 0.9895\n",
      "Epoch 10/100\n",
      "8/8 [==============================] - 0s 13ms/step - loss: 1.0653 - accuracy: 0.9658 - val_loss: 0.9700 - val_accuracy: 0.9895\n",
      "Epoch 11/100\n",
      "8/8 [==============================] - 0s 14ms/step - loss: 0.9662 - accuracy: 0.9658 - val_loss: 0.8579 - val_accuracy: 0.9895\n",
      "Epoch 12/100\n",
      "8/8 [==============================] - 0s 14ms/step - loss: 0.8636 - accuracy: 0.9658 - val_loss: 0.7424 - val_accuracy: 0.9895\n",
      "Epoch 13/100\n",
      "8/8 [==============================] - 0s 14ms/step - loss: 0.7575 - accuracy: 0.9658 - val_loss: 0.6313 - val_accuracy: 0.9895\n",
      "Epoch 14/100\n",
      "8/8 [==============================] - 0s 13ms/step - loss: 0.6616 - accuracy: 0.9658 - val_loss: 0.5269 - val_accuracy: 0.9895\n",
      "Epoch 15/100\n",
      "8/8 [==============================] - 0s 12ms/step - loss: 0.5732 - accuracy: 0.9658 - val_loss: 0.4329 - val_accuracy: 0.9895\n",
      "Epoch 16/100\n",
      "8/8 [==============================] - 0s 12ms/step - loss: 0.4920 - accuracy: 0.9658 - val_loss: 0.3521 - val_accuracy: 0.9895\n",
      "Epoch 17/100\n",
      "8/8 [==============================] - 0s 13ms/step - loss: 0.4302 - accuracy: 0.9658 - val_loss: 0.2861 - val_accuracy: 0.9895\n",
      "Epoch 18/100\n",
      "8/8 [==============================] - 0s 12ms/step - loss: 0.3816 - accuracy: 0.9658 - val_loss: 0.2381 - val_accuracy: 0.9895\n",
      "Epoch 19/100\n",
      "8/8 [==============================] - 0s 12ms/step - loss: 0.3480 - accuracy: 0.9658 - val_loss: 0.2032 - val_accuracy: 0.9895\n",
      "Epoch 20/100\n",
      "8/8 [==============================] - 0s 13ms/step - loss: 0.3196 - accuracy: 0.9658 - val_loss: 0.1813 - val_accuracy: 0.9895\n",
      "Epoch 21/100\n",
      "8/8 [==============================] - 0s 13ms/step - loss: 0.3000 - accuracy: 0.9658 - val_loss: 0.1634 - val_accuracy: 0.9895\n",
      "Epoch 22/100\n",
      "8/8 [==============================] - 0s 14ms/step - loss: 0.2845 - accuracy: 0.9658 - val_loss: 0.1515 - val_accuracy: 0.9895\n",
      "Epoch 23/100\n",
      "8/8 [==============================] - 0s 12ms/step - loss: 0.2711 - accuracy: 0.9658 - val_loss: 0.1430 - val_accuracy: 0.9895\n",
      "Epoch 24/100\n",
      "8/8 [==============================] - 0s 13ms/step - loss: 0.2607 - accuracy: 0.9658 - val_loss: 0.1367 - val_accuracy: 0.9895\n",
      "Epoch 25/100\n",
      "8/8 [==============================] - 0s 12ms/step - loss: 0.2523 - accuracy: 0.9658 - val_loss: 0.1322 - val_accuracy: 0.9895\n",
      "Epoch 26/100\n",
      "8/8 [==============================] - 0s 14ms/step - loss: 0.2439 - accuracy: 0.9658 - val_loss: 0.1256 - val_accuracy: 0.9895\n",
      "Epoch 27/100\n",
      "8/8 [==============================] - 0s 13ms/step - loss: 0.2360 - accuracy: 0.9658 - val_loss: 0.1183 - val_accuracy: 0.9895\n",
      "Epoch 28/100\n",
      "8/8 [==============================] - 0s 13ms/step - loss: 0.2287 - accuracy: 0.9658 - val_loss: 0.1125 - val_accuracy: 0.9895\n",
      "Epoch 29/100\n",
      "8/8 [==============================] - 0s 12ms/step - loss: 0.2229 - accuracy: 0.9658 - val_loss: 0.1079 - val_accuracy: 0.9895\n",
      "Epoch 30/100\n",
      "8/8 [==============================] - 0s 13ms/step - loss: 0.2176 - accuracy: 0.9658 - val_loss: 0.1033 - val_accuracy: 0.9895\n",
      "Epoch 31/100\n",
      "8/8 [==============================] - 0s 12ms/step - loss: 0.2132 - accuracy: 0.9658 - val_loss: 0.1009 - val_accuracy: 0.9895\n",
      "Epoch 32/100\n",
      "8/8 [==============================] - 0s 13ms/step - loss: 0.2084 - accuracy: 0.9658 - val_loss: 0.0981 - val_accuracy: 0.9895\n",
      "Epoch 33/100\n",
      "8/8 [==============================] - 0s 12ms/step - loss: 0.2040 - accuracy: 0.9658 - val_loss: 0.0955 - val_accuracy: 0.9895\n",
      "Epoch 34/100\n",
      "8/8 [==============================] - 0s 11ms/step - loss: 0.1989 - accuracy: 0.9658 - val_loss: 0.0936 - val_accuracy: 0.9895\n",
      "Epoch 35/100\n",
      "8/8 [==============================] - 0s 11ms/step - loss: 0.1949 - accuracy: 0.9658 - val_loss: 0.0913 - val_accuracy: 0.9895\n",
      "Epoch 36/100\n",
      "8/8 [==============================] - 0s 11ms/step - loss: 0.1907 - accuracy: 0.9658 - val_loss: 0.0895 - val_accuracy: 0.9895\n",
      "Epoch 37/100\n",
      "8/8 [==============================] - 0s 11ms/step - loss: 0.1870 - accuracy: 0.9658 - val_loss: 0.0920 - val_accuracy: 0.9895\n",
      "Epoch 38/100\n",
      "8/8 [==============================] - 0s 12ms/step - loss: 0.1831 - accuracy: 0.9658 - val_loss: 0.0920 - val_accuracy: 0.9895\n",
      "Epoch 39/100\n",
      "8/8 [==============================] - 0s 11ms/step - loss: 0.1806 - accuracy: 0.9658 - val_loss: 0.0920 - val_accuracy: 0.9895\n",
      "Epoch 40/100\n",
      "8/8 [==============================] - 0s 12ms/step - loss: 0.1771 - accuracy: 0.9658 - val_loss: 0.0908 - val_accuracy: 0.9895\n",
      "Epoch 41/100\n",
      "8/8 [==============================] - 0s 11ms/step - loss: 0.1741 - accuracy: 0.9658 - val_loss: 0.0885 - val_accuracy: 0.9895\n",
      "Epoch 42/100\n",
      "8/8 [==============================] - 0s 12ms/step - loss: 0.1722 - accuracy: 0.9658 - val_loss: 0.0861 - val_accuracy: 0.9895\n",
      "Epoch 43/100\n",
      "8/8 [==============================] - 0s 12ms/step - loss: 0.1711 - accuracy: 0.9658 - val_loss: 0.0843 - val_accuracy: 0.9895\n",
      "Epoch 44/100\n",
      "8/8 [==============================] - 0s 11ms/step - loss: 0.1698 - accuracy: 0.9658 - val_loss: 0.0837 - val_accuracy: 0.9895\n",
      "Epoch 45/100\n",
      "8/8 [==============================] - 0s 12ms/step - loss: 0.1682 - accuracy: 0.9658 - val_loss: 0.0824 - val_accuracy: 0.9895\n",
      "Epoch 46/100\n",
      "8/8 [==============================] - 0s 12ms/step - loss: 0.1671 - accuracy: 0.9658 - val_loss: 0.0838 - val_accuracy: 0.9895\n",
      "Epoch 47/100\n",
      "8/8 [==============================] - 0s 13ms/step - loss: 0.1663 - accuracy: 0.9658 - val_loss: 0.0838 - val_accuracy: 0.9895\n",
      "Epoch 48/100\n",
      "8/8 [==============================] - 0s 12ms/step - loss: 0.1654 - accuracy: 0.9658 - val_loss: 0.0827 - val_accuracy: 0.9895\n",
      "Epoch 49/100\n",
      "8/8 [==============================] - 0s 12ms/step - loss: 0.1648 - accuracy: 0.9658 - val_loss: 0.0808 - val_accuracy: 0.9895\n",
      "Epoch 50/100\n",
      "8/8 [==============================] - 0s 12ms/step - loss: 0.1645 - accuracy: 0.9658 - val_loss: 0.0792 - val_accuracy: 0.9895\n",
      "Epoch 51/100\n",
      "8/8 [==============================] - 0s 13ms/step - loss: 0.1631 - accuracy: 0.9658 - val_loss: 0.0802 - val_accuracy: 0.9895\n",
      "Epoch 52/100\n",
      "8/8 [==============================] - 0s 11ms/step - loss: 0.1629 - accuracy: 0.9658 - val_loss: 0.0809 - val_accuracy: 0.9895\n",
      "Epoch 53/100\n",
      "8/8 [==============================] - 0s 12ms/step - loss: 0.1626 - accuracy: 0.9658 - val_loss: 0.0794 - val_accuracy: 0.9895\n",
      "Epoch 54/100\n",
      "8/8 [==============================] - 0s 12ms/step - loss: 0.1617 - accuracy: 0.9658 - val_loss: 0.0791 - val_accuracy: 0.9895\n",
      "Epoch 55/100\n",
      "8/8 [==============================] - 0s 12ms/step - loss: 0.1612 - accuracy: 0.9658 - val_loss: 0.0792 - val_accuracy: 0.9895\n",
      "Epoch 56/100\n",
      "8/8 [==============================] - 0s 12ms/step - loss: 0.1606 - accuracy: 0.9658 - val_loss: 0.0808 - val_accuracy: 0.9895\n",
      "Epoch 57/100\n",
      "8/8 [==============================] - 0s 13ms/step - loss: 0.1604 - accuracy: 0.9658 - val_loss: 0.0840 - val_accuracy: 0.9895\n",
      "Epoch 58/100\n",
      "8/8 [==============================] - 0s 13ms/step - loss: 0.1610 - accuracy: 0.9658 - val_loss: 0.0865 - val_accuracy: 0.9895\n",
      "Epoch 59/100\n",
      "8/8 [==============================] - 0s 13ms/step - loss: 0.1607 - accuracy: 0.9658 - val_loss: 0.0849 - val_accuracy: 0.9895\n",
      "Epoch 60/100\n",
      "8/8 [==============================] - 0s 12ms/step - loss: 0.1596 - accuracy: 0.9658 - val_loss: 0.0821 - val_accuracy: 0.9895\n",
      "Epoch 61/100\n",
      "8/8 [==============================] - 0s 12ms/step - loss: 0.1589 - accuracy: 0.9658 - val_loss: 0.0794 - val_accuracy: 0.9895\n",
      "Epoch 62/100\n",
      "8/8 [==============================] - 0s 12ms/step - loss: 0.1584 - accuracy: 0.9658 - val_loss: 0.0780 - val_accuracy: 0.9895\n",
      "Epoch 63/100\n",
      "8/8 [==============================] - 0s 12ms/step - loss: 0.1591 - accuracy: 0.9658 - val_loss: 0.0761 - val_accuracy: 0.9895\n",
      "Epoch 64/100\n",
      "8/8 [==============================] - 0s 15ms/step - loss: 0.1581 - accuracy: 0.9658 - val_loss: 0.0785 - val_accuracy: 0.9895\n",
      "Epoch 65/100\n",
      "8/8 [==============================] - 0s 12ms/step - loss: 0.1579 - accuracy: 0.9658 - val_loss: 0.0782 - val_accuracy: 0.9895\n",
      "Epoch 66/100\n",
      "8/8 [==============================] - 0s 12ms/step - loss: 0.1573 - accuracy: 0.9658 - val_loss: 0.0782 - val_accuracy: 0.9895\n",
      "Epoch 67/100\n",
      "8/8 [==============================] - 0s 12ms/step - loss: 0.1571 - accuracy: 0.9658 - val_loss: 0.0780 - val_accuracy: 0.9895\n",
      "Epoch 68/100\n",
      "8/8 [==============================] - 0s 12ms/step - loss: 0.1569 - accuracy: 0.9658 - val_loss: 0.0774 - val_accuracy: 0.9895\n",
      "Epoch 69/100\n",
      "8/8 [==============================] - 0s 11ms/step - loss: 0.1566 - accuracy: 0.9658 - val_loss: 0.0775 - val_accuracy: 0.9895\n",
      "Epoch 70/100\n",
      "8/8 [==============================] - 0s 12ms/step - loss: 0.1571 - accuracy: 0.9658 - val_loss: 0.0765 - val_accuracy: 0.9895\n",
      "Epoch 71/100\n",
      "8/8 [==============================] - 0s 12ms/step - loss: 0.1563 - accuracy: 0.9658 - val_loss: 0.0777 - val_accuracy: 0.9895\n",
      "Epoch 72/100\n",
      "8/8 [==============================] - 0s 12ms/step - loss: 0.1559 - accuracy: 0.9658 - val_loss: 0.0775 - val_accuracy: 0.9895\n",
      "Epoch 73/100\n",
      "8/8 [==============================] - 0s 13ms/step - loss: 0.1559 - accuracy: 0.9658 - val_loss: 0.0777 - val_accuracy: 0.9895\n",
      "Epoch 74/100\n",
      "8/8 [==============================] - 0s 12ms/step - loss: 0.1556 - accuracy: 0.9658 - val_loss: 0.0769 - val_accuracy: 0.9895\n",
      "Epoch 75/100\n",
      "8/8 [==============================] - 0s 12ms/step - loss: 0.1552 - accuracy: 0.9658 - val_loss: 0.0777 - val_accuracy: 0.9895\n",
      "Epoch 76/100\n",
      "8/8 [==============================] - 0s 12ms/step - loss: 0.1552 - accuracy: 0.9658 - val_loss: 0.0780 - val_accuracy: 0.9895\n",
      "Epoch 77/100\n",
      "8/8 [==============================] - 0s 12ms/step - loss: 0.1552 - accuracy: 0.9658 - val_loss: 0.0797 - val_accuracy: 0.9895\n",
      "Epoch 78/100\n",
      "8/8 [==============================] - 0s 12ms/step - loss: 0.1553 - accuracy: 0.9658 - val_loss: 0.0781 - val_accuracy: 0.9895\n",
      "Epoch 79/100\n",
      "8/8 [==============================] - 0s 12ms/step - loss: 0.1553 - accuracy: 0.9658 - val_loss: 0.0802 - val_accuracy: 0.9895\n",
      "Epoch 80/100\n",
      "8/8 [==============================] - 0s 11ms/step - loss: 0.1549 - accuracy: 0.9658 - val_loss: 0.0794 - val_accuracy: 0.9895\n",
      "Epoch 81/100\n",
      "8/8 [==============================] - 0s 11ms/step - loss: 0.1545 - accuracy: 0.9658 - val_loss: 0.0782 - val_accuracy: 0.9895\n",
      "Epoch 82/100\n",
      "8/8 [==============================] - 0s 12ms/step - loss: 0.1551 - accuracy: 0.9658 - val_loss: 0.0762 - val_accuracy: 0.9895\n",
      "Epoch 83/100\n",
      "8/8 [==============================] - 0s 11ms/step - loss: 0.1548 - accuracy: 0.9658 - val_loss: 0.0787 - val_accuracy: 0.9895\n",
      "Epoch 84/100\n",
      "8/8 [==============================] - 0s 13ms/step - loss: 0.1540 - accuracy: 0.9658 - val_loss: 0.0783 - val_accuracy: 0.9895\n",
      "Epoch 85/100\n",
      "8/8 [==============================] - 0s 13ms/step - loss: 0.1539 - accuracy: 0.9658 - val_loss: 0.0784 - val_accuracy: 0.9895\n",
      "Epoch 86/100\n",
      "8/8 [==============================] - 0s 11ms/step - loss: 0.1536 - accuracy: 0.9658 - val_loss: 0.0776 - val_accuracy: 0.9895\n",
      "Epoch 87/100\n",
      "8/8 [==============================] - 0s 12ms/step - loss: 0.1547 - accuracy: 0.9658 - val_loss: 0.0755 - val_accuracy: 0.9895\n",
      "Epoch 88/100\n",
      "8/8 [==============================] - 0s 12ms/step - loss: 0.1542 - accuracy: 0.9658 - val_loss: 0.0803 - val_accuracy: 0.9895\n",
      "Epoch 89/100\n",
      "8/8 [==============================] - 0s 11ms/step - loss: 0.1541 - accuracy: 0.9658 - val_loss: 0.0790 - val_accuracy: 0.9895\n",
      "Epoch 90/100\n",
      "8/8 [==============================] - 0s 13ms/step - loss: 0.1536 - accuracy: 0.9658 - val_loss: 0.0803 - val_accuracy: 0.9895\n",
      "Epoch 91/100\n",
      "8/8 [==============================] - 0s 13ms/step - loss: 0.1540 - accuracy: 0.9658 - val_loss: 0.0776 - val_accuracy: 0.9895\n",
      "Epoch 92/100\n",
      "8/8 [==============================] - 0s 12ms/step - loss: 0.1530 - accuracy: 0.9658 - val_loss: 0.0783 - val_accuracy: 0.9895\n",
      "Epoch 93/100\n",
      "8/8 [==============================] - 0s 12ms/step - loss: 0.1529 - accuracy: 0.9658 - val_loss: 0.0806 - val_accuracy: 0.9895\n",
      "Epoch 94/100\n",
      "8/8 [==============================] - 0s 13ms/step - loss: 0.1536 - accuracy: 0.9658 - val_loss: 0.0830 - val_accuracy: 0.9895\n",
      "Epoch 95/100\n",
      "8/8 [==============================] - 0s 11ms/step - loss: 0.1536 - accuracy: 0.9658 - val_loss: 0.0802 - val_accuracy: 0.9895\n",
      "Epoch 96/100\n",
      "8/8 [==============================] - 0s 11ms/step - loss: 0.1526 - accuracy: 0.9658 - val_loss: 0.0781 - val_accuracy: 0.9895\n",
      "Epoch 97/100\n",
      "8/8 [==============================] - 0s 11ms/step - loss: 0.1521 - accuracy: 0.9658 - val_loss: 0.0782 - val_accuracy: 0.9895\n",
      "Epoch 98/100\n",
      "8/8 [==============================] - 0s 13ms/step - loss: 0.1520 - accuracy: 0.9658 - val_loss: 0.0774 - val_accuracy: 0.9895\n",
      "Epoch 99/100\n",
      "8/8 [==============================] - 0s 13ms/step - loss: 0.1520 - accuracy: 0.9658 - val_loss: 0.0766 - val_accuracy: 0.9895\n",
      "Epoch 100/100\n",
      "8/8 [==============================] - 0s 13ms/step - loss: 0.1519 - accuracy: 0.9658 - val_loss: 0.0762 - val_accuracy: 0.9895\n"
     ]
    }
   ],
   "source": [
    "history = model.fit(X_train, y_train, validation_data=(X_val, y_val), epochs=100, batch_size=32)"
   ]
  },
  {
   "attachments": {},
   "cell_type": "markdown",
   "metadata": {},
   "source": [
    "### mengevaluasi model"
   ]
  },
  {
   "cell_type": "code",
   "execution_count": 14,
   "metadata": {},
   "outputs": [
    {
     "name": "stdout",
     "output_type": "stream",
     "text": [
      "5/5 [==============================] - 0s 3ms/step - loss: 0.1635 - accuracy: 0.9718\n"
     ]
    }
   ],
   "source": [
    "loss, accuracy = model.evaluate(X_test, y_test)"
   ]
  },
  {
   "attachments": {},
   "cell_type": "markdown",
   "metadata": {},
   "source": [
    "### print hasil dari pelatihan"
   ]
  },
  {
   "cell_type": "code",
   "execution_count": 15,
   "metadata": {},
   "outputs": [
    {
     "name": "stdout",
     "output_type": "stream",
     "text": [
      "Train Accuracy:  0.9658119678497314\n",
      "Validation Accuracy:  0.9894737005233765\n",
      "Train Loss:  0.15188539028167725\n",
      "Validation Loss:  0.07552248239517212\n"
     ]
    }
   ],
   "source": [
    "print('Train Accuracy: ', max(history.history['accuracy']))\n",
    "print('Validation Accuracy: ', max(history.history['val_accuracy']))\n",
    "print('Train Loss: ', min(history.history['loss']))\n",
    "print('Validation Loss: ', min(history.history['val_loss']))"
   ]
  },
  {
   "cell_type": "code",
   "execution_count": 18,
   "metadata": {},
   "outputs": [
    {
     "data": {
      "image/png": "[encoded data removed]",
      "text/plain": [
       "<Figure size 1200x400 with 2 Axes>"
      ]
     },
     "metadata": {},
     "output_type": "display_data"
    }
   ],
   "source": [
    "# Plotting the training history\n",
    "plt.figure(figsize=(12, 4))\n",
    "\n",
    "plt.subplot(1, 2, 1)\n",
    "plt.plot(history.history['accuracy'], label='Train Accuracy')\n",
    "plt.plot(history.history['val_accuracy'], label='Validation Accuracy')\n",
    "plt.legend()\n",
    "plt.title('Accuracy')\n",
    "\n",
    "plt.subplot(1, 2, 2)\n",
    "plt.plot(history.history['loss'], label='Train Loss')\n",
    "plt.plot(history.history['val_loss'], label='Validation Loss')\n",
    "plt.legend()\n",
    "plt.title('Loss')\n",
    "\n",
    "plt.show()"
   ]
  },
  {
   "attachments": {},
   "cell_type": "markdown",
   "metadata": {},
   "source": [
    "## menyimpan model"
   ]
  },
  {
   "attachments": {},
   "cell_type": "markdown",
   "metadata": {},
   "source": [
    "### Save model dan scaler-nya"
   ]
  },
  {
   "cell_type": "code",
   "execution_count": 16,
   "metadata": {},
   "outputs": [],
   "source": [
    "model.save('data_hotel.h5')\n",
    "with open('scaler.pkl', 'wb') as f:\n",
    "    pickle.dump(scaler, f)"
   ]
  },
  {
   "attachments": {},
   "cell_type": "markdown",
   "metadata": {},
   "source": [
    "### Save data-nya"
   ]
  },
  {
   "cell_type": "code",
   "execution_count": 17,
   "metadata": {},
   "outputs": [],
   "source": [
    "data_model.to_csv('processed_data_hotel.csv', index=False)"
   ]
  },
  {
   "cell_type": "code",
   "execution_count": null,
   "metadata": {},
   "outputs": [],
   "source": []
  }
 ],
 "metadata": {
  "kernelspec": {
   "display_name": "teguhpy",
   "language": "python",
   "name": "python3"
  },
  "language_info": {
   "codemirror_mode": {
    "name": "ipython",
    "version": 3
   },
   "file_extension": ".py",
   "mimetype": "text/x-python",
   "name": "python",
   "nbconvert_exporter": "python",
   "pygments_lexer": "ipython3",
   "version": "3.10.11"
  },
  "orig_nbformat": 4
 },
 "nbformat": 4,
 "nbformat_minor": 2
}
